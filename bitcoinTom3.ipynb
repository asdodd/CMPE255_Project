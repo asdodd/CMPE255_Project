{
 "cells": [
  {
   "cell_type": "markdown",
   "metadata": {},
   "source": [
    "# Neural Net using BitcoinHeistData\n",
    "\n",
    "Inspired by: https://www.freecodecamp.org/news/how-to-build-your-first-neural-network-to-predict-house-prices-with-keras-f8db83049159/"
   ]
  },
  {
   "cell_type": "markdown",
   "metadata": {},
   "source": [
    "# Load and process the data"
   ]
  },
  {
   "cell_type": "code",
   "execution_count": 1,
   "metadata": {},
   "outputs": [
    {
     "data": {
      "text/html": [
       "<div>\n",
       "<style scoped>\n",
       "    .dataframe tbody tr th:only-of-type {\n",
       "        vertical-align: middle;\n",
       "    }\n",
       "\n",
       "    .dataframe tbody tr th {\n",
       "        vertical-align: top;\n",
       "    }\n",
       "\n",
       "    .dataframe thead th {\n",
       "        text-align: right;\n",
       "    }\n",
       "</style>\n",
       "<table border=\"1\" class=\"dataframe\">\n",
       "  <thead>\n",
       "    <tr style=\"text-align: right;\">\n",
       "      <th></th>\n",
       "      <th>address</th>\n",
       "      <th>year</th>\n",
       "      <th>day</th>\n",
       "      <th>length</th>\n",
       "      <th>weight</th>\n",
       "      <th>count</th>\n",
       "      <th>looped</th>\n",
       "      <th>neighbors</th>\n",
       "      <th>income</th>\n",
       "      <th>label</th>\n",
       "    </tr>\n",
       "  </thead>\n",
       "  <tbody>\n",
       "    <tr>\n",
       "      <th>0</th>\n",
       "      <td>111K8kZAEnJg245r2cM6y9zgJGHZtJPy6</td>\n",
       "      <td>2017</td>\n",
       "      <td>11</td>\n",
       "      <td>18</td>\n",
       "      <td>0.008333</td>\n",
       "      <td>1</td>\n",
       "      <td>0</td>\n",
       "      <td>2</td>\n",
       "      <td>1.000500e+08</td>\n",
       "      <td>princetonCerber</td>\n",
       "    </tr>\n",
       "    <tr>\n",
       "      <th>1</th>\n",
       "      <td>1123pJv8jzeFQaCV4w644pzQJzVWay2zcA</td>\n",
       "      <td>2016</td>\n",
       "      <td>132</td>\n",
       "      <td>44</td>\n",
       "      <td>0.000244</td>\n",
       "      <td>1</td>\n",
       "      <td>0</td>\n",
       "      <td>1</td>\n",
       "      <td>1.000000e+08</td>\n",
       "      <td>princetonLocky</td>\n",
       "    </tr>\n",
       "    <tr>\n",
       "      <th>2</th>\n",
       "      <td>112536im7hy6wtKbpH1qYDWtTyMRAcA2p7</td>\n",
       "      <td>2016</td>\n",
       "      <td>246</td>\n",
       "      <td>0</td>\n",
       "      <td>1.000000</td>\n",
       "      <td>1</td>\n",
       "      <td>0</td>\n",
       "      <td>2</td>\n",
       "      <td>2.000000e+08</td>\n",
       "      <td>princetonCerber</td>\n",
       "    </tr>\n",
       "    <tr>\n",
       "      <th>3</th>\n",
       "      <td>1126eDRw2wqSkWosjTCre8cjjQW8sSeWH7</td>\n",
       "      <td>2016</td>\n",
       "      <td>322</td>\n",
       "      <td>72</td>\n",
       "      <td>0.003906</td>\n",
       "      <td>1</td>\n",
       "      <td>0</td>\n",
       "      <td>2</td>\n",
       "      <td>7.120000e+07</td>\n",
       "      <td>princetonCerber</td>\n",
       "    </tr>\n",
       "    <tr>\n",
       "      <th>4</th>\n",
       "      <td>1129TSjKtx65E35GiUo4AYVeyo48twbrGX</td>\n",
       "      <td>2016</td>\n",
       "      <td>238</td>\n",
       "      <td>144</td>\n",
       "      <td>0.072848</td>\n",
       "      <td>456</td>\n",
       "      <td>0</td>\n",
       "      <td>1</td>\n",
       "      <td>2.000000e+08</td>\n",
       "      <td>princetonLocky</td>\n",
       "    </tr>\n",
       "    <tr>\n",
       "      <th>...</th>\n",
       "      <td>...</td>\n",
       "      <td>...</td>\n",
       "      <td>...</td>\n",
       "      <td>...</td>\n",
       "      <td>...</td>\n",
       "      <td>...</td>\n",
       "      <td>...</td>\n",
       "      <td>...</td>\n",
       "      <td>...</td>\n",
       "      <td>...</td>\n",
       "    </tr>\n",
       "    <tr>\n",
       "      <th>2916692</th>\n",
       "      <td>12D3trgho1vJ4mGtWBRPyHdMJK96TRYSry</td>\n",
       "      <td>2018</td>\n",
       "      <td>330</td>\n",
       "      <td>0</td>\n",
       "      <td>0.111111</td>\n",
       "      <td>1</td>\n",
       "      <td>0</td>\n",
       "      <td>1</td>\n",
       "      <td>1.255809e+09</td>\n",
       "      <td>white</td>\n",
       "    </tr>\n",
       "    <tr>\n",
       "      <th>2916693</th>\n",
       "      <td>1P7PputTcVkhXBmXBvSD9MJ3UYPsiou1u2</td>\n",
       "      <td>2018</td>\n",
       "      <td>330</td>\n",
       "      <td>0</td>\n",
       "      <td>1.000000</td>\n",
       "      <td>1</td>\n",
       "      <td>0</td>\n",
       "      <td>1</td>\n",
       "      <td>4.409699e+07</td>\n",
       "      <td>white</td>\n",
       "    </tr>\n",
       "    <tr>\n",
       "      <th>2916694</th>\n",
       "      <td>1KYiKJEfdJtap9QX2v9BXJMpz2SfU4pgZw</td>\n",
       "      <td>2018</td>\n",
       "      <td>330</td>\n",
       "      <td>2</td>\n",
       "      <td>12.000000</td>\n",
       "      <td>6</td>\n",
       "      <td>6</td>\n",
       "      <td>35</td>\n",
       "      <td>2.398267e+09</td>\n",
       "      <td>white</td>\n",
       "    </tr>\n",
       "    <tr>\n",
       "      <th>2916695</th>\n",
       "      <td>15iPUJsRNZQZHmZZVwmQ63srsmughCXV4a</td>\n",
       "      <td>2018</td>\n",
       "      <td>330</td>\n",
       "      <td>0</td>\n",
       "      <td>0.500000</td>\n",
       "      <td>1</td>\n",
       "      <td>0</td>\n",
       "      <td>1</td>\n",
       "      <td>1.780427e+08</td>\n",
       "      <td>white</td>\n",
       "    </tr>\n",
       "    <tr>\n",
       "      <th>2916696</th>\n",
       "      <td>3LFFBxp15h9KSFtaw55np8eP5fv6kdK17e</td>\n",
       "      <td>2018</td>\n",
       "      <td>330</td>\n",
       "      <td>144</td>\n",
       "      <td>0.073972</td>\n",
       "      <td>6800</td>\n",
       "      <td>0</td>\n",
       "      <td>2</td>\n",
       "      <td>1.123500e+08</td>\n",
       "      <td>white</td>\n",
       "    </tr>\n",
       "  </tbody>\n",
       "</table>\n",
       "<p>2916697 rows × 10 columns</p>\n",
       "</div>"
      ],
      "text/plain": [
       "                                    address  year  day  length     weight  \\\n",
       "0         111K8kZAEnJg245r2cM6y9zgJGHZtJPy6  2017   11      18   0.008333   \n",
       "1        1123pJv8jzeFQaCV4w644pzQJzVWay2zcA  2016  132      44   0.000244   \n",
       "2        112536im7hy6wtKbpH1qYDWtTyMRAcA2p7  2016  246       0   1.000000   \n",
       "3        1126eDRw2wqSkWosjTCre8cjjQW8sSeWH7  2016  322      72   0.003906   \n",
       "4        1129TSjKtx65E35GiUo4AYVeyo48twbrGX  2016  238     144   0.072848   \n",
       "...                                     ...   ...  ...     ...        ...   \n",
       "2916692  12D3trgho1vJ4mGtWBRPyHdMJK96TRYSry  2018  330       0   0.111111   \n",
       "2916693  1P7PputTcVkhXBmXBvSD9MJ3UYPsiou1u2  2018  330       0   1.000000   \n",
       "2916694  1KYiKJEfdJtap9QX2v9BXJMpz2SfU4pgZw  2018  330       2  12.000000   \n",
       "2916695  15iPUJsRNZQZHmZZVwmQ63srsmughCXV4a  2018  330       0   0.500000   \n",
       "2916696  3LFFBxp15h9KSFtaw55np8eP5fv6kdK17e  2018  330     144   0.073972   \n",
       "\n",
       "         count  looped  neighbors        income            label  \n",
       "0            1       0          2  1.000500e+08  princetonCerber  \n",
       "1            1       0          1  1.000000e+08   princetonLocky  \n",
       "2            1       0          2  2.000000e+08  princetonCerber  \n",
       "3            1       0          2  7.120000e+07  princetonCerber  \n",
       "4          456       0          1  2.000000e+08   princetonLocky  \n",
       "...        ...     ...        ...           ...              ...  \n",
       "2916692      1       0          1  1.255809e+09            white  \n",
       "2916693      1       0          1  4.409699e+07            white  \n",
       "2916694      6       6         35  2.398267e+09            white  \n",
       "2916695      1       0          1  1.780427e+08            white  \n",
       "2916696   6800       0          2  1.123500e+08            white  \n",
       "\n",
       "[2916697 rows x 10 columns]"
      ]
     },
     "execution_count": 1,
     "metadata": {},
     "output_type": "execute_result"
    }
   ],
   "source": [
    "import pandas as pd\n",
    "df = pd.read_csv('BitcoinHeistData.csv')\n",
    "df"
   ]
  },
  {
   "cell_type": "markdown",
   "metadata": {},
   "source": [
    "Split the dataset into our input features (X) and the label (Y) we wish to predict."
   ]
  },
  {
   "cell_type": "code",
   "execution_count": 2,
   "metadata": {},
   "outputs": [
    {
     "name": "stdout",
     "output_type": "stream",
     "text": [
      "(2916697, 8)\n",
      "(2916697,)\n",
      "         year  day  length     weight  count  looped  neighbors        income\n",
      "0        2017   11      18   0.008333      1       0          2  1.000500e+08\n",
      "1        2016  132      44   0.000244      1       0          1  1.000000e+08\n",
      "2        2016  246       0   1.000000      1       0          2  2.000000e+08\n",
      "3        2016  322      72   0.003906      1       0          2  7.120000e+07\n",
      "4        2016  238     144   0.072848    456       0          1  2.000000e+08\n",
      "...       ...  ...     ...        ...    ...     ...        ...           ...\n",
      "2916692  2018  330       0   0.111111      1       0          1  1.255809e+09\n",
      "2916693  2018  330       0   1.000000      1       0          1  4.409699e+07\n",
      "2916694  2018  330       2  12.000000      6       6         35  2.398267e+09\n",
      "2916695  2018  330       0   0.500000      1       0          1  1.780427e+08\n",
      "2916696  2018  330     144   0.073972   6800       0          2  1.123500e+08\n",
      "\n",
      "[2916697 rows x 8 columns]\n",
      "0          princetonCerber\n",
      "1           princetonLocky\n",
      "2          princetonCerber\n",
      "3          princetonCerber\n",
      "4           princetonLocky\n",
      "                ...       \n",
      "2916692              white\n",
      "2916693              white\n",
      "2916694              white\n",
      "2916695              white\n",
      "2916696              white\n",
      "Name: label, Length: 2916697, dtype: object\n",
      "0          False\n",
      "1          False\n",
      "2          False\n",
      "3          False\n",
      "4          False\n",
      "           ...  \n",
      "2916692     True\n",
      "2916693     True\n",
      "2916694     True\n",
      "2916695     True\n",
      "2916696     True\n",
      "Name: label, Length: 2916697, dtype: bool\n",
      "0.9858014048082472\n"
     ]
    }
   ],
   "source": [
    "import numpy as np\n",
    "\n",
    "X=df.iloc[:, 1:9]\n",
    "Ytmp=df.iloc[:, -1]\n",
    "\n",
    "print(X.shape)\n",
    "print(Ytmp.shape)\n",
    "\n",
    "print(X)\n",
    "print(Ytmp)\n",
    "\n",
    "# Convert the label to true false for simplicity (True==white, False==heist)\n",
    "Y = Ytmp.str.contains('white')\n",
    "print(Y)\n",
    "numWhite = np.count_nonzero(Y)\n",
    "print(numWhite/len(Y))"
   ]
  },
  {
   "cell_type": "markdown",
   "metadata": {},
   "source": [
    "Normalize the data so one feature does not dominate.\n",
    "Use a min-max scaler from scikit-learn which scales our data to be between 0 and 1."
   ]
  },
  {
   "cell_type": "code",
   "execution_count": 3,
   "metadata": {},
   "outputs": [
    {
     "data": {
      "text/plain": [
       "array([[8.57142857e-01, 2.74725275e-02, 1.25000000e-01, ...,\n",
       "        0.00000000e+00, 7.74053719e-05, 1.40199911e-06],\n",
       "       [7.14285714e-01, 3.59890110e-01, 3.05555556e-01, ...,\n",
       "        0.00000000e+00, 0.00000000e+00, 1.40099840e-06],\n",
       "       [7.14285714e-01, 6.73076923e-01, 0.00000000e+00, ...,\n",
       "        0.00000000e+00, 7.74053719e-05, 3.40242469e-06],\n",
       "       ...,\n",
       "       [1.00000000e+00, 9.03846154e-01, 1.38888889e-02, ...,\n",
       "        4.13907285e-04, 2.63178265e-03, 4.73991240e-05],\n",
       "       [1.00000000e+00, 9.03846154e-01, 0.00000000e+00, ...,\n",
       "        0.00000000e+00, 0.00000000e+00, 2.96296491e-06],\n",
       "       [1.00000000e+00, 9.03846154e-01, 1.00000000e+00, ...,\n",
       "        0.00000000e+00, 7.74053719e-05, 1.64817455e-06]])"
      ]
     },
     "execution_count": 3,
     "metadata": {},
     "output_type": "execute_result"
    }
   ],
   "source": [
    "from sklearn import preprocessing\n",
    "\n",
    "min_max_scaler = preprocessing.MinMaxScaler()\n",
    "X_scale = min_max_scaler.fit_transform(X)\n",
    "X_scale"
   ]
  },
  {
   "cell_type": "markdown",
   "metadata": {},
   "source": [
    "Split the dataset for a validation set and a test set."
   ]
  },
  {
   "cell_type": "code",
   "execution_count": 4,
   "metadata": {},
   "outputs": [
    {
     "name": "stdout",
     "output_type": "stream",
     "text": [
      "(2041687, 8) (437505, 8) (437505, 8) (2041687,) (437505,) (437505,)\n"
     ]
    }
   ],
   "source": [
    "from sklearn.model_selection import train_test_split\n",
    "\n",
    "X_train, X_val_and_test, Y_train, Y_val_and_test = train_test_split(X_scale, Y, test_size=0.3)\n",
    "X_val, X_test, Y_val, Y_test = train_test_split(X_val_and_test, Y_val_and_test, test_size=0.5)\n",
    "print(X_train.shape, X_val.shape, X_test.shape, Y_train.shape, Y_val.shape, Y_test.shape)"
   ]
  },
  {
   "cell_type": "markdown",
   "metadata": {},
   "source": [
    "# Build and train Naive Bayes"
   ]
  },
  {
   "cell_type": "code",
   "execution_count": 5,
   "metadata": {},
   "outputs": [
    {
     "name": "stdout",
     "output_type": "stream",
     "text": [
      "Number of mislabeled test points = 298966 or 0.6833430475080284\n"
     ]
    }
   ],
   "source": [
    "# Gaussian Naive Bayes\n",
    "from sklearn.naive_bayes import GaussianNB\n",
    "\n",
    "gnb = GaussianNB()\n",
    "y_predGNB = gnb.fit(X_train, Y_train).predict(X_test)\n",
    "numWrongGNB = (Y_test != y_predGNB).sum()\n",
    "print(\"Number of mislabeled test points = \" + str(numWrongGNB) + \" or \" + str(numWrongGNB/437505))"
   ]
  },
  {
   "cell_type": "code",
   "execution_count": 6,
   "metadata": {},
   "outputs": [
    {
     "name": "stdout",
     "output_type": "stream",
     "text": [
      "score on test: 0.9856413069564919\n",
      "score on train: 0.9858474878862431\n"
     ]
    }
   ],
   "source": [
    "# Nultinomial Naive Bayes\n",
    "from sklearn.naive_bayes import MultinomialNB\n",
    "\n",
    "mnb = MultinomialNB().fit(X_train, Y_train)\n",
    "print(\"score on test: \" + str(mnb.score(X_test, Y_test)))\n",
    "print(\"score on train: \"+ str(mnb.score(X_train, Y_train)))"
   ]
  },
  {
   "cell_type": "markdown",
   "metadata": {},
   "source": [
    "# Build and train Logistic Regression"
   ]
  },
  {
   "cell_type": "code",
   "execution_count": 7,
   "metadata": {},
   "outputs": [
    {
     "name": "stdout",
     "output_type": "stream",
     "text": [
      "score on test: 0.9856413069564919\n",
      "score on train: 0.9858474878862431\n"
     ]
    }
   ],
   "source": [
    "# Logistic regression\n",
    "from sklearn.linear_model import LogisticRegression\n",
    "\n",
    "lr=LogisticRegression(max_iter=1000)\n",
    "lr.fit(X_train, Y_train)\n",
    "print(\"score on test: \" + str(lr.score(X_test, Y_test)))\n",
    "print(\"score on train: \"+ str(lr.score(X_train, Y_train)))"
   ]
  },
  {
   "cell_type": "markdown",
   "metadata": {},
   "source": [
    "# Build and train a Neural Network"
   ]
  },
  {
   "cell_type": "markdown",
   "metadata": {},
   "source": [
    "Use Keras to build the neural net."
   ]
  },
  {
   "cell_type": "code",
   "execution_count": 8,
   "metadata": {},
   "outputs": [],
   "source": [
    "from keras.models import Sequential\n",
    "from keras.layers import Dense"
   ]
  },
  {
   "cell_type": "markdown",
   "metadata": {},
   "source": [
    "We will be using the Sequential model, which means that we merely need to describe the layers above in sequence. Our neural network has three layers:\n",
    "\n",
    "- Hidden layer 1: 30 neurons, ReLU activation\n",
    "- Hidden layer 2: 30 neurons, ReLU activation\n",
    "- Output Layer: 1 neuron, Sigmoid activation"
   ]
  },
  {
   "cell_type": "code",
   "execution_count": 9,
   "metadata": {},
   "outputs": [],
   "source": [
    "modelNN = Sequential([\n",
    "    Dense(32, activation='relu', input_shape=(8,)),\n",
    "    Dense(32, activation='relu'),\n",
    "    Dense(1, activation='sigmoid'),\n",
    "])"
   ]
  },
  {
   "cell_type": "markdown",
   "metadata": {},
   "source": [
    "Now that we've got our architecture specified, we need to find the best numbers for it. Before we start our training, we have to configure the model by\n",
    "- Telling it what algorithm you want to use to do the optimization (we'll use stochastic gradient descent)\n",
    "- Telling it what loss function to use (for binary classification, we will use binary cross entropy)\n",
    "- Telling it what other metrics you want to track apart from the loss function (we want to track accuracy as well)\n",
    "\n",
    "We do so below:"
   ]
  },
  {
   "cell_type": "code",
   "execution_count": 10,
   "metadata": {},
   "outputs": [],
   "source": [
    "modelNN.compile(optimizer='sgd',\n",
    "              loss='binary_crossentropy',\n",
    "              metrics=['accuracy'])"
   ]
  },
  {
   "cell_type": "markdown",
   "metadata": {},
   "source": [
    "Training on the data is pretty straightforward and requires us to write one line of code. The function is called 'fit' as we are fitting the parameters to the data. We specify:\n",
    "- what data we are training on, which is X_train and Y_train\n",
    "- the size of our mini-batch \n",
    "- how long we want to train it for (epochs)\n",
    "- what our validation data is so that the model will tell us how we are doing on the validation data at each point.\n",
    "\n",
    "This function will output a history, which we save under the variable hist. We'll use this variable a little later."
   ]
  },
  {
   "cell_type": "code",
   "execution_count": 11,
   "metadata": {},
   "outputs": [
    {
     "name": "stdout",
     "output_type": "stream",
     "text": [
      "Epoch 1/5\n",
      "63803/63803 [==============================] - 35s 467us/step - loss: 0.0816 - accuracy: 0.9855 - val_loss: 0.0725 - val_accuracy: 0.9857\n",
      "Epoch 2/5\n",
      "63803/63803 [==============================] - 30s 468us/step - loss: 0.0714 - accuracy: 0.9859 - val_loss: 0.0702 - val_accuracy: 0.9857\n",
      "Epoch 3/5\n",
      "63803/63803 [==============================] - 30s 469us/step - loss: 0.0697 - accuracy: 0.9858 - val_loss: 0.0684 - val_accuracy: 0.9857\n",
      "Epoch 4/5\n",
      "63803/63803 [==============================] - 30s 467us/step - loss: 0.0678 - accuracy: 0.9859 - val_loss: 0.0677 - val_accuracy: 0.9857\n",
      "Epoch 5/5\n",
      "63803/63803 [==============================] - 30s 469us/step - loss: 0.0672 - accuracy: 0.9859 - val_loss: 0.0674 - val_accuracy: 0.9857\n"
     ]
    }
   ],
   "source": [
    "# We usually train with more epochs (~100), but each epoch same here (issue?)\n",
    "hist = modelNN.fit(X_train, Y_train,\n",
    "          batch_size=32, epochs=5,\n",
    "          validation_data=(X_val, Y_val))"
   ]
  },
  {
   "cell_type": "markdown",
   "metadata": {},
   "source": [
    "Evaluating our NN model on the test set:"
   ]
  },
  {
   "cell_type": "code",
   "execution_count": 12,
   "metadata": {},
   "outputs": [
    {
     "name": "stdout",
     "output_type": "stream",
     "text": [
      "13673/13673 [==============================] - 4s 317us/step - loss: 0.0679 - accuracy: 0.9856\n"
     ]
    }
   ],
   "source": [
    "modelNN.evaluate(X_test, Y_test)[1]\n",
    "y_predNN = modelNN.predict(X_test)"
   ]
  },
  {
   "cell_type": "code",
   "execution_count": 13,
   "metadata": {},
   "outputs": [
    {
     "name": "stdout",
     "output_type": "stream",
     "text": [
      "<class 'numpy.ndarray'>\n",
      "[[0.9995408 ]\n",
      " [0.97968364]\n",
      " [0.9991926 ]\n",
      " ...\n",
      " [0.95137215]\n",
      " [0.9903852 ]\n",
      " [0.9999464 ]]\n",
      "[0.94172037 0.9417311  0.94178313 ... 0.99994934 0.9999494  0.99994946]\n",
      "0.94172037\n",
      "[[1.]\n",
      " [1.]\n",
      " [1.]\n",
      " ...\n",
      " [1.]\n",
      " [1.]\n",
      " [1.]]\n",
      "[1.]\n",
      "<class 'numpy.float32'>\n"
     ]
    }
   ],
   "source": [
    "print(type(y_predNN))\n",
    "print(y_predNN)\n",
    "print(np.unique(y_predNN))\n",
    "print(np.amin(y_predNN))\n",
    "\n",
    "# Convert probabilities to 0/1 to represent classes True/False\n",
    "y_classes = np.round(y_predNN)\n",
    "print(y_classes)\n",
    "print(np.unique(y_classes[0]))\n",
    "print(type(y_classes[0][0]))"
   ]
  },
  {
   "cell_type": "markdown",
   "metadata": {},
   "source": [
    "# Visualizing Loss and Accuracy"
   ]
  },
  {
   "cell_type": "code",
   "execution_count": 14,
   "metadata": {},
   "outputs": [],
   "source": [
    "import matplotlib.pyplot as plt"
   ]
  },
  {
   "cell_type": "markdown",
   "metadata": {},
   "source": [
    "We want to visualize the training loss and the validation loss like this:"
   ]
  },
  {
   "cell_type": "code",
   "execution_count": 15,
   "metadata": {},
   "outputs": [
    {
     "data": {
      "image/png": "[encoded data removed]",
      "text/plain": [
       "<Figure size 432x288 with 1 Axes>"
      ]
     },
     "metadata": {
      "needs_background": "light"
     },
     "output_type": "display_data"
    },
    {
     "name": "stdout",
     "output_type": "stream",
     "text": [
      "dict_keys(['loss', 'accuracy', 'val_loss', 'val_accuracy'])\n"
     ]
    }
   ],
   "source": [
    "plt.plot(hist.history['loss'])\n",
    "plt.plot(hist.history['val_loss'])\n",
    "plt.title('Model loss')\n",
    "plt.ylabel('Loss')\n",
    "plt.xlabel('Epoch')\n",
    "plt.legend(['Train', 'Val'], loc='upper right')\n",
    "plt.show()\n",
    "\n",
    "print(hist.history.keys())"
   ]
  },
  {
   "cell_type": "markdown",
   "metadata": {},
   "source": [
    "We can also visualize the training accuracy and the validation accuracy like this:"
   ]
  },
  {
   "cell_type": "code",
   "execution_count": 16,
   "metadata": {},
   "outputs": [
    {
     "data": {
      "image/png": "[encoded data removed]",
      "text/plain": [
       "<Figure size 432x288 with 1 Axes>"
      ]
     },
     "metadata": {
      "needs_background": "light"
     },
     "output_type": "display_data"
    }
   ],
   "source": [
    "plt.plot(hist.history['accuracy'], '-o')\n",
    "plt.plot(hist.history['val_accuracy'], '-x')\n",
    "plt.title('Model accuracy')\n",
    "plt.ylabel('Accuracy')\n",
    "plt.xlabel('Epoch')\n",
    "#plt.ylim(0.95, 1)\n",
    "plt.legend(['Train', 'Val'], loc='lower right')\n",
    "plt.show()"
   ]
  },
  {
   "cell_type": "code",
   "execution_count": 17,
   "metadata": {},
   "outputs": [
    {
     "name": "stdout",
     "output_type": "stream",
     "text": [
      "(437505, 8)\n",
      "(437505,)\n",
      "<class 'numpy.ndarray'>\n",
      "<class 'pandas.core.series.Series'>\n",
      "{'verbose': 1, 'epochs': 5, 'steps': 63803}\n",
      "dict_keys(['loss', 'accuracy', 'val_loss', 'val_accuracy'])\n"
     ]
    }
   ],
   "source": [
    "print(X_test.shape)\n",
    "print(Y_test.shape)\n",
    "print(type(X_test))\n",
    "print(type(Y_test))\n",
    "print(hist.params)\n",
    "print(hist.history.keys())\n",
    "\n",
    "# Look at results where label is not 'white'.  Do we ever predict a heist?\n",
    "#print(X_test[1,:])\n",
    "#fooY = Y_test.to_numpy()\n",
    "#print(fooY[1])\n",
    "#idxWhite = np.where(Y_test)[0]\n",
    "#print(type(idxWhite))\n",
    "#print(idxWhite.shape)\n",
    "#model.evaluate(X_test[idxWhite,:], Y_test[idxWhite])\n",
    "\n",
    "#for i in range(X_test):\n",
    "#    xt = X_test[i]\n",
    "#    yt = Y_test[i]\n",
    "#    model.evaluate(xt, yt)[1]\n",
    "#    break;"
   ]
  },
  {
   "cell_type": "code",
   "execution_count": 18,
   "metadata": {},
   "outputs": [
    {
     "data": {
      "text/plain": [
       "RandomForestClassifier()"
      ]
     },
     "execution_count": 18,
     "metadata": {},
     "output_type": "execute_result"
    }
   ],
   "source": [
    "# Random forests\\n\",\n",
    "from numpy import mean\n",
    "from numpy import std\n",
    "from sklearn.datasets import make_classification\n",
    "from sklearn.model_selection import cross_val_score\n",
    "from sklearn.model_selection import RepeatedStratifiedKFold\n",
    "from sklearn.ensemble import RandomForestClassifier\n",
    "\n",
    "# define the model\n",
    "modelRF = RandomForestClassifier()\n",
    "modelRF.fit(X_train, Y_train)"
   ]
  },
  {
   "cell_type": "code",
   "execution_count": 19,
   "metadata": {},
   "outputs": [
    {
     "name": "stdout",
     "output_type": "stream",
     "text": [
      "Accuracy: 0.986 (0.000)\n",
      "[ True  True  True ...  True  True  True]\n",
      "[False  True]\n"
     ]
    }
   ],
   "source": [
    "# evaluate the model\n",
    "cv = RepeatedStratifiedKFold(n_splits=10, n_repeats=3, random_state=1)\n",
    "n_scores = cross_val_score(modelRF, X_val, Y_val, scoring='accuracy', cv=cv, n_jobs=-1, error_score='raise')\n",
    "# report performance\n",
    "print('Accuracy: %.3f (%.3f)' % (mean(n_scores), std(n_scores)))\n",
    "\n",
    "y_predRF = modelRF.predict(X_test)\n",
    "y_predRF.astype(int)\n",
    "print(y_predRF)\n",
    "print(np.unique(y_predRF))\n"
   ]
  },
  {
   "cell_type": "code",
   "execution_count": 20,
   "metadata": {},
   "outputs": [
    {
     "name": "stdout",
     "output_type": "stream",
     "text": [
      "<class 'numpy.ndarray'>\n",
      "<class 'pandas.core.series.Series'>\n",
      "<class 'numpy.bool_'>\n",
      "(437505,)\n",
      "(437505,)\n",
      "True\n",
      "True\n",
      "Number in test set=True  is 431223\n",
      "Number in test set=False is 6282\n",
      "numCorrect (T & F)   =431579\n",
      "numIncorrect (T & F) =5925\n",
      "Of white samples, RF correctly identified 430942 or 0.999348364999084\n",
      "Of heist samples, RF correctly identified 637 or 0.10140082776185928\n",
      "------------------\n",
      "tp   =430942\n",
      "tn   =637\n",
      "fp   =5645\n",
      "fn   =280\n",
      "\n",
      "From class notes:\n",
      "  Accuracy     =0.986457266676419\n",
      "  precision=0.987070160128451\n",
      "  recall   =0.9993506824790943\n",
      "  F1       =0.9931724607603747\n",
      "\n",
      "From sklearn metrics:\n",
      "  Precision, Recall, Fscore [macro, micro, weighted]: \n",
      "  (0.5503757558733559, 0.8408633391468625, 0.5850707499854704, None)\n",
      "  (0.9864572976308842, 0.9864572976308842, 0.9864572976308842, None)\n",
      "  (0.9974686025957107, 0.9864572976308842, 0.9914617336092755, None)\n"
     ]
    }
   ],
   "source": [
    "print(type(y_predRF))\n",
    "print(type(Y_test))\n",
    "print(type(y_predRF[0]))\n",
    "print(y_predRF.shape)\n",
    "print(Y_test.shape)\n",
    "\n",
    "Y_test_np = Y_test.to_numpy()\n",
    "print(y_predRF[3])\n",
    "print(Y_test_np[3])\n",
    "\n",
    "numTrue = np.count_nonzero(Y_test_np == True)\n",
    "numFalse = np.count_nonzero(Y_test_np == False)\n",
    "print(\"Number in test set=True  is \" + str(numTrue))\n",
    "print(\"Number in test set=False is \" + str(numFalse))\n",
    "\n",
    "numCorrect=0\n",
    "numIncorrect=0\n",
    "tp = 0\n",
    "tn = 0\n",
    "fp = 0\n",
    "fn = 0\n",
    "for idx in range(0, y_predRF.size-1):\n",
    "    if y_predRF[idx] == Y_test_np[idx]:\n",
    "        numCorrect = numCorrect + 1\n",
    "    else:\n",
    "        numIncorrect = numIncorrect + 1\n",
    "    if y_predRF[idx] == True and Y_test_np[idx] == True:\n",
    "        tp = tp + 1\n",
    "    elif y_predRF[idx] == False and Y_test_np[idx] == False:\n",
    "        tn = tn + 1\n",
    "    elif y_predRF[idx] == True and Y_test_np[idx] == False:\n",
    "        fp = fp + 1\n",
    "    elif y_predRF[idx] == False and Y_test_np[idx] == True:\n",
    "        fn = fn + 1\n",
    "\n",
    "print(\"numCorrect (T & F)   =\" + str(numCorrect))\n",
    "print(\"numIncorrect (T & F) =\" + str(numIncorrect))\n",
    "print(\"Of white samples, RF correctly identified \" + str(tp) + \" or \" + str(tp/numTrue))\n",
    "print(\"Of heist samples, RF correctly identified \" + str(tn) + \" or \" + str(tn/numFalse))\n",
    "\n",
    "print(\"------------------\")\n",
    "print(\"tp   =\" + str(tp))\n",
    "print(\"tn   =\" + str(tn))\n",
    "print(\"fp   =\" + str(fp))\n",
    "print(\"fn   =\" + str(fn))\n",
    "\n",
    "print(\"\\nFrom class notes:\")\n",
    "print(\"  Accuracy     =\" + str((tp+tn)/(tp+tn+fp+fn)))\n",
    "print(\"  precision=\" + str(tp/(tp+fp)))\n",
    "print(\"  recall   =\" + str(tp/(tp+fn)))\n",
    "print(\"  F1       =\" + str(2*tp/(2*tp+fp+fn)))\n",
    "\n",
    "from sklearn.metrics import precision_recall_fscore_support\n",
    "print('\\nFrom sklearn metrics:')\n",
    "print(\"  Precision, Recall, Fscore [macro, micro, weighted]: \")\n",
    "print(\"  \" + str(precision_recall_fscore_support(y_predRF, Y_test_np, average='macro')))\n",
    "print(\"  \" + str(precision_recall_fscore_support(y_predRF, Y_test_np, average='micro')))\n",
    "print(\"  \" + str(precision_recall_fscore_support(y_predRF, Y_test_np, average='weighted')))"
   ]
  },
  {
   "cell_type": "markdown",
   "metadata": {},
   "source": [
    "# Build and train a different Neural Network"
   ]
  },
  {
   "cell_type": "code",
   "execution_count": 21,
   "metadata": {},
   "outputs": [
    {
     "name": "stdout",
     "output_type": "stream",
     "text": [
      "Epoch 1/4\n",
      "3988/3988 [==============================] - 3s 605us/step - loss: 0.2513 - accuracy: 0.9734 - val_loss: 0.0749 - val_accuracy: 0.9857\n",
      "Epoch 2/4\n",
      "3988/3988 [==============================] - 2s 575us/step - loss: 0.0750 - accuracy: 0.9858 - val_loss: 0.0747 - val_accuracy: 0.9857\n",
      "Epoch 3/4\n",
      "3988/3988 [==============================] - 2s 574us/step - loss: 0.0742 - accuracy: 0.9859 - val_loss: 0.0747 - val_accuracy: 0.9857\n",
      "Epoch 4/4\n",
      "3988/3988 [==============================] - 2s 570us/step - loss: 0.0742 - accuracy: 0.9859 - val_loss: 0.0748 - val_accuracy: 0.9857\n",
      "13673/13673 [==============================] - 4s 306us/step - loss: 0.0752 - accuracy: 0.9856\n",
      "score on test: 0.9856413006782532\n",
      "63803/63803 [==============================] - 20s 309us/step - loss: 0.0743 - accuracy: 0.9858s - loss: 0.0\n",
      "score on train: 0.9858474731445312\n"
     ]
    }
   ],
   "source": [
    "import tensorflow as tf\n",
    "from keras import regularizers\n",
    "\n",
    "modelNN2=Sequential()\n",
    "modelNN2.add(Dense(8,kernel_regularizer=regularizers.l2(0.003),activation='relu',input_shape=(8,)))\n",
    "modelNN2.add(tf.keras.layers.Dropout(0.5))\n",
    "modelNN2.add(Dense(8,kernel_regularizer=regularizers.l2(0.003),activation='relu'))\n",
    "modelNN2.add(tf.keras.layers.Dropout(0.6))\n",
    "modelNN2.add(Dense(1,activation='sigmoid'))\n",
    "modelNN2.compile(optimizer='rmsprop',loss='binary_crossentropy',metrics=['accuracy'])\n",
    "\n",
    "modelNN2.fit(X_train, Y_train, epochs=4, batch_size=512, validation_data=(X_val, Y_val))\n",
    "print(\"score on test: \" + str(modelNN2.evaluate(X_test, Y_test)[1]))\n",
    "print(\"score on train: \"+ str(modelNN2.evaluate(X_train, Y_train)[1]))"
   ]
  },
  {
   "cell_type": "markdown",
   "metadata": {},
   "source": [
    "# Use voting classifier to combine models"
   ]
  },
  {
   "cell_type": "code",
   "execution_count": 22,
   "metadata": {},
   "outputs": [
    {
     "name": "stdout",
     "output_type": "stream",
     "text": [
      "score on test: 0.9856413069564919\n",
      "score on train: 0.9858474878862431\n"
     ]
    }
   ],
   "source": [
    "from sklearn.ensemble import VotingClassifier\n",
    "\n",
    "# 1) naive bias = mnb\n",
    "# 2) logistic regression =lr\n",
    "# 3) random forest =rf\n",
    "\n",
    "evc=VotingClassifier(estimators=[('mnb',mnb),('lr',lr),('rf',modelRF)],voting='hard')\n",
    "evc.fit(X_train, Y_train)\n",
    "print(\"score on test: \" + str(evc.score(X_test, Y_test)))\n",
    "print(\"score on train: \"+ str(evc.score(X_train, Y_train)))"
   ]
  },
  {
   "cell_type": "code",
   "execution_count": null,
   "metadata": {},
   "outputs": [],
   "source": []
  }
 ],
 "metadata": {
  "kernelspec": {
   "display_name": "Python 3",
   "language": "python",
   "name": "python3"
  },
  "language_info": {
   "codemirror_mode": {
    "name": "ipython",
    "version": 3
   },
   "file_extension": ".py",
   "mimetype": "text/x-python",
   "name": "python",
   "nbconvert_exporter": "python",
   "pygments_lexer": "ipython3",
   "version": "3.8.5"
  }
 },
 "nbformat": 4,
 "nbformat_minor": 2
}
