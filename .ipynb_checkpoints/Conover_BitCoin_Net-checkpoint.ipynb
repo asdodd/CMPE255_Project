{
 "cells": [
  {
   "cell_type": "code",
   "execution_count": 14,
   "metadata": {},
   "outputs": [],
   "source": [
    "import pandas as pd\n",
    "from sklearn.model_selection import train_test_split\n",
    "import numpy as np\n",
    "from sklearn import preprocessing"
   ]
  },
  {
   "cell_type": "code",
   "execution_count": 2,
   "metadata": {},
   "outputs": [
    {
     "name": "stdout",
     "output_type": "stream",
     "text": [
      "2875284\n",
      "41413\n",
      "Ratio of white to non-white: 0.014403098963441524\n"
     ]
    }
   ],
   "source": [
    "bitcoin_df = pd.read_csv('BitcoinHeistData.csv')\n",
    "\n",
    "### Basic data comparison\n",
    "white = bitcoin_df[bitcoin_df['label'] == 'white']\n",
    "print(len(white))\n",
    "\n",
    "non_white = bitcoin_df[bitcoin_df['label'] != 'white']\n",
    "print(len(non_white))\n",
    "\n",
    "print(\"Ratio of white to non-white:\", len(non_white)/len(white))"
   ]
  },
  {
   "cell_type": "code",
   "execution_count": 6,
   "metadata": {},
   "outputs": [
    {
     "name": "stdout",
     "output_type": "stream",
     "text": [
      "2631095\n"
     ]
    }
   ],
   "source": [
    "uni_addresses = bitcoin_df['address'].unique()\n",
    "print(len(uni_addresses))\n",
    "uni_addr_dict = {}\n",
    "for i in range(len(uni_addresses)):\n",
    "    uni_addr_dict[uni_addresses[i]] = i"
   ]
  },
  {
   "cell_type": "code",
   "execution_count": 8,
   "metadata": {},
   "outputs": [
    {
     "name": "stdout",
     "output_type": "stream",
     "text": [
      "(2333357, 10)\n",
      "(583340, 10)\n"
     ]
    }
   ],
   "source": [
    "### Split to test and train\n",
    "train, test = train_test_split(\n",
    "    bitcoin_df, test_size=0.2, random_state=42)\n",
    "\n",
    "print(train.shape)\n",
    "print(test.shape)"
   ]
  },
  {
   "cell_type": "code",
   "execution_count": 9,
   "metadata": {},
   "outputs": [
    {
     "name": "stdout",
     "output_type": "stream",
     "text": [
      "2122026\n",
      "2122026\n",
      "553546\n",
      "553546\n"
     ]
    }
   ],
   "source": [
    "train_uni_addr = train['address'].unique()\n",
    "print(len(train_uni_addr))\n",
    "train_addr_dict = {}\n",
    "for i in range(len(train_uni_addr)):\n",
    "    train_addr_dict[train_uni_addr[i]] = i\n",
    "print(len(train_addr_dict))\n",
    "\n",
    "test_uni_addr = test['address'].unique()\n",
    "print(len(test_uni_addr))\n",
    "test_addr_dict = {}\n",
    "for i in range(len(test_uni_addr)):\n",
    "    test_addr_dict[test_uni_addr[i]] = i\n",
    "print(len(test_addr_dict))\n",
    "\n"
   ]
  },
  {
   "cell_type": "code",
   "execution_count": 11,
   "metadata": {},
   "outputs": [],
   "source": [
    "#replace the string addresses with assigned numbers rather than drop them\n",
    "index = train.index\n",
    "for i in range(len(train['address'])):\n",
    "    try:\n",
    "        train.at[index[i],'address'] = int(train_addr_dict[train['address'][index[i]]])\n",
    "    except KeyError:\n",
    "         continue\n",
    "\n",
    "index = test.index\n",
    "for i in range(len(test['address'])):\n",
    "    try:\n",
    "        test.at[index[i],'address'] = int(test_addr_dict[test['address'][index[i]]])\n",
    "    except KeyError:\n",
    "         continue\n"
   ]
  },
  {
   "cell_type": "code",
   "execution_count": 12,
   "metadata": {},
   "outputs": [
    {
     "name": "stdout",
     "output_type": "stream",
     "text": [
      "        address  year  day  length        weight  count  looped  neighbors  \\\n",
      "2083633       0  2016  227     144  9.128820e-02   2090    2034          2   \n",
      "1426971       1  2014  301     144  2.205756e-04   2034    1913          2   \n",
      "2701101       2  2018  115       0  1.000000e+00      1       0          2   \n",
      "1172117       3  2014   46      14  9.347273e-09      5       0          1   \n",
      "47537         4  2011   11      46  1.000000e+00      1       0          2   \n",
      "\n",
      "               income  label  \n",
      "2083633  1.085223e+09  white  \n",
      "1426971  1.005948e+08  white  \n",
      "2701101  2.000000e+08  white  \n",
      "1172117  4.340717e+08  white  \n",
      "47537    3.211000e+10  white  \n",
      "        address  year  day  length    weight  count  looped  neighbors  \\\n",
      "2667698       0  2018   82       8  1.311111      3       0          2   \n",
      "2013400       1  2016  157       2  0.025000     44       0          1   \n",
      "2704440       2  2018  118     144  3.619217   5991    5991          2   \n",
      "1650833       3  2015  160     144  0.000484   3452    3049          2   \n",
      "1586811       4  2015   96     128  0.625000      2       0          2   \n",
      "\n",
      "              income  label  \n",
      "2667698  577264100.0  white  \n",
      "2013400  100000000.0  white  \n",
      "2704440  299950000.0  white  \n",
      "1650833  299000000.0  white  \n",
      "1586811   40000000.0  white  \n"
     ]
    }
   ],
   "source": [
    "print(train.head())\n",
    "print(test.head())"
   ]
  },
  {
   "cell_type": "code",
   "execution_count": 16,
   "metadata": {},
   "outputs": [
    {
     "name": "stdout",
     "output_type": "stream",
     "text": [
      "Train Y data:\n",
      " 2083633    True\n",
      "1426971    True\n",
      "2701101    True\n",
      "1172117    True\n",
      "47537      True\n",
      "Name: label, dtype: bool\n",
      "Train X data:\n",
      "         address  year  day  length        weight  count  looped  neighbors  \\\n",
      "2083633       0  2016  227     144  9.128820e-02   2090    2034          2   \n",
      "1426971       1  2014  301     144  2.205756e-04   2034    1913          2   \n",
      "2701101       2  2018  115       0  1.000000e+00      1       0          2   \n",
      "1172117       3  2014   46      14  9.347273e-09      5       0          1   \n",
      "47537         4  2011   11      46  1.000000e+00      1       0          2   \n",
      "\n",
      "               income  \n",
      "2083633  1.085223e+09  \n",
      "1426971  1.005948e+08  \n",
      "2701101  2.000000e+08  \n",
      "1172117  4.340717e+08  \n",
      "47537    3.211000e+10  \n",
      "Test Y data: \n",
      " 2667698    True\n",
      "2013400    True\n",
      "2704440    True\n",
      "1650833    True\n",
      "1586811    True\n",
      "Name: label, dtype: bool\n",
      "Test X Data: \n",
      "         address  year  day  length    weight  count  looped  neighbors  \\\n",
      "2667698       0  2018   82       8  1.311111      3       0          2   \n",
      "2013400       1  2016  157       2  0.025000     44       0          1   \n",
      "2704440       2  2018  118     144  3.619217   5991    5991          2   \n",
      "1650833       3  2015  160     144  0.000484   3452    3049          2   \n",
      "1586811       4  2015   96     128  0.625000      2       0          2   \n",
      "\n",
      "              income  \n",
      "2667698  577264100.0  \n",
      "2013400  100000000.0  \n",
      "2704440  299950000.0  \n",
      "1650833  299000000.0  \n",
      "1586811   40000000.0  \n"
     ]
    },
    {
     "data": {
      "text/plain": [
       "array([[0.00000000e+00, 1.00000000e+00, 2.22527473e-01, ...,\n",
       "        0.00000000e+00, 7.74053719e-05, 1.10190830e-05],\n",
       "       [1.80653786e-06, 7.14285714e-01, 4.28571429e-01, ...,\n",
       "        0.00000000e+00, 0.00000000e+00, 1.40943981e-06],\n",
       "       [3.61307572e-06, 1.00000000e+00, 3.21428571e-01, ...,\n",
       "        4.13286424e-01, 7.74053719e-05, 5.43540394e-06],\n",
       "       ...,\n",
       "       [9.99996387e-01, 1.00000000e+00, 5.57692308e-01, ...,\n",
       "        0.00000000e+00, 7.74053719e-05, 4.02697087e-07],\n",
       "       [9.99998193e-01, 5.71428571e-01, 9.78021978e-01, ...,\n",
       "        0.00000000e+00, 7.74053719e-05, 1.95308087e-05],\n",
       "       [1.00000000e+00, 4.28571429e-01, 6.92307692e-01, ...,\n",
       "        0.00000000e+00, 7.74053719e-05, 3.20106379e-06]])"
      ]
     },
     "execution_count": 16,
     "metadata": {},
     "output_type": "execute_result"
    }
   ],
   "source": [
    "min_max_scaler = preprocessing.MinMaxScaler()\n",
    "train_clean = train[(train['label'] == 'white')]\n",
    "\n",
    "Y_tmp_clean = train_clean['label']\n",
    "Y_train_clean = Y_tmp_clean.str.contains('white')\n",
    "\n",
    "X_train_clean = train_clean.drop(columns=['label'])\n",
    "print(\"Train Y data:\\n\",Y_train_clean.head())\n",
    "print(\"Train X data:\\n\",X_train_clean.head())\n",
    "\n",
    "test_clean = test[(test['label'] == 'white')]\n",
    "\n",
    "Y__tmp = test_clean['label']\n",
    "Y_test_clean = Y__tmp.str.contains('white')\n",
    "X_test_clean = test_clean.drop(columns=['label'])\n",
    "print(\"Test Y data: \\n\",Y_test_clean.head())\n",
    "print(\"Test X Data: \\n\",X_test_clean.head())\n",
    "\n",
    "X_cln_train_scale = np.array(min_max_scaler.fit_transform(X_train_clean))\n",
    "X_cln_train_scale\n",
    "\n",
    "X_cln_test_scale = np.array(min_max_scaler.fit_transform(X_test_clean))\n",
    "X_cln_test_scale"
   ]
  },
  {
   "cell_type": "code",
   "execution_count": 17,
   "metadata": {},
   "outputs": [
    {
     "name": "stdout",
     "output_type": "stream",
     "text": [
      "Train Y data:\n",
      " 4357     False\n",
      "13784    False\n",
      "30055    False\n",
      "8328     False\n",
      "12013    False\n",
      "Name: label, dtype: bool\n",
      "Train X data:\n",
      "       address  year  day  length    weight  count  looped  neighbors  \\\n",
      "4357       52  2013  311     144  1.231075   2082       2          5   \n",
      "13784     135  2013  325       2  0.050000      1       0          1   \n",
      "30055     177  2013  191       0  1.000000      1       0          2   \n",
      "8328      184  2013  277       2  1.000000      1       0          2   \n",
      "12013     262  2014   64      54  0.015625      1       0          1   \n",
      "\n",
      "            income  \n",
      "4357   392850000.0  \n",
      "13784   31572719.0  \n",
      "30055  102660000.0  \n",
      "8328    79000000.0  \n",
      "12013   34400000.0  \n",
      "Test Y data: \n",
      " 3898     False\n",
      "31915    False\n",
      "39100    False\n",
      "28205    False\n",
      "12166    False\n",
      "Name: label, dtype: bool\n",
      "Test X Data: \n",
      "       address  year  day  length    weight  count  looped  neighbors  \\\n",
      "3898       66  2014  163       2  3.000000      3       0          3   \n",
      "31915      80  2014   81     144  0.601246   1482    1477          2   \n",
      "39100     140  2014  174      14  1.049479     18       0          3   \n",
      "28205     204  2014  152      22  0.025000     13       0          1   \n",
      "12166     207  2014   70       6  1.000000      1       0          2   \n",
      "\n",
      "             income  \n",
      "3898   1.160000e+09  \n",
      "31915  2.180967e+08  \n",
      "39100  2.580000e+08  \n",
      "28205  5.332900e+07  \n",
      "12166  1.000000e+08  \n"
     ]
    }
   ],
   "source": [
    "train_dirty = train[(train['label'] != 'white')]\n",
    "\n",
    "\n",
    "Y_tmp_dirty = train_dirty['label']\n",
    "Y_train_dirty = Y_tmp_dirty.str.contains('white')\n",
    "\n",
    "X_train_dirty = train_dirty.drop(columns=['label'])\n",
    "print(\"Train Y data:\\n\",Y_train_dirty.head())\n",
    "print(\"Train X data:\\n\",X_train_dirty.head())\n",
    "\n",
    "test_dirty = test[(test['label'] != 'white')]\n",
    "\n",
    "Y_test_tmp = test_dirty['label']\n",
    "Y_test_dirty = Y_test_tmp.str.contains('white')\n",
    "X_test_dirty = test_dirty.drop(columns=['label'])\n",
    "print(\"Test Y data: \\n\",Y_test_dirty.head())\n",
    "print(\"Test X Data: \\n\",X_test_dirty.head())"
   ]
  },
  {
   "cell_type": "code",
   "execution_count": 18,
   "metadata": {},
   "outputs": [
    {
     "data": {
      "text/plain": [
       "array([[0.00000000e+00, 4.28571429e-01, 4.45054945e-01, ...,\n",
       "        0.00000000e+00, 3.22580645e-02, 4.09235861e-03],\n",
       "       [2.53120158e-05, 4.28571429e-01, 2.19780220e-01, ...,\n",
       "        1.31440776e-01, 1.61290323e-02, 6.81202788e-04],\n",
       "       [1.33792083e-04, 4.28571429e-01, 4.75274725e-01, ...,\n",
       "        0.00000000e+00, 3.22580645e-02, 8.25714835e-04],\n",
       "       ...,\n",
       "       [3.89206595e-01, 4.28571429e-01, 2.11538462e-01, ...,\n",
       "        1.72021002e-01, 6.45161290e-02, 8.43603187e-03],\n",
       "       [9.27811939e-02, 2.85714286e-01, 5.08241758e-01, ...,\n",
       "        0.00000000e+00, 1.61290323e-02, 9.77820200e-04],\n",
       "       [7.28660615e-02, 4.28571429e-01, 2.17032967e-01, ...,\n",
       "        0.00000000e+00, 1.61290323e-02, 1.75059368e-05]])"
      ]
     },
     "execution_count": 18,
     "metadata": {},
     "output_type": "execute_result"
    }
   ],
   "source": [
    "X_train_scale = np.array(min_max_scaler.fit_transform(X_train_dirty))\n",
    "X_train_scale\n",
    "\n",
    "X_test_scale = np.array(min_max_scaler.fit_transform(X_test_dirty))\n",
    "X_test_scale"
   ]
  },
  {
   "cell_type": "code",
   "execution_count": 19,
   "metadata": {},
   "outputs": [
    {
     "name": "stdout",
     "output_type": "stream",
     "text": [
      "(4051, 9) (4052, 9) (4051,) (4052,)\n"
     ]
    }
   ],
   "source": [
    "X_val, X_test, Y_val, Y_test = train_test_split(X_test_scale, Y_test_dirty, test_size=0.5)\n",
    "print(X_val.shape, X_test.shape, Y_val.shape, Y_test.shape)"
   ]
  },
  {
   "cell_type": "code",
   "execution_count": 20,
   "metadata": {},
   "outputs": [],
   "source": [
    "from keras.models import Sequential\n",
    "from keras.layers import Dense\n",
    "\n",
    "model = Sequential([\n",
    "    Dense(32, activation='relu', input_shape=(9,)),\n",
    "    Dense(32, activation='relu'),\n",
    "    Dense(1, activation='sigmoid'),\n",
    "])"
   ]
  },
  {
   "cell_type": "code",
   "execution_count": 21,
   "metadata": {},
   "outputs": [],
   "source": [
    "model.compile(optimizer='sgd',\n",
    "              loss='binary_crossentropy',\n",
    "              metrics=['accuracy'])"
   ]
  },
  {
   "cell_type": "code",
   "execution_count": 22,
   "metadata": {},
   "outputs": [
    {
     "name": "stdout",
     "output_type": "stream",
     "text": [
      "Epoch 1/5\n",
      "1041/1041 [==============================] - 35s 4ms/step - loss: 0.1854 - accuracy: 1.0000 - val_loss: 0.0061 - val_accuracy: 1.0000\n",
      "Epoch 2/5\n",
      "1041/1041 [==============================] - 4s 3ms/step - loss: 0.0048 - accuracy: 1.0000 - val_loss: 0.0022 - val_accuracy: 1.0000\n",
      "Epoch 3/5\n",
      "1041/1041 [==============================] - 4s 4ms/step - loss: 0.0020 - accuracy: 1.0000 - val_loss: 0.0013 - val_accuracy: 1.0000\n",
      "Epoch 4/5\n",
      "1041/1041 [==============================] - 4s 4ms/step - loss: 0.0012 - accuracy: 1.0000 - val_loss: 8.5597e-04 - val_accuracy: 1.0000\n",
      "Epoch 5/5\n",
      "1041/1041 [==============================] - 4s 4ms/step - loss: 8.4136e-04 - accuracy: 1.0000 - val_loss: 6.3789e-04 - val_accuracy: 1.0000\n"
     ]
    }
   ],
   "source": [
    "hist = model.fit(X_train_scale, Y_train_dirty,\n",
    "          batch_size=32, epochs=5,\n",
    "          validation_data=(X_val, Y_val))"
   ]
  },
  {
   "cell_type": "code",
   "execution_count": 23,
   "metadata": {},
   "outputs": [
    {
     "name": "stdout",
     "output_type": "stream",
     "text": [
      "17977/17977 [==============================] - 50s 3ms/step - loss: 7.7478 - accuracy: 0.0000e+00\n"
     ]
    },
    {
     "data": {
      "text/plain": [
       "0.0"
      ]
     },
     "execution_count": 23,
     "metadata": {},
     "output_type": "execute_result"
    }
   ],
   "source": [
    "#Evaluate against only white data; no surprise, accuracy is 0\n",
    "model.evaluate(X_cln_test_scale, Y_test_clean)[1]"
   ]
  },
  {
   "cell_type": "code",
   "execution_count": 24,
   "metadata": {},
   "outputs": [
    {
     "name": "stdout",
     "output_type": "stream",
     "text": [
      "(2333357, 10)\n",
      "(583340, 10)\n"
     ]
    }
   ],
   "source": [
    "### Split new test and train \n",
    "mix_train, mix_test = train_test_split(\n",
    "    bitcoin_df, test_size=0.1, random_state=42)\n",
    "\n",
    "print(train.shape)\n",
    "print(test.shape)"
   ]
  },
  {
   "cell_type": "code",
   "execution_count": 25,
   "metadata": {},
   "outputs": [
    {
     "name": "stdout",
     "output_type": "stream",
     "text": [
      "281409\n",
      "281409\n",
      "Test Y data: \n",
      " 2667698    True\n",
      "2013400    True\n",
      "2704440    True\n",
      "1650833    True\n",
      "1586811    True\n",
      "Name: label, dtype: bool\n",
      "Test X Data: \n",
      "         address  year  day  length    weight  count  looped  neighbors  \\\n",
      "2667698       0  2018   82       8  1.311111      3       0          2   \n",
      "2013400       1  2016  157       2  0.025000     44       0          1   \n",
      "2704440       2  2018  118     144  3.619217   5991    5991          2   \n",
      "1650833       3  2015  160     144  0.000484   3452    3049          2   \n",
      "1586811       4  2015   96     128  0.625000      2       0          2   \n",
      "\n",
      "              income  \n",
      "2667698  577264100.0  \n",
      "2013400  100000000.0  \n",
      "2704440  299950000.0  \n",
      "1650833  299000000.0  \n",
      "1586811   40000000.0  \n"
     ]
    }
   ],
   "source": [
    "mix_uni_addr = mix_test['address'].unique()\n",
    "print(len(mix_uni_addr))\n",
    "mix_addr_dict = {}\n",
    "for i in range(len(mix_uni_addr)):\n",
    "    mix_addr_dict[mix_uni_addr[i]] = i\n",
    "print(len(mix_addr_dict))\n",
    "\n",
    "index = mix_test.index\n",
    "for i in range(len(mix_test['address'])):\n",
    "    try:\n",
    "        mix_test.at[index[i],'address'] = int(mix_addr_dict[mix_test['address'][index[i]]])\n",
    "    except KeyError:\n",
    "         continue\n",
    "            \n",
    "\n",
    "Y_mix_tmp = mix_test['label']\n",
    "Y_test_mix = Y_mix_tmp.str.contains('white')\n",
    "X_test_mix = mix_test.drop(columns=['label'])\n",
    "print(\"Test Y data: \\n\",Y_test_mix.head())\n",
    "print(\"Test X Data: \\n\",X_test_mix.head())\n",
    "\n",
    "X_mix_test_scale = np.array(min_max_scaler.fit_transform(X_test_mix))\n"
   ]
  },
  {
   "cell_type": "code",
   "execution_count": 26,
   "metadata": {},
   "outputs": [
    {
     "name": "stdout",
     "output_type": "stream",
     "text": [
      "9115/9115 [==============================] - 26s 3ms/step - loss: 7.6409 - accuracy: 0.0142\n"
     ]
    },
    {
     "data": {
      "text/plain": [
       "0.014163266867399216"
      ]
     },
     "execution_count": 26,
     "metadata": {},
     "output_type": "execute_result"
    }
   ],
   "source": [
    "#Running evaluate against the mixed test set returns almost the exact percentage as the ratio for white to hiest data\n",
    "model.evaluate(X_mix_test_scale, Y_test_mix)[1]\n",
    "\n"
   ]
  }
 ],
 "metadata": {
  "kernelspec": {
   "display_name": "Python 3",
   "language": "python",
   "name": "python3"
  },
  "language_info": {
   "codemirror_mode": {
    "name": "ipython",
    "version": 3
   },
   "file_extension": ".py",
   "mimetype": "text/x-python",
   "name": "python",
   "nbconvert_exporter": "python",
   "pygments_lexer": "ipython3",
   "version": "3.8.5"
  }
 },
 "nbformat": 4,
 "nbformat_minor": 4
}
