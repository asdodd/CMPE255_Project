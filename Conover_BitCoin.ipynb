{
 "cells": [
  {
   "cell_type": "markdown",
   "metadata": {},
   "source": [
    "# Conover Notes on Data Set:\n",
    "### Link https://archive.ics.uci.edu/ml/datasets/BitcoinHeistRansomwareAddressDataset\n",
    "\n",
    "### Features:\n",
    "#### address: String. Bitcoin address.\n",
    "\n",
    "#### year: Integer. Year.\n",
    "\n",
    "#### day: Integer. Day of the year. 1 is the first day, 365 is the last day.\n",
    "\n",
    "#### length: Integer. Length is designed to quantify mixing rounds on Bitcoin, where transactions receive and distribute similar amounts of coins in multiple rounds with newly created addresses to hide the coin origin.\n",
    "\n",
    "#### weight: Float. Weight quantifies the merge behavior (i.e., the transaction has more input addresses than output addresses), where coins in multiple addresses are each passed through a succession of merging transactions and accumulated in a final address\n",
    "\n",
    "#### count: Integer.  the count feature is designed to quantify the merging pattern. However, the count feature represents information on the number of transactions, whereas the weight feature represents information on the amount of transactions\n",
    "\n",
    "#### looped: Integer. - Loop is intended to count how many transaction i) split their coins; ii) move these coins in the network by using different paths and finally, and iii) merge them in a single address.\n",
    "\n",
    "#### neighbors: Integer.\n",
    "\n",
    "#### income: Integer. Satoshi amount (1 bitcoin = 100 million satoshis). Note, Satoshi is an actual BitCoin curancy amount\n",
    "\n",
    "#### label: Category String. Name of the ransomware family (e.g., Cryptxxx, cryptolocker etc) or white (i.e., not known to be ransomware). \n"
   ]
  },
  {
   "cell_type": "code",
   "execution_count": 64,
   "metadata": {},
   "outputs": [],
   "source": [
    "import pandas as pd\n",
    "from sklearn.model_selection import train_test_split\n",
    "#from sklearn.decomposition import TruncatedSVD\n",
    "#from sklearn.preprocessing import StandardScaler\n",
    "from sklearn.cluster import KMeans\n",
    "from sklearn.preprocessing import Normalizer\n",
    "from sklearn.decomposition import PCA\n",
    "from sklearn.neighbors import KNeighborsClassifier as KNN\n",
    "from sklearn.neighbors import NearestNeighbors\n",
    "import matplotlib.pyplot as plt\n",
    "import numpy as np"
   ]
  },
  {
   "cell_type": "code",
   "execution_count": 4,
   "metadata": {},
   "outputs": [
    {
     "data": {
      "text/html": [
       "<div>\n",
       "<style scoped>\n",
       "    .dataframe tbody tr th:only-of-type {\n",
       "        vertical-align: middle;\n",
       "    }\n",
       "\n",
       "    .dataframe tbody tr th {\n",
       "        vertical-align: top;\n",
       "    }\n",
       "\n",
       "    .dataframe thead th {\n",
       "        text-align: right;\n",
       "    }\n",
       "</style>\n",
       "<table border=\"1\" class=\"dataframe\">\n",
       "  <thead>\n",
       "    <tr style=\"text-align: right;\">\n",
       "      <th></th>\n",
       "      <th>address</th>\n",
       "      <th>year</th>\n",
       "      <th>day</th>\n",
       "      <th>length</th>\n",
       "      <th>weight</th>\n",
       "      <th>count</th>\n",
       "      <th>looped</th>\n",
       "      <th>neighbors</th>\n",
       "      <th>income</th>\n",
       "      <th>label</th>\n",
       "    </tr>\n",
       "  </thead>\n",
       "  <tbody>\n",
       "    <tr>\n",
       "      <th>0</th>\n",
       "      <td>111K8kZAEnJg245r2cM6y9zgJGHZtJPy6</td>\n",
       "      <td>2017</td>\n",
       "      <td>11</td>\n",
       "      <td>18</td>\n",
       "      <td>0.008333</td>\n",
       "      <td>1</td>\n",
       "      <td>0</td>\n",
       "      <td>2</td>\n",
       "      <td>100050000.0</td>\n",
       "      <td>princetonCerber</td>\n",
       "    </tr>\n",
       "    <tr>\n",
       "      <th>1</th>\n",
       "      <td>1123pJv8jzeFQaCV4w644pzQJzVWay2zcA</td>\n",
       "      <td>2016</td>\n",
       "      <td>132</td>\n",
       "      <td>44</td>\n",
       "      <td>0.000244</td>\n",
       "      <td>1</td>\n",
       "      <td>0</td>\n",
       "      <td>1</td>\n",
       "      <td>100000000.0</td>\n",
       "      <td>princetonLocky</td>\n",
       "    </tr>\n",
       "    <tr>\n",
       "      <th>2</th>\n",
       "      <td>112536im7hy6wtKbpH1qYDWtTyMRAcA2p7</td>\n",
       "      <td>2016</td>\n",
       "      <td>246</td>\n",
       "      <td>0</td>\n",
       "      <td>1.000000</td>\n",
       "      <td>1</td>\n",
       "      <td>0</td>\n",
       "      <td>2</td>\n",
       "      <td>200000000.0</td>\n",
       "      <td>princetonCerber</td>\n",
       "    </tr>\n",
       "    <tr>\n",
       "      <th>3</th>\n",
       "      <td>1126eDRw2wqSkWosjTCre8cjjQW8sSeWH7</td>\n",
       "      <td>2016</td>\n",
       "      <td>322</td>\n",
       "      <td>72</td>\n",
       "      <td>0.003906</td>\n",
       "      <td>1</td>\n",
       "      <td>0</td>\n",
       "      <td>2</td>\n",
       "      <td>71200000.0</td>\n",
       "      <td>princetonCerber</td>\n",
       "    </tr>\n",
       "    <tr>\n",
       "      <th>4</th>\n",
       "      <td>1129TSjKtx65E35GiUo4AYVeyo48twbrGX</td>\n",
       "      <td>2016</td>\n",
       "      <td>238</td>\n",
       "      <td>144</td>\n",
       "      <td>0.072848</td>\n",
       "      <td>456</td>\n",
       "      <td>0</td>\n",
       "      <td>1</td>\n",
       "      <td>200000000.0</td>\n",
       "      <td>princetonLocky</td>\n",
       "    </tr>\n",
       "  </tbody>\n",
       "</table>\n",
       "</div>"
      ],
      "text/plain": [
       "                              address  year  day  length    weight  count  \\\n",
       "0   111K8kZAEnJg245r2cM6y9zgJGHZtJPy6  2017   11      18  0.008333      1   \n",
       "1  1123pJv8jzeFQaCV4w644pzQJzVWay2zcA  2016  132      44  0.000244      1   \n",
       "2  112536im7hy6wtKbpH1qYDWtTyMRAcA2p7  2016  246       0  1.000000      1   \n",
       "3  1126eDRw2wqSkWosjTCre8cjjQW8sSeWH7  2016  322      72  0.003906      1   \n",
       "4  1129TSjKtx65E35GiUo4AYVeyo48twbrGX  2016  238     144  0.072848    456   \n",
       "\n",
       "   looped  neighbors       income            label  \n",
       "0       0          2  100050000.0  princetonCerber  \n",
       "1       0          1  100000000.0   princetonLocky  \n",
       "2       0          2  200000000.0  princetonCerber  \n",
       "3       0          2   71200000.0  princetonCerber  \n",
       "4       0          1  200000000.0   princetonLocky  "
      ]
     },
     "execution_count": 4,
     "metadata": {},
     "output_type": "execute_result"
    }
   ],
   "source": [
    "bitcoin_df = pd.read_csv('BitcoinHeistData.csv')\n",
    "bitcoin_df.head()"
   ]
  },
  {
   "cell_type": "code",
   "execution_count": 7,
   "metadata": {},
   "outputs": [
    {
     "name": "stdout",
     "output_type": "stream",
     "text": [
      "407349\n",
      "411820\n",
      "Transations with loops that are non-'white': 4471\n"
     ]
    }
   ],
   "source": [
    "### Basic data comparison\n",
    "x_for_white = bitcoin_df[(bitcoin_df['looped'] > 0) & (bitcoin_df['label'] == 'white')]\n",
    "print(len(x_for_white))\n",
    "\n",
    "all_loops = bitcoin_df[bitcoin_df['looped'] > 0]\n",
    "print(len(all_loops))\n",
    "\n",
    "print(\"Transations with loops that are non-'white':\", len(all_loops)-len(x_for_white))"
   ]
  },
  {
   "cell_type": "code",
   "execution_count": 12,
   "metadata": {},
   "outputs": [
    {
     "name": "stdout",
     "output_type": "stream",
     "text": [
      "29\n",
      "['princetonCerber' 'princetonLocky' 'montrealCryptoLocker'\n",
      " 'montrealCryptXXX' 'paduaCryptoWall' 'montrealWannaCry'\n",
      " 'montrealDMALockerv3' 'montrealCryptoTorLocker2015' 'montrealSamSam'\n",
      " 'montrealFlyper' 'montrealNoobCrypt' 'montrealDMALocker' 'montrealGlobe'\n",
      " 'montrealEDA2' 'paduaKeRanger' 'montrealVenusLocker' 'montrealXTPLocker'\n",
      " 'paduaJigsaw' 'montrealGlobev3' 'montrealJigSaw' 'montrealXLockerv5.0'\n",
      " 'montrealXLocker' 'montrealRazy' 'montrealCryptConsole'\n",
      " 'montrealGlobeImposter' 'montrealSam' 'montrealComradeCircle'\n",
      " 'montrealAPT' 'white']\n"
     ]
    }
   ],
   "source": [
    "### Extract the unique labels\n",
    "uni_labels = bitcoin_df['label'].unique()\n",
    "print(len(uni_labels))\n",
    "print(uni_labels)"
   ]
  },
  {
   "cell_type": "code",
   "execution_count": 14,
   "metadata": {},
   "outputs": [
    {
     "name": "stdout",
     "output_type": "stream",
     "text": [
      "(2333357, 10)\n",
      "(583340, 10)\n"
     ]
    }
   ],
   "source": [
    "### Split to test and train\n",
    "train, test = train_test_split(\n",
    "    bitcoin_df, test_size=0.2, random_state=42)\n",
    "\n",
    "print(train.shape)\n",
    "print(test.shape)"
   ]
  },
  {
   "cell_type": "code",
   "execution_count": 16,
   "metadata": {},
   "outputs": [
    {
     "name": "stdout",
     "output_type": "stream",
     "text": [
      "(583340, 6)\n",
      "         length    weight  count  looped  neighbors       income\n",
      "2667698       8  1.311111      3       0          2  577264100.0\n",
      "2013400       2  0.025000     44       0          1  100000000.0\n",
      "2704440     144  3.619217   5991    5991          2  299950000.0\n",
      "1650833     144  0.000484   3452    3049          2  299000000.0\n",
      "1586811     128  0.625000      2       0          2   40000000.0\n"
     ]
    }
   ],
   "source": [
    "# For speed, using test first. Removing columns containing data not likely scale well\n",
    "test_cut = test.drop(columns=['address', 'label', 'year', 'day'])\n",
    "print(test_cut.shape)\n",
    "print(test_cut.head())"
   ]
  },
  {
   "cell_type": "code",
   "execution_count": 25,
   "metadata": {},
   "outputs": [
    {
     "name": "stdout",
     "output_type": "stream",
     "text": [
      "(6, 583340)\n"
     ]
    }
   ],
   "source": [
    "###Block to transpose the data... not currently being used\n",
    "#test_transposed = test_cut.T\n",
    "#print(test_transposed.shape)\n",
    "#test_transposed.head()"
   ]
  },
  {
   "cell_type": "code",
   "execution_count": 22,
   "metadata": {},
   "outputs": [],
   "source": [
    "### Normalize by l2\n",
    "scale = Normalizer(norm='l2')\n",
    "test_scaled = scale.transform(test_cut)"
   ]
  },
  {
   "cell_type": "code",
   "execution_count": 29,
   "metadata": {},
   "outputs": [
    {
     "data": {
      "text/plain": [
       "(583340, 5)"
      ]
     },
     "execution_count": 29,
     "metadata": {},
     "output_type": "execute_result"
    }
   ],
   "source": [
    "#Validate that the PCA function call would work with the dataset\n",
    "pca = PCA(n_components=5)\n",
    "pca_test = pd.DataFrame(pca.fit_transform(test_scaled))\n",
    "pca_test.shape"
   ]
  },
  {
   "cell_type": "code",
   "execution_count": 72,
   "metadata": {},
   "outputs": [
    {
     "data": {
      "text/plain": [
       "NearestNeighbors(n_neighbors=20)"
      ]
     },
     "execution_count": 72,
     "metadata": {},
     "output_type": "execute_result"
    }
   ],
   "source": [
    "neigh = NearestNeighbors(n_neighbors=20)\n",
    "neigh.fit(test_scaled)"
   ]
  },
  {
   "cell_type": "code",
   "execution_count": 73,
   "metadata": {},
   "outputs": [],
   "source": [
    "knn = neigh.kneighbors_graph(test_scaled)"
   ]
  },
  {
   "cell_type": "code",
   "execution_count": 75,
   "metadata": {},
   "outputs": [
    {
     "name": "stdout",
     "output_type": "stream",
     "text": [
      "(1, 583340)\n",
      "  (0, 0)\t1.0\n",
      "  (0, 118963)\t1.0\n",
      "  (0, 20940)\t1.0\n",
      "  (0, 497338)\t1.0\n",
      "  (0, 379297)\t1.0\n",
      "  (0, 191070)\t1.0\n",
      "  (0, 266492)\t1.0\n",
      "  (0, 303772)\t1.0\n",
      "  (0, 28783)\t1.0\n",
      "  (0, 563316)\t1.0\n",
      "  (0, 234136)\t1.0\n",
      "  (0, 287945)\t1.0\n",
      "  (0, 535261)\t1.0\n",
      "  (0, 555303)\t1.0\n",
      "  (0, 520060)\t1.0\n",
      "  (0, 250137)\t1.0\n",
      "  (0, 322340)\t1.0\n",
      "  (0, 143217)\t1.0\n",
      "  (0, 278936)\t1.0\n",
      "  (0, 357306)\t1.0\n",
      "(583340, 583340)\n"
     ]
    }
   ],
   "source": [
    "print(knn[0].shape)\n",
    "print(knn[0])\n",
    "print(knn.shape)\n",
    "mtrx_dict = knn.todok()\n",
    "xy = np.array(list(mtrx_dict.keys()))\n",
    "vals = np.array(list(mtrx_dict.values()))"
   ]
  },
  {
   "cell_type": "markdown",
   "metadata": {},
   "source": [
    "#### Failed KNN plot below; very time intensive "
   ]
  },
  {
   "cell_type": "code",
   "execution_count": 76,
   "metadata": {},
   "outputs": [
    {
     "data": {
      "image/png": "[encoded data removed]",
      "text/plain": [
       "<Figure size 432x288 with 2 Axes>"
      ]
     },
     "metadata": {
      "needs_background": "light"
     },
     "output_type": "display_data"
    }
   ],
   "source": [
    "plt.scatter(xy[:,0],xy[:,1], s=5, c=vals, cmap='inferno')\n",
    "plt.colorbar()\n",
    "plt.draw()"
   ]
  }
 ],
 "metadata": {
  "kernelspec": {
   "display_name": "Python 3",
   "language": "python",
   "name": "python3"
  },
  "language_info": {
   "codemirror_mode": {
    "name": "ipython",
    "version": 3
   },
   "file_extension": ".py",
   "mimetype": "text/x-python",
   "name": "python",
   "nbconvert_exporter": "python",
   "pygments_lexer": "ipython3",
   "version": "3.8.5"
  }
 },
 "nbformat": 4,
 "nbformat_minor": 4
}
