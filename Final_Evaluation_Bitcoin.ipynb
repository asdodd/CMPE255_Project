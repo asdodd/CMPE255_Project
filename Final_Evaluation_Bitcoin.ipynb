{
 "cells": [
  {
   "cell_type": "markdown",
   "metadata": {},
   "source": [
    "# CMPE-255 Data Mining: Group Project\n",
    "## Group 1: Alex Dodd, Tom Casaletto, Jonathan Conover\n",
    "Dataset: Bitcoin Heist Ransomeware Address Dataset\n",
    "https://archive.ics.uci.edu/ml/datasets/BitcoinHeistRansomwareAddressDataset"
   ]
  },
  {
   "cell_type": "code",
   "execution_count": 1,
   "metadata": {},
   "outputs": [],
   "source": [
    "import pandas as pd\n",
    "import numpy as np\n",
    "from sklearn import preprocessing\n",
    "from sklearn.model_selection import train_test_split\n",
    "from sklearn.model_selection import RepeatedStratifiedKFold\n",
    "from sklearn.model_selection import cross_val_score\n",
    "from sklearn.metrics import recall_score\n",
    "from sklearn.metrics import precision_score\n",
    "from sklearn.metrics import accuracy_score\n",
    "from sklearn.metrics import f1_score\n",
    "from sklearn.decomposition import PCA\n",
    "from sklearn.ensemble import RandomForestClassifier\n",
    "from keras.models import Sequential\n",
    "from keras.layers import Dense\n",
    "import matplotlib.pyplot as plt\n",
    "%matplotlib inline\n",
    "\n"
   ]
  },
  {
   "cell_type": "markdown",
   "metadata": {},
   "source": [
    "#### Assign the heist dataset to a pandas dataframe object"
   ]
  },
  {
   "cell_type": "code",
   "execution_count": 2,
   "metadata": {},
   "outputs": [
    {
     "data": {
      "text/html": [
       "<div>\n",
       "<style scoped>\n",
       "    .dataframe tbody tr th:only-of-type {\n",
       "        vertical-align: middle;\n",
       "    }\n",
       "\n",
       "    .dataframe tbody tr th {\n",
       "        vertical-align: top;\n",
       "    }\n",
       "\n",
       "    .dataframe thead th {\n",
       "        text-align: right;\n",
       "    }\n",
       "</style>\n",
       "<table border=\"1\" class=\"dataframe\">\n",
       "  <thead>\n",
       "    <tr style=\"text-align: right;\">\n",
       "      <th></th>\n",
       "      <th>address</th>\n",
       "      <th>year</th>\n",
       "      <th>day</th>\n",
       "      <th>length</th>\n",
       "      <th>weight</th>\n",
       "      <th>count</th>\n",
       "      <th>looped</th>\n",
       "      <th>neighbors</th>\n",
       "      <th>income</th>\n",
       "      <th>label</th>\n",
       "    </tr>\n",
       "  </thead>\n",
       "  <tbody>\n",
       "    <tr>\n",
       "      <th>0</th>\n",
       "      <td>111K8kZAEnJg245r2cM6y9zgJGHZtJPy6</td>\n",
       "      <td>2017</td>\n",
       "      <td>11</td>\n",
       "      <td>18</td>\n",
       "      <td>0.008333</td>\n",
       "      <td>1</td>\n",
       "      <td>0</td>\n",
       "      <td>2</td>\n",
       "      <td>1.000500e+08</td>\n",
       "      <td>princetonCerber</td>\n",
       "    </tr>\n",
       "    <tr>\n",
       "      <th>1</th>\n",
       "      <td>1123pJv8jzeFQaCV4w644pzQJzVWay2zcA</td>\n",
       "      <td>2016</td>\n",
       "      <td>132</td>\n",
       "      <td>44</td>\n",
       "      <td>0.000244</td>\n",
       "      <td>1</td>\n",
       "      <td>0</td>\n",
       "      <td>1</td>\n",
       "      <td>1.000000e+08</td>\n",
       "      <td>princetonLocky</td>\n",
       "    </tr>\n",
       "    <tr>\n",
       "      <th>2</th>\n",
       "      <td>112536im7hy6wtKbpH1qYDWtTyMRAcA2p7</td>\n",
       "      <td>2016</td>\n",
       "      <td>246</td>\n",
       "      <td>0</td>\n",
       "      <td>1.000000</td>\n",
       "      <td>1</td>\n",
       "      <td>0</td>\n",
       "      <td>2</td>\n",
       "      <td>2.000000e+08</td>\n",
       "      <td>princetonCerber</td>\n",
       "    </tr>\n",
       "    <tr>\n",
       "      <th>3</th>\n",
       "      <td>1126eDRw2wqSkWosjTCre8cjjQW8sSeWH7</td>\n",
       "      <td>2016</td>\n",
       "      <td>322</td>\n",
       "      <td>72</td>\n",
       "      <td>0.003906</td>\n",
       "      <td>1</td>\n",
       "      <td>0</td>\n",
       "      <td>2</td>\n",
       "      <td>7.120000e+07</td>\n",
       "      <td>princetonCerber</td>\n",
       "    </tr>\n",
       "    <tr>\n",
       "      <th>4</th>\n",
       "      <td>1129TSjKtx65E35GiUo4AYVeyo48twbrGX</td>\n",
       "      <td>2016</td>\n",
       "      <td>238</td>\n",
       "      <td>144</td>\n",
       "      <td>0.072848</td>\n",
       "      <td>456</td>\n",
       "      <td>0</td>\n",
       "      <td>1</td>\n",
       "      <td>2.000000e+08</td>\n",
       "      <td>princetonLocky</td>\n",
       "    </tr>\n",
       "    <tr>\n",
       "      <th>...</th>\n",
       "      <td>...</td>\n",
       "      <td>...</td>\n",
       "      <td>...</td>\n",
       "      <td>...</td>\n",
       "      <td>...</td>\n",
       "      <td>...</td>\n",
       "      <td>...</td>\n",
       "      <td>...</td>\n",
       "      <td>...</td>\n",
       "      <td>...</td>\n",
       "    </tr>\n",
       "    <tr>\n",
       "      <th>2916692</th>\n",
       "      <td>12D3trgho1vJ4mGtWBRPyHdMJK96TRYSry</td>\n",
       "      <td>2018</td>\n",
       "      <td>330</td>\n",
       "      <td>0</td>\n",
       "      <td>0.111111</td>\n",
       "      <td>1</td>\n",
       "      <td>0</td>\n",
       "      <td>1</td>\n",
       "      <td>1.255809e+09</td>\n",
       "      <td>white</td>\n",
       "    </tr>\n",
       "    <tr>\n",
       "      <th>2916693</th>\n",
       "      <td>1P7PputTcVkhXBmXBvSD9MJ3UYPsiou1u2</td>\n",
       "      <td>2018</td>\n",
       "      <td>330</td>\n",
       "      <td>0</td>\n",
       "      <td>1.000000</td>\n",
       "      <td>1</td>\n",
       "      <td>0</td>\n",
       "      <td>1</td>\n",
       "      <td>4.409699e+07</td>\n",
       "      <td>white</td>\n",
       "    </tr>\n",
       "    <tr>\n",
       "      <th>2916694</th>\n",
       "      <td>1KYiKJEfdJtap9QX2v9BXJMpz2SfU4pgZw</td>\n",
       "      <td>2018</td>\n",
       "      <td>330</td>\n",
       "      <td>2</td>\n",
       "      <td>12.000000</td>\n",
       "      <td>6</td>\n",
       "      <td>6</td>\n",
       "      <td>35</td>\n",
       "      <td>2.398267e+09</td>\n",
       "      <td>white</td>\n",
       "    </tr>\n",
       "    <tr>\n",
       "      <th>2916695</th>\n",
       "      <td>15iPUJsRNZQZHmZZVwmQ63srsmughCXV4a</td>\n",
       "      <td>2018</td>\n",
       "      <td>330</td>\n",
       "      <td>0</td>\n",
       "      <td>0.500000</td>\n",
       "      <td>1</td>\n",
       "      <td>0</td>\n",
       "      <td>1</td>\n",
       "      <td>1.780427e+08</td>\n",
       "      <td>white</td>\n",
       "    </tr>\n",
       "    <tr>\n",
       "      <th>2916696</th>\n",
       "      <td>3LFFBxp15h9KSFtaw55np8eP5fv6kdK17e</td>\n",
       "      <td>2018</td>\n",
       "      <td>330</td>\n",
       "      <td>144</td>\n",
       "      <td>0.073972</td>\n",
       "      <td>6800</td>\n",
       "      <td>0</td>\n",
       "      <td>2</td>\n",
       "      <td>1.123500e+08</td>\n",
       "      <td>white</td>\n",
       "    </tr>\n",
       "  </tbody>\n",
       "</table>\n",
       "<p>2916697 rows × 10 columns</p>\n",
       "</div>"
      ],
      "text/plain": [
       "                                    address  year  day  length     weight  \\\n",
       "0         111K8kZAEnJg245r2cM6y9zgJGHZtJPy6  2017   11      18   0.008333   \n",
       "1        1123pJv8jzeFQaCV4w644pzQJzVWay2zcA  2016  132      44   0.000244   \n",
       "2        112536im7hy6wtKbpH1qYDWtTyMRAcA2p7  2016  246       0   1.000000   \n",
       "3        1126eDRw2wqSkWosjTCre8cjjQW8sSeWH7  2016  322      72   0.003906   \n",
       "4        1129TSjKtx65E35GiUo4AYVeyo48twbrGX  2016  238     144   0.072848   \n",
       "...                                     ...   ...  ...     ...        ...   \n",
       "2916692  12D3trgho1vJ4mGtWBRPyHdMJK96TRYSry  2018  330       0   0.111111   \n",
       "2916693  1P7PputTcVkhXBmXBvSD9MJ3UYPsiou1u2  2018  330       0   1.000000   \n",
       "2916694  1KYiKJEfdJtap9QX2v9BXJMpz2SfU4pgZw  2018  330       2  12.000000   \n",
       "2916695  15iPUJsRNZQZHmZZVwmQ63srsmughCXV4a  2018  330       0   0.500000   \n",
       "2916696  3LFFBxp15h9KSFtaw55np8eP5fv6kdK17e  2018  330     144   0.073972   \n",
       "\n",
       "         count  looped  neighbors        income            label  \n",
       "0            1       0          2  1.000500e+08  princetonCerber  \n",
       "1            1       0          1  1.000000e+08   princetonLocky  \n",
       "2            1       0          2  2.000000e+08  princetonCerber  \n",
       "3            1       0          2  7.120000e+07  princetonCerber  \n",
       "4          456       0          1  2.000000e+08   princetonLocky  \n",
       "...        ...     ...        ...           ...              ...  \n",
       "2916692      1       0          1  1.255809e+09            white  \n",
       "2916693      1       0          1  4.409699e+07            white  \n",
       "2916694      6       6         35  2.398267e+09            white  \n",
       "2916695      1       0          1  1.780427e+08            white  \n",
       "2916696   6800       0          2  1.123500e+08            white  \n",
       "\n",
       "[2916697 rows x 10 columns]"
      ]
     },
     "execution_count": 2,
     "metadata": {},
     "output_type": "execute_result"
    }
   ],
   "source": [
    "df = pd.read_csv('BitcoinHeistData.csv')\n",
    "df"
   ]
  },
  {
   "cell_type": "markdown",
   "metadata": {},
   "source": [
    "## Data Exploration"
   ]
  },
  {
   "cell_type": "code",
   "execution_count": 3,
   "metadata": {},
   "outputs": [
    {
     "name": "stdout",
     "output_type": "stream",
     "text": [
      "Percent White Transactions: 0.9858014048082472\n",
      "Percent Heist Transactions: 0.014198595191752863\n"
     ]
    }
   ],
   "source": [
    "#Ratio of white to heist data\n",
    "whiteTrans = df[(df['label'] == 'white')]\n",
    "heistTrans = df[(df['label'] != 'white')]\n",
    "print('Percent White Transactions: ' + str(whiteTrans.shape[0]/df.shape[0]))\n",
    "print('Percent Heist Transactions: ' + str(heistTrans.shape[0]/df.shape[0]))"
   ]
  },
  {
   "cell_type": "code",
   "execution_count": 4,
   "metadata": {},
   "outputs": [
    {
     "data": {
      "image/png": "[encoded data removed]",
      "text/plain": [
       "<Figure size 288x288 with 1 Axes>"
      ]
     },
     "metadata": {
      "needs_background": "light"
     },
     "output_type": "display_data"
    },
    {
     "data": {
      "image/png": "[encoded data removed]",
      "text/plain": [
       "<Figure size 288x288 with 1 Axes>"
      ]
     },
     "metadata": {
      "needs_background": "light"
     },
     "output_type": "display_data"
    }
   ],
   "source": [
    "heistTemp = heistTrans.iloc[:,3:9]\n",
    "plt.matshow(heistTemp.corr())\n",
    "plt.title(\"Correlation Matrix for Heist Data\")\n",
    "plt.show()\n",
    "\n",
    "whiteTemp = whiteTrans.iloc[:,3:9]\n",
    "plt.matshow(whiteTemp.corr())\n",
    "plt.title(\"Correlation Matrix for White Data\")\n",
    "plt.show()"
   ]
  },
  {
   "cell_type": "markdown",
   "metadata": {},
   "source": [
    "#### The following cell captures the initial assessment of dimensionality reduction being appropriate; it was determined that dimensionality reduction was not appropriate for this dataset and the following cell simply depict the results"
   ]
  },
  {
   "cell_type": "code",
   "execution_count": 5,
   "metadata": {},
   "outputs": [
    {
     "name": "stdout",
     "output_type": "stream",
     "text": [
      "[0.36637665 0.30873889 0.15202702 0.11116542 0.041579   0.02011303]\n",
      "[301.72261649 276.97440461 194.35886606 166.19916166 101.64382268\n",
      "  70.69402414]\n"
     ]
    },
    {
     "data": {
      "image/png": "[encoded data removed]",
      "text/plain": [
       "<Figure size 432x288 with 1 Axes>"
      ]
     },
     "metadata": {
      "needs_background": "light"
     },
     "output_type": "display_data"
    },
    {
     "name": "stdout",
     "output_type": "stream",
     "text": [
      "[0.35676674 0.28546505 0.16226005 0.10047181 0.05064837 0.04438799]\n",
      "[2480.89382143 2219.17969085 1673.09962975 1316.55227777  934.75700114\n",
      "  875.08195285]\n"
     ]
    },
    {
     "data": {
      "image/png": "[encoded data removed]",
      "text/plain": [
       "<Figure size 432x288 with 1 Axes>"
      ]
     },
     "metadata": {
      "needs_background": "light"
     },
     "output_type": "display_data"
    }
   ],
   "source": [
    "dirtyStd = preprocessing.StandardScaler().fit_transform(heistTemp)\n",
    "pca = PCA(n_components=6)\n",
    "pca.fit(dirtyStd)\n",
    "print(pca.explained_variance_ratio_)\n",
    "print(pca.singular_values_)\n",
    "plt.plot(pca.explained_variance_ratio_)\n",
    "plt.title(\"Heist Data\")\n",
    "plt.plot(np.cumsum(pca.explained_variance_ratio_))\n",
    "plt.show()\n",
    "\n",
    "whiteStd = preprocessing.StandardScaler().fit_transform(whiteTemp)\n",
    "pca.fit(whiteStd)\n",
    "print(pca.explained_variance_ratio_)\n",
    "print(pca.singular_values_)\n",
    "plt.plot(pca.explained_variance_ratio_)\n",
    "plt.title(\"White Data\")\n",
    "plt.plot(np.cumsum(pca.explained_variance_ratio_))\n",
    "plt.show()\n"
   ]
  },
  {
   "cell_type": "markdown",
   "metadata": {},
   "source": [
    "## Model Training"
   ]
  },
  {
   "cell_type": "markdown",
   "metadata": {},
   "source": [
    "#### The next two code blocks will assign numerical values for the address cells. Done to avoid losing any context these attributes add to the dataset"
   ]
  },
  {
   "cell_type": "code",
   "execution_count": 6,
   "metadata": {},
   "outputs": [
    {
     "name": "stdout",
     "output_type": "stream",
     "text": [
      "2631095\n",
      "2631095\n"
     ]
    }
   ],
   "source": [
    "uni_addr = df['address'].unique()\n",
    "print(len(uni_addr))\n",
    "addr_dict = {}\n",
    "for i in range(len(uni_addr)):\n",
    "    addr_dict[uni_addr[i]] = i\n",
    "print(len(addr_dict))"
   ]
  },
  {
   "cell_type": "code",
   "execution_count": 7,
   "metadata": {},
   "outputs": [],
   "source": [
    "index = df.index\n",
    "for i in range(len(df['address'])):\n",
    "    try:\n",
    "        df.at[index[i],'address'] = int(addr_dict[df['address'][index[i]]])\n",
    "    except KeyError:\n",
    "         continue"
   ]
  },
  {
   "cell_type": "markdown",
   "metadata": {},
   "source": [
    "#### Visual inspect that data replacement occured correctly"
   ]
  },
  {
   "cell_type": "code",
   "execution_count": 8,
   "metadata": {},
   "outputs": [
    {
     "data": {
      "text/html": [
       "<div>\n",
       "<style scoped>\n",
       "    .dataframe tbody tr th:only-of-type {\n",
       "        vertical-align: middle;\n",
       "    }\n",
       "\n",
       "    .dataframe tbody tr th {\n",
       "        vertical-align: top;\n",
       "    }\n",
       "\n",
       "    .dataframe thead th {\n",
       "        text-align: right;\n",
       "    }\n",
       "</style>\n",
       "<table border=\"1\" class=\"dataframe\">\n",
       "  <thead>\n",
       "    <tr style=\"text-align: right;\">\n",
       "      <th></th>\n",
       "      <th>address</th>\n",
       "      <th>year</th>\n",
       "      <th>day</th>\n",
       "      <th>length</th>\n",
       "      <th>weight</th>\n",
       "      <th>count</th>\n",
       "      <th>looped</th>\n",
       "      <th>neighbors</th>\n",
       "      <th>income</th>\n",
       "      <th>label</th>\n",
       "    </tr>\n",
       "  </thead>\n",
       "  <tbody>\n",
       "    <tr>\n",
       "      <th>0</th>\n",
       "      <td>0</td>\n",
       "      <td>2017</td>\n",
       "      <td>11</td>\n",
       "      <td>18</td>\n",
       "      <td>0.008333</td>\n",
       "      <td>1</td>\n",
       "      <td>0</td>\n",
       "      <td>2</td>\n",
       "      <td>1.000500e+08</td>\n",
       "      <td>princetonCerber</td>\n",
       "    </tr>\n",
       "    <tr>\n",
       "      <th>1</th>\n",
       "      <td>1</td>\n",
       "      <td>2016</td>\n",
       "      <td>132</td>\n",
       "      <td>44</td>\n",
       "      <td>0.000244</td>\n",
       "      <td>1</td>\n",
       "      <td>0</td>\n",
       "      <td>1</td>\n",
       "      <td>1.000000e+08</td>\n",
       "      <td>princetonLocky</td>\n",
       "    </tr>\n",
       "    <tr>\n",
       "      <th>2</th>\n",
       "      <td>2</td>\n",
       "      <td>2016</td>\n",
       "      <td>246</td>\n",
       "      <td>0</td>\n",
       "      <td>1.000000</td>\n",
       "      <td>1</td>\n",
       "      <td>0</td>\n",
       "      <td>2</td>\n",
       "      <td>2.000000e+08</td>\n",
       "      <td>princetonCerber</td>\n",
       "    </tr>\n",
       "    <tr>\n",
       "      <th>3</th>\n",
       "      <td>3</td>\n",
       "      <td>2016</td>\n",
       "      <td>322</td>\n",
       "      <td>72</td>\n",
       "      <td>0.003906</td>\n",
       "      <td>1</td>\n",
       "      <td>0</td>\n",
       "      <td>2</td>\n",
       "      <td>7.120000e+07</td>\n",
       "      <td>princetonCerber</td>\n",
       "    </tr>\n",
       "    <tr>\n",
       "      <th>4</th>\n",
       "      <td>4</td>\n",
       "      <td>2016</td>\n",
       "      <td>238</td>\n",
       "      <td>144</td>\n",
       "      <td>0.072848</td>\n",
       "      <td>456</td>\n",
       "      <td>0</td>\n",
       "      <td>1</td>\n",
       "      <td>2.000000e+08</td>\n",
       "      <td>princetonLocky</td>\n",
       "    </tr>\n",
       "    <tr>\n",
       "      <th>...</th>\n",
       "      <td>...</td>\n",
       "      <td>...</td>\n",
       "      <td>...</td>\n",
       "      <td>...</td>\n",
       "      <td>...</td>\n",
       "      <td>...</td>\n",
       "      <td>...</td>\n",
       "      <td>...</td>\n",
       "      <td>...</td>\n",
       "      <td>...</td>\n",
       "    </tr>\n",
       "    <tr>\n",
       "      <th>2916692</th>\n",
       "      <td>2631091</td>\n",
       "      <td>2018</td>\n",
       "      <td>330</td>\n",
       "      <td>0</td>\n",
       "      <td>0.111111</td>\n",
       "      <td>1</td>\n",
       "      <td>0</td>\n",
       "      <td>1</td>\n",
       "      <td>1.255809e+09</td>\n",
       "      <td>white</td>\n",
       "    </tr>\n",
       "    <tr>\n",
       "      <th>2916693</th>\n",
       "      <td>2631092</td>\n",
       "      <td>2018</td>\n",
       "      <td>330</td>\n",
       "      <td>0</td>\n",
       "      <td>1.000000</td>\n",
       "      <td>1</td>\n",
       "      <td>0</td>\n",
       "      <td>1</td>\n",
       "      <td>4.409699e+07</td>\n",
       "      <td>white</td>\n",
       "    </tr>\n",
       "    <tr>\n",
       "      <th>2916694</th>\n",
       "      <td>2177756</td>\n",
       "      <td>2018</td>\n",
       "      <td>330</td>\n",
       "      <td>2</td>\n",
       "      <td>12.000000</td>\n",
       "      <td>6</td>\n",
       "      <td>6</td>\n",
       "      <td>35</td>\n",
       "      <td>2.398267e+09</td>\n",
       "      <td>white</td>\n",
       "    </tr>\n",
       "    <tr>\n",
       "      <th>2916695</th>\n",
       "      <td>2631093</td>\n",
       "      <td>2018</td>\n",
       "      <td>330</td>\n",
       "      <td>0</td>\n",
       "      <td>0.500000</td>\n",
       "      <td>1</td>\n",
       "      <td>0</td>\n",
       "      <td>1</td>\n",
       "      <td>1.780427e+08</td>\n",
       "      <td>white</td>\n",
       "    </tr>\n",
       "    <tr>\n",
       "      <th>2916696</th>\n",
       "      <td>2631094</td>\n",
       "      <td>2018</td>\n",
       "      <td>330</td>\n",
       "      <td>144</td>\n",
       "      <td>0.073972</td>\n",
       "      <td>6800</td>\n",
       "      <td>0</td>\n",
       "      <td>2</td>\n",
       "      <td>1.123500e+08</td>\n",
       "      <td>white</td>\n",
       "    </tr>\n",
       "  </tbody>\n",
       "</table>\n",
       "<p>2916697 rows × 10 columns</p>\n",
       "</div>"
      ],
      "text/plain": [
       "         address  year  day  length     weight  count  looped  neighbors  \\\n",
       "0              0  2017   11      18   0.008333      1       0          2   \n",
       "1              1  2016  132      44   0.000244      1       0          1   \n",
       "2              2  2016  246       0   1.000000      1       0          2   \n",
       "3              3  2016  322      72   0.003906      1       0          2   \n",
       "4              4  2016  238     144   0.072848    456       0          1   \n",
       "...          ...   ...  ...     ...        ...    ...     ...        ...   \n",
       "2916692  2631091  2018  330       0   0.111111      1       0          1   \n",
       "2916693  2631092  2018  330       0   1.000000      1       0          1   \n",
       "2916694  2177756  2018  330       2  12.000000      6       6         35   \n",
       "2916695  2631093  2018  330       0   0.500000      1       0          1   \n",
       "2916696  2631094  2018  330     144   0.073972   6800       0          2   \n",
       "\n",
       "               income            label  \n",
       "0        1.000500e+08  princetonCerber  \n",
       "1        1.000000e+08   princetonLocky  \n",
       "2        2.000000e+08  princetonCerber  \n",
       "3        7.120000e+07  princetonCerber  \n",
       "4        2.000000e+08   princetonLocky  \n",
       "...               ...              ...  \n",
       "2916692  1.255809e+09            white  \n",
       "2916693  4.409699e+07            white  \n",
       "2916694  2.398267e+09            white  \n",
       "2916695  1.780427e+08            white  \n",
       "2916696  1.123500e+08            white  \n",
       "\n",
       "[2916697 rows x 10 columns]"
      ]
     },
     "execution_count": 8,
     "metadata": {},
     "output_type": "execute_result"
    }
   ],
   "source": [
    "df"
   ]
  },
  {
   "cell_type": "markdown",
   "metadata": {},
   "source": [
    "#### Seperate into X and Y and transform the Y labels into either True for White and False for heist. This directly supports our objective to train a model that distinguishes between white and heist transactions."
   ]
  },
  {
   "cell_type": "code",
   "execution_count": 9,
   "metadata": {},
   "outputs": [
    {
     "name": "stdout",
     "output_type": "stream",
     "text": [
      "(2916697,) (2916697, 9)\n"
     ]
    }
   ],
   "source": [
    "Y = df['label']\n",
    "Y = Y.str.contains('white')\n",
    "X = df.drop(columns=['label'])\n",
    "print(Y.shape,X.shape)"
   ]
  },
  {
   "cell_type": "markdown",
   "metadata": {},
   "source": [
    "#### Scale X by MinMaxScaler"
   ]
  },
  {
   "cell_type": "code",
   "execution_count": 10,
   "metadata": {},
   "outputs": [
    {
     "data": {
      "text/plain": [
       "array([[0.00000000e+00, 8.57142857e-01, 2.74725275e-02, ...,\n",
       "        0.00000000e+00, 7.74053719e-05, 1.40199911e-06],\n",
       "       [3.80070039e-07, 7.14285714e-01, 3.59890110e-01, ...,\n",
       "        0.00000000e+00, 0.00000000e+00, 1.40099840e-06],\n",
       "       [7.60140079e-07, 7.14285714e-01, 6.73076923e-01, ...,\n",
       "        0.00000000e+00, 7.74053719e-05, 3.40242469e-06],\n",
       "       ...,\n",
       "       [8.27699809e-01, 1.00000000e+00, 9.03846154e-01, ...,\n",
       "        4.13907285e-04, 2.63178265e-03, 4.73991240e-05],\n",
       "       [9.99999620e-01, 1.00000000e+00, 9.03846154e-01, ...,\n",
       "        0.00000000e+00, 0.00000000e+00, 2.96296491e-06],\n",
       "       [1.00000000e+00, 1.00000000e+00, 9.03846154e-01, ...,\n",
       "        0.00000000e+00, 7.74053719e-05, 1.64817455e-06]])"
      ]
     },
     "execution_count": 10,
     "metadata": {},
     "output_type": "execute_result"
    }
   ],
   "source": [
    "min_max_scaler = preprocessing.MinMaxScaler()\n",
    "X_scale = min_max_scaler.fit_transform(X)\n",
    "X_scale"
   ]
  },
  {
   "cell_type": "markdown",
   "metadata": {},
   "source": [
    "#### Next two blocks will split the data into a training and test set. Then further split the test set into a test and validation sets; validation set is used while training the neural net for on the spot evaluation"
   ]
  },
  {
   "cell_type": "code",
   "execution_count": 11,
   "metadata": {},
   "outputs": [
    {
     "name": "stdout",
     "output_type": "stream",
     "text": [
      "(2333357, 9) (583340, 9) (2333357,) (583340,)\n"
     ]
    }
   ],
   "source": [
    "### Split to test and train\n",
    "X_train, X_test, Y_train, Y_test = train_test_split(X_scale, Y, test_size=0.2, random_state=42)\n",
    "\n",
    "print(X_train.shape, X_test.shape, Y_train.shape, Y_test.shape)"
   ]
  },
  {
   "cell_type": "code",
   "execution_count": 12,
   "metadata": {},
   "outputs": [
    {
     "name": "stdout",
     "output_type": "stream",
     "text": [
      "(291670, 9) (291670, 9) (291670,) (291670,)\n"
     ]
    }
   ],
   "source": [
    "X_val, X_test_net, Y_val, Y_test_net = train_test_split(X_test, Y_test, test_size=0.5)\n",
    "print(X_val.shape, X_test_net.shape, Y_val.shape, Y_test_net.shape)"
   ]
  },
  {
   "cell_type": "markdown",
   "metadata": {},
   "source": [
    "## Create and train the Keras Neural Net "
   ]
  },
  {
   "cell_type": "code",
   "execution_count": 49,
   "metadata": {},
   "outputs": [],
   "source": [
    "neural_model = Sequential([\n",
    "    Dense(32, activation='relu', input_shape=(9,)),\n",
    "    Dense(32, activation='relu'),\n",
    "    Dense(1, activation='sigmoid'),\n",
    "])\n",
    "\n",
    "neural_model.compile(optimizer='sgd',\n",
    "              loss='binary_crossentropy',\n",
    "              metrics=['accuracy'])"
   ]
  },
  {
   "cell_type": "code",
   "execution_count": 50,
   "metadata": {
    "scrolled": false
   },
   "outputs": [
    {
     "name": "stdout",
     "output_type": "stream",
     "text": [
      "Epoch 1/5\n",
      "72918/72918 [==============================] - 44s 588us/step - loss: 0.0274 - accuracy: 0.9937 - val_loss: 0.0016 - val_accuracy: 0.9995\n",
      "Epoch 2/5\n",
      "72918/72918 [==============================] - 48s 654us/step - loss: 0.0015 - accuracy: 0.9996 - val_loss: 0.0011 - val_accuracy: 0.9997\n",
      "Epoch 3/5\n",
      "72918/72918 [==============================] - 60s 820us/step - loss: 0.0011 - accuracy: 0.9997 - val_loss: 8.4103e-04 - val_accuracy: 0.9997\n",
      "Epoch 4/5\n",
      "72918/72918 [==============================] - 87s 1ms/step - loss: 9.4160e-04 - accuracy: 0.9997 - val_loss: 7.2273e-04 - val_accuracy: 0.9997\n",
      "Epoch 5/5\n",
      "72918/72918 [==============================] - 63s 871us/step - loss: 7.6836e-04 - accuracy: 0.9998 - val_loss: 6.4053e-04 - val_accuracy: 0.9998\n"
     ]
    }
   ],
   "source": [
    "hist = neural_model.fit(X_train, Y_train,\n",
    "          batch_size=32, epochs=5,\n",
    "          validation_data=(X_val, Y_val))"
   ]
  },
  {
   "cell_type": "code",
   "execution_count": 51,
   "metadata": {},
   "outputs": [
    {
     "data": {
      "image/png": "[encoded data removed]",
      "text/plain": [
       "<Figure size 432x288 with 1 Axes>"
      ]
     },
     "metadata": {
      "needs_background": "light"
     },
     "output_type": "display_data"
    },
    {
     "name": "stdout",
     "output_type": "stream",
     "text": [
      "dict_keys(['loss', 'accuracy', 'val_loss', 'val_accuracy'])\n"
     ]
    }
   ],
   "source": [
    "plt.plot(hist.history['loss'])\n",
    "plt.plot(hist.history['val_loss'])\n",
    "plt.title('Model loss')\n",
    "plt.ylabel('Loss')\n",
    "plt.xlabel('Epoch')\n",
    "plt.legend(['Train', 'Val'], loc='upper right')\n",
    "plt.show()\n",
    "\n",
    "print(hist.history.keys())"
   ]
  },
  {
   "cell_type": "markdown",
   "metadata": {},
   "source": [
    "#### Evaluate the test set with labels provided and observe accuracy"
   ]
  },
  {
   "cell_type": "code",
   "execution_count": 52,
   "metadata": {},
   "outputs": [
    {
     "name": "stdout",
     "output_type": "stream",
     "text": [
      "18230/18230 [==============================] - 7s 406us/step - loss: 7.0444e-04 - accuracy: 0.9998\n"
     ]
    },
    {
     "data": {
      "text/plain": [
       "0.9997994303703308"
      ]
     },
     "execution_count": 52,
     "metadata": {},
     "output_type": "execute_result"
    }
   ],
   "source": [
    "neural_model.evaluate(X_test, Y_test)[1]"
   ]
  },
  {
   "cell_type": "markdown",
   "metadata": {},
   "source": [
    "#### Call the predict function against the test set without labels provided for complete evaluation and then compare to the original numbers"
   ]
  },
  {
   "cell_type": "code",
   "execution_count": 53,
   "metadata": {},
   "outputs": [],
   "source": [
    "# For softmax activation\n",
    "# np.argmax(model.predict(X_test), axis=-1)\n",
    "\n",
    "# For sigmoid activiation\n",
    "classes = (neural_model.predict(X_test) > 0.5).astype(\"int32\")"
   ]
  },
  {
   "cell_type": "code",
   "execution_count": 54,
   "metadata": {},
   "outputs": [
    {
     "name": "stdout",
     "output_type": "stream",
     "text": [
      "Predicted number white 575238\n",
      "Predicted number heist 8102\n",
      "Actual number white 575237\n",
      "Actual number heist 8103\n"
     ]
    }
   ],
   "source": [
    "pred_white = np.count_nonzero(classes == 1) \n",
    "pred_heist = np.count_nonzero(classes == 0) \n",
    "print(\"Predicted number white\",pred_white)\n",
    "print(\"Predicted number heist\",pred_heist)\n",
    "\n",
    "test_white = np.count_nonzero(Y_test == True) \n",
    "test_heist = np.count_nonzero(Y_test == False)     \n",
    "print(\"Actual number white\",test_white)\n",
    "print(\"Actual number heist\",test_heist)\n",
    "        "
   ]
  },
  {
   "cell_type": "code",
   "execution_count": 55,
   "metadata": {},
   "outputs": [
    {
     "name": "stdout",
     "output_type": "stream",
     "text": [
      "The Accuracy is:  0.9997994308636473 \n",
      "The Precision is:  0.9998974337578532 \n",
      "The Recall is:  0.9998991719934566 \n",
      "The F1 Score is:  0.9998983028748994\n"
     ]
    }
   ],
   "source": [
    "def scorer(y_test,y_pred):\n",
    "    accuracy = accuracy_score(y_test, y_pred)\n",
    "    p_score = precision_score(y_test, y_pred)\n",
    "    r_score = recall_score(y_test, y_pred)\n",
    "    f_score = f1_score(y_test, y_pred)\n",
    "    return accuracy, p_score, r_score, f_score\n",
    "\n",
    "accuracy, p_score, r_score, f_score = scorer(Y_test, classes)\n",
    "print(\"The Accuracy is: \",accuracy,\"\\nThe Precision is: \",p_score,\"\\nThe Recall is: \",r_score,\"\\nThe F1 Score is: \",f_score)"
   ]
  },
  {
   "cell_type": "markdown",
   "metadata": {},
   "source": [
    "#### Assessment: the Neural Net is able to correctly distinguish between the white and heist data at a 99.9% accuracy rate. This would allow for future supplied data to be predicted accordingly."
   ]
  },
  {
   "cell_type": "markdown",
   "metadata": {},
   "source": [
    "## Create and train the Random Forest Classifier"
   ]
  },
  {
   "cell_type": "code",
   "execution_count": 20,
   "metadata": {},
   "outputs": [
    {
     "data": {
      "text/plain": [
       "RandomForestClassifier()"
      ]
     },
     "execution_count": 20,
     "metadata": {},
     "output_type": "execute_result"
    }
   ],
   "source": [
    "modelRF = RandomForestClassifier()\n",
    "modelRF.fit(X_train, Y_train)"
   ]
  },
  {
   "cell_type": "code",
   "execution_count": 21,
   "metadata": {},
   "outputs": [],
   "source": [
    "# evaluate the model\n",
    "cv = RepeatedStratifiedKFold(n_splits=10, n_repeats=3, random_state=1)\n",
    "n_scores = cross_val_score(modelRF, X_val, Y_val, scoring='accuracy', cv=cv, n_jobs=-1, error_score='raise')\n",
    "# report performance\n",
    "\n"
   ]
  },
  {
   "cell_type": "code",
   "execution_count": 22,
   "metadata": {},
   "outputs": [
    {
     "name": "stdout",
     "output_type": "stream",
     "text": [
      "Accuracy: 1.000 (0.000)\n",
      "[ True  True  True ...  True  True  True]\n",
      "[False  True]\n",
      "The Accuracy is:  1.0 \n",
      "The Precision is:  1.0 \n",
      "The Recall is:  1.0 \n",
      "The F1 Score is:  1.0\n"
     ]
    }
   ],
   "source": [
    "print('Accuracy: %.3f (%.3f)' % (np.mean(n_scores), np.std(n_scores)))\n",
    "\n",
    "y_predRF = modelRF.predict(X_test)\n",
    "y_predRF.astype(int)\n",
    "print(y_predRF)\n",
    "print(np.unique(y_predRF))\n",
    "\n",
    "accuracy, p_score, r_score, f_score = scorer(Y_test, y_predRF)\n",
    "print(\"The Accuracy is: \",accuracy,\"\\nThe Precision is: \",p_score,\"\\nThe Recall is: \",r_score,\"\\nThe F1 Score is: \",f_score)"
   ]
  },
  {
   "cell_type": "code",
   "execution_count": 23,
   "metadata": {},
   "outputs": [
    {
     "name": "stdout",
     "output_type": "stream",
     "text": [
      "Predicted number white 575237\n",
      "Predicted number heist 8103\n",
      "Actual number white 575237\n",
      "Actual number heist 8103\n"
     ]
    }
   ],
   "source": [
    "pred_white = np.count_nonzero(y_predRF == True) \n",
    "pred_heist = np.count_nonzero(y_predRF == False)\n",
    "print(\"Predicted number white\",pred_white)\n",
    "print(\"Predicted number heist\",pred_heist)\n",
    "\n",
    "test_white = np.count_nonzero(Y_test == True) \n",
    "test_heist = np.count_nonzero(Y_test == False)     \n",
    "print(\"Actual number white\",test_white)\n",
    "print(\"Actual number heist\",test_heist)\n",
    "        "
   ]
  },
  {
   "cell_type": "markdown",
   "metadata": {},
   "source": [
    "#### Assessment: The Random Forest implementation is able to correctly distinguish between the white and heist data at a 100% accuracy rate. This would allow for future supplied data to be predicted accordingly without error. The Random Forest implementation would be the preferred method."
   ]
  }
 ],
 "metadata": {
  "kernelspec": {
   "display_name": "Python 3",
   "language": "python",
   "name": "python3"
  },
  "language_info": {
   "codemirror_mode": {
    "name": "ipython",
    "version": 3
   },
   "file_extension": ".py",
   "mimetype": "text/x-python",
   "name": "python",
   "nbconvert_exporter": "python",
   "pygments_lexer": "ipython3",
   "version": "3.8.5"
  }
 },
 "nbformat": 4,
 "nbformat_minor": 4
}
