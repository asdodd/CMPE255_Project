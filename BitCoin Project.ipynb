{
 "cells": [
  {
   "cell_type": "code",
   "execution_count": 52,
   "metadata": {},
   "outputs": [],
   "source": [
    "import pandas as pd\n",
    "import numpy as np\n",
    "import matplotlib.pyplot as plt\n",
    "\n",
    "from sklearn.cluster import DBSCAN, KMeans\n",
    "from sklearn import metrics\n",
    "from sklearn.preprocessing import StandardScaler\n",
    "from sklearn.decomposition import PCA\n",
    "from sklearn.ensemble import RandomForestClassifier\n"
   ]
  },
  {
   "cell_type": "code",
   "execution_count": 3,
   "metadata": {},
   "outputs": [],
   "source": [
    "df = pd.read_csv('BitcoinHeistData.csv',index_col='label')"
   ]
  },
  {
   "cell_type": "code",
   "execution_count": 4,
   "metadata": {},
   "outputs": [
    {
     "data": {
      "text/html": [
       "<div>\n",
       "<style scoped>\n",
       "    .dataframe tbody tr th:only-of-type {\n",
       "        vertical-align: middle;\n",
       "    }\n",
       "\n",
       "    .dataframe tbody tr th {\n",
       "        vertical-align: top;\n",
       "    }\n",
       "\n",
       "    .dataframe thead th {\n",
       "        text-align: right;\n",
       "    }\n",
       "</style>\n",
       "<table border=\"1\" class=\"dataframe\">\n",
       "  <thead>\n",
       "    <tr style=\"text-align: right;\">\n",
       "      <th></th>\n",
       "      <th>year</th>\n",
       "      <th>day</th>\n",
       "      <th>length</th>\n",
       "      <th>weight</th>\n",
       "      <th>count</th>\n",
       "      <th>looped</th>\n",
       "      <th>neighbors</th>\n",
       "      <th>income</th>\n",
       "    </tr>\n",
       "  </thead>\n",
       "  <tbody>\n",
       "    <tr>\n",
       "      <th>count</th>\n",
       "      <td>2.916697e+06</td>\n",
       "      <td>2.916697e+06</td>\n",
       "      <td>2.916697e+06</td>\n",
       "      <td>2.916697e+06</td>\n",
       "      <td>2.916697e+06</td>\n",
       "      <td>2.916697e+06</td>\n",
       "      <td>2.916697e+06</td>\n",
       "      <td>2.916697e+06</td>\n",
       "    </tr>\n",
       "    <tr>\n",
       "      <th>mean</th>\n",
       "      <td>2.014475e+03</td>\n",
       "      <td>1.814572e+02</td>\n",
       "      <td>4.500859e+01</td>\n",
       "      <td>5.455192e-01</td>\n",
       "      <td>7.216446e+02</td>\n",
       "      <td>2.385067e+02</td>\n",
       "      <td>2.206516e+00</td>\n",
       "      <td>4.464889e+09</td>\n",
       "    </tr>\n",
       "    <tr>\n",
       "      <th>std</th>\n",
       "      <td>2.257398e+00</td>\n",
       "      <td>1.040118e+02</td>\n",
       "      <td>5.898236e+01</td>\n",
       "      <td>3.674255e+00</td>\n",
       "      <td>1.689676e+03</td>\n",
       "      <td>9.663217e+02</td>\n",
       "      <td>1.791877e+01</td>\n",
       "      <td>1.626860e+11</td>\n",
       "    </tr>\n",
       "    <tr>\n",
       "      <th>min</th>\n",
       "      <td>2.011000e+03</td>\n",
       "      <td>1.000000e+00</td>\n",
       "      <td>0.000000e+00</td>\n",
       "      <td>3.606469e-94</td>\n",
       "      <td>1.000000e+00</td>\n",
       "      <td>0.000000e+00</td>\n",
       "      <td>1.000000e+00</td>\n",
       "      <td>3.000000e+07</td>\n",
       "    </tr>\n",
       "    <tr>\n",
       "      <th>25%</th>\n",
       "      <td>2.013000e+03</td>\n",
       "      <td>9.200000e+01</td>\n",
       "      <td>2.000000e+00</td>\n",
       "      <td>2.148438e-02</td>\n",
       "      <td>1.000000e+00</td>\n",
       "      <td>0.000000e+00</td>\n",
       "      <td>1.000000e+00</td>\n",
       "      <td>7.428559e+07</td>\n",
       "    </tr>\n",
       "    <tr>\n",
       "      <th>50%</th>\n",
       "      <td>2.014000e+03</td>\n",
       "      <td>1.810000e+02</td>\n",
       "      <td>8.000000e+00</td>\n",
       "      <td>2.500000e-01</td>\n",
       "      <td>1.000000e+00</td>\n",
       "      <td>0.000000e+00</td>\n",
       "      <td>2.000000e+00</td>\n",
       "      <td>1.999985e+08</td>\n",
       "    </tr>\n",
       "    <tr>\n",
       "      <th>75%</th>\n",
       "      <td>2.016000e+03</td>\n",
       "      <td>2.710000e+02</td>\n",
       "      <td>1.080000e+02</td>\n",
       "      <td>8.819482e-01</td>\n",
       "      <td>5.600000e+01</td>\n",
       "      <td>0.000000e+00</td>\n",
       "      <td>2.000000e+00</td>\n",
       "      <td>9.940000e+08</td>\n",
       "    </tr>\n",
       "    <tr>\n",
       "      <th>max</th>\n",
       "      <td>2.018000e+03</td>\n",
       "      <td>3.650000e+02</td>\n",
       "      <td>1.440000e+02</td>\n",
       "      <td>1.943749e+03</td>\n",
       "      <td>1.449700e+04</td>\n",
       "      <td>1.449600e+04</td>\n",
       "      <td>1.292000e+04</td>\n",
       "      <td>4.996440e+13</td>\n",
       "    </tr>\n",
       "  </tbody>\n",
       "</table>\n",
       "</div>"
      ],
      "text/plain": [
       "               year           day        length        weight         count  \\\n",
       "count  2.916697e+06  2.916697e+06  2.916697e+06  2.916697e+06  2.916697e+06   \n",
       "mean   2.014475e+03  1.814572e+02  4.500859e+01  5.455192e-01  7.216446e+02   \n",
       "std    2.257398e+00  1.040118e+02  5.898236e+01  3.674255e+00  1.689676e+03   \n",
       "min    2.011000e+03  1.000000e+00  0.000000e+00  3.606469e-94  1.000000e+00   \n",
       "25%    2.013000e+03  9.200000e+01  2.000000e+00  2.148438e-02  1.000000e+00   \n",
       "50%    2.014000e+03  1.810000e+02  8.000000e+00  2.500000e-01  1.000000e+00   \n",
       "75%    2.016000e+03  2.710000e+02  1.080000e+02  8.819482e-01  5.600000e+01   \n",
       "max    2.018000e+03  3.650000e+02  1.440000e+02  1.943749e+03  1.449700e+04   \n",
       "\n",
       "             looped     neighbors        income  \n",
       "count  2.916697e+06  2.916697e+06  2.916697e+06  \n",
       "mean   2.385067e+02  2.206516e+00  4.464889e+09  \n",
       "std    9.663217e+02  1.791877e+01  1.626860e+11  \n",
       "min    0.000000e+00  1.000000e+00  3.000000e+07  \n",
       "25%    0.000000e+00  1.000000e+00  7.428559e+07  \n",
       "50%    0.000000e+00  2.000000e+00  1.999985e+08  \n",
       "75%    0.000000e+00  2.000000e+00  9.940000e+08  \n",
       "max    1.449600e+04  1.292000e+04  4.996440e+13  "
      ]
     },
     "execution_count": 4,
     "metadata": {},
     "output_type": "execute_result"
    }
   ],
   "source": [
    "df.describe()"
   ]
  },
  {
   "cell_type": "code",
   "execution_count": 5,
   "metadata": {},
   "outputs": [
    {
     "name": "stdout",
     "output_type": "stream",
     "text": [
      "                                            address  year  day  length  \\\n",
      "label                                                                    \n",
      "princetonCerber   111K8kZAEnJg245r2cM6y9zgJGHZtJPy6  2017   11      18   \n",
      "princetonLocky   1123pJv8jzeFQaCV4w644pzQJzVWay2zcA  2016  132      44   \n",
      "princetonCerber  112536im7hy6wtKbpH1qYDWtTyMRAcA2p7  2016  246       0   \n",
      "princetonCerber  1126eDRw2wqSkWosjTCre8cjjQW8sSeWH7  2016  322      72   \n",
      "princetonLocky   1129TSjKtx65E35GiUo4AYVeyo48twbrGX  2016  238     144   \n",
      "...                                             ...   ...  ...     ...   \n",
      "white            12D3trgho1vJ4mGtWBRPyHdMJK96TRYSry  2018  330       0   \n",
      "white            1P7PputTcVkhXBmXBvSD9MJ3UYPsiou1u2  2018  330       0   \n",
      "white            1KYiKJEfdJtap9QX2v9BXJMpz2SfU4pgZw  2018  330       2   \n",
      "white            15iPUJsRNZQZHmZZVwmQ63srsmughCXV4a  2018  330       0   \n",
      "white            3LFFBxp15h9KSFtaw55np8eP5fv6kdK17e  2018  330     144   \n",
      "\n",
      "                    weight  count  looped  neighbors        income  \n",
      "label                                                               \n",
      "princetonCerber   0.008333      1       0          2  1.000500e+08  \n",
      "princetonLocky    0.000244      1       0          1  1.000000e+08  \n",
      "princetonCerber   1.000000      1       0          2  2.000000e+08  \n",
      "princetonCerber   0.003906      1       0          2  7.120000e+07  \n",
      "princetonLocky    0.072848    456       0          1  2.000000e+08  \n",
      "...                    ...    ...     ...        ...           ...  \n",
      "white             0.111111      1       0          1  1.255809e+09  \n",
      "white             1.000000      1       0          1  4.409699e+07  \n",
      "white            12.000000      6       6         35  2.398267e+09  \n",
      "white             0.500000      1       0          1  1.780427e+08  \n",
      "white             0.073972   6800       0          2  1.123500e+08  \n",
      "\n",
      "[2916697 rows x 9 columns]\n"
     ]
    }
   ],
   "source": [
    "print(df)"
   ]
  },
  {
   "cell_type": "code",
   "execution_count": 6,
   "metadata": {},
   "outputs": [
    {
     "name": "stdout",
     "output_type": "stream",
     "text": [
      "                                  address  year  day  length     weight  \\\n",
      "label                                                                     \n",
      "white  19snqSYnDSC4mDbv3pJuYgYqm5ctqwAxnm  2011    1       0   1.000000   \n",
      "white  1FeGY25MSKtnwVNGrnbwLsecBpBYrMQ6Kx  2011    1       0   1.000000   \n",
      "white  1A1nkBK7tfnVRtVbyiirEWRcayQtSTBCsW  2011    1       0   1.000000   \n",
      "white  18wHa1PLzoU4ToemBZn2czZbVEbyZJ2gSi  2011    1       0   1.000000   \n",
      "white  188sYyuK756uEsq5LTk9tiXyJHeEjxKT5c  2011    1       0   1.000000   \n",
      "...                                   ...   ...  ...     ...        ...   \n",
      "white  12D3trgho1vJ4mGtWBRPyHdMJK96TRYSry  2018  330       0   0.111111   \n",
      "white  1P7PputTcVkhXBmXBvSD9MJ3UYPsiou1u2  2018  330       0   1.000000   \n",
      "white  1KYiKJEfdJtap9QX2v9BXJMpz2SfU4pgZw  2018  330       2  12.000000   \n",
      "white  15iPUJsRNZQZHmZZVwmQ63srsmughCXV4a  2018  330       0   0.500000   \n",
      "white  3LFFBxp15h9KSFtaw55np8eP5fv6kdK17e  2018  330     144   0.073972   \n",
      "\n",
      "       count  looped  neighbors        income  \n",
      "label                                          \n",
      "white      1       0          1  5.000000e+09  \n",
      "white      1       0          2  5.000000e+09  \n",
      "white      1       0          2  9.150000e+08  \n",
      "white      1       0          2  3.402500e+10  \n",
      "white      1       0          2  1.275100e+10  \n",
      "...      ...     ...        ...           ...  \n",
      "white      1       0          1  1.255809e+09  \n",
      "white      1       0          1  4.409699e+07  \n",
      "white      6       6         35  2.398267e+09  \n",
      "white      1       0          1  1.780427e+08  \n",
      "white   6800       0          2  1.123500e+08  \n",
      "\n",
      "[2875284 rows x 9 columns]\n"
     ]
    }
   ],
   "source": [
    "whiteTrans = df.loc['white']\n",
    "print(whiteTrans)"
   ]
  },
  {
   "cell_type": "code",
   "execution_count": 7,
   "metadata": {},
   "outputs": [
    {
     "name": "stdout",
     "output_type": "stream",
     "text": [
      "Percent White Transactions: 0.9858014048082472\n"
     ]
    }
   ],
   "source": [
    "print('Percent White Transactions: ' + str(whiteTrans.shape[0]/df.shape[0]))"
   ]
  },
  {
   "cell_type": "code",
   "execution_count": 8,
   "metadata": {},
   "outputs": [
    {
     "data": {
      "text/html": [
       "<div>\n",
       "<style scoped>\n",
       "    .dataframe tbody tr th:only-of-type {\n",
       "        vertical-align: middle;\n",
       "    }\n",
       "\n",
       "    .dataframe tbody tr th {\n",
       "        vertical-align: top;\n",
       "    }\n",
       "\n",
       "    .dataframe thead th {\n",
       "        text-align: right;\n",
       "    }\n",
       "</style>\n",
       "<table border=\"1\" class=\"dataframe\">\n",
       "  <thead>\n",
       "    <tr style=\"text-align: right;\">\n",
       "      <th></th>\n",
       "      <th>address</th>\n",
       "      <th>year</th>\n",
       "      <th>day</th>\n",
       "      <th>length</th>\n",
       "      <th>weight</th>\n",
       "      <th>count</th>\n",
       "      <th>looped</th>\n",
       "      <th>neighbors</th>\n",
       "      <th>income</th>\n",
       "    </tr>\n",
       "    <tr>\n",
       "      <th>label</th>\n",
       "      <th></th>\n",
       "      <th></th>\n",
       "      <th></th>\n",
       "      <th></th>\n",
       "      <th></th>\n",
       "      <th></th>\n",
       "      <th></th>\n",
       "      <th></th>\n",
       "      <th></th>\n",
       "    </tr>\n",
       "  </thead>\n",
       "  <tbody>\n",
       "    <tr>\n",
       "      <th>princetonCerber</th>\n",
       "      <td>111K8kZAEnJg245r2cM6y9zgJGHZtJPy6</td>\n",
       "      <td>2017</td>\n",
       "      <td>11</td>\n",
       "      <td>18</td>\n",
       "      <td>0.008333</td>\n",
       "      <td>1</td>\n",
       "      <td>0</td>\n",
       "      <td>2</td>\n",
       "      <td>1.000500e+08</td>\n",
       "    </tr>\n",
       "    <tr>\n",
       "      <th>princetonLocky</th>\n",
       "      <td>1123pJv8jzeFQaCV4w644pzQJzVWay2zcA</td>\n",
       "      <td>2016</td>\n",
       "      <td>132</td>\n",
       "      <td>44</td>\n",
       "      <td>0.000244</td>\n",
       "      <td>1</td>\n",
       "      <td>0</td>\n",
       "      <td>1</td>\n",
       "      <td>1.000000e+08</td>\n",
       "    </tr>\n",
       "    <tr>\n",
       "      <th>princetonCerber</th>\n",
       "      <td>112536im7hy6wtKbpH1qYDWtTyMRAcA2p7</td>\n",
       "      <td>2016</td>\n",
       "      <td>246</td>\n",
       "      <td>0</td>\n",
       "      <td>1.000000</td>\n",
       "      <td>1</td>\n",
       "      <td>0</td>\n",
       "      <td>2</td>\n",
       "      <td>2.000000e+08</td>\n",
       "    </tr>\n",
       "    <tr>\n",
       "      <th>princetonCerber</th>\n",
       "      <td>1126eDRw2wqSkWosjTCre8cjjQW8sSeWH7</td>\n",
       "      <td>2016</td>\n",
       "      <td>322</td>\n",
       "      <td>72</td>\n",
       "      <td>0.003906</td>\n",
       "      <td>1</td>\n",
       "      <td>0</td>\n",
       "      <td>2</td>\n",
       "      <td>7.120000e+07</td>\n",
       "    </tr>\n",
       "    <tr>\n",
       "      <th>princetonLocky</th>\n",
       "      <td>1129TSjKtx65E35GiUo4AYVeyo48twbrGX</td>\n",
       "      <td>2016</td>\n",
       "      <td>238</td>\n",
       "      <td>144</td>\n",
       "      <td>0.072848</td>\n",
       "      <td>456</td>\n",
       "      <td>0</td>\n",
       "      <td>1</td>\n",
       "      <td>2.000000e+08</td>\n",
       "    </tr>\n",
       "    <tr>\n",
       "      <th>...</th>\n",
       "      <td>...</td>\n",
       "      <td>...</td>\n",
       "      <td>...</td>\n",
       "      <td>...</td>\n",
       "      <td>...</td>\n",
       "      <td>...</td>\n",
       "      <td>...</td>\n",
       "      <td>...</td>\n",
       "      <td>...</td>\n",
       "    </tr>\n",
       "    <tr>\n",
       "      <th>montrealAPT</th>\n",
       "      <td>35iCvpMMnUWcSWrYtLJLXqe9xo5CYEWRhw</td>\n",
       "      <td>2017</td>\n",
       "      <td>76</td>\n",
       "      <td>144</td>\n",
       "      <td>1.375002</td>\n",
       "      <td>8076</td>\n",
       "      <td>8073</td>\n",
       "      <td>6</td>\n",
       "      <td>5.726876e+08</td>\n",
       "    </tr>\n",
       "    <tr>\n",
       "      <th>montrealAPT</th>\n",
       "      <td>377CY1m8W2qbQQX5HHjziimdh2faGjDeLv</td>\n",
       "      <td>2016</td>\n",
       "      <td>259</td>\n",
       "      <td>2</td>\n",
       "      <td>1.500000</td>\n",
       "      <td>2</td>\n",
       "      <td>0</td>\n",
       "      <td>2</td>\n",
       "      <td>7.449526e+07</td>\n",
       "    </tr>\n",
       "    <tr>\n",
       "      <th>montrealAPT</th>\n",
       "      <td>377CY1m8W2qbQQX5HHjziimdh2faGjDeLv</td>\n",
       "      <td>2016</td>\n",
       "      <td>277</td>\n",
       "      <td>0</td>\n",
       "      <td>0.500000</td>\n",
       "      <td>1</td>\n",
       "      <td>0</td>\n",
       "      <td>2</td>\n",
       "      <td>5.714286e+07</td>\n",
       "    </tr>\n",
       "    <tr>\n",
       "      <th>montrealAPT</th>\n",
       "      <td>377CY1m8W2qbQQX5HHjziimdh2faGjDeLv</td>\n",
       "      <td>2016</td>\n",
       "      <td>271</td>\n",
       "      <td>6</td>\n",
       "      <td>0.125000</td>\n",
       "      <td>1</td>\n",
       "      <td>0</td>\n",
       "      <td>2</td>\n",
       "      <td>1.000000e+08</td>\n",
       "    </tr>\n",
       "    <tr>\n",
       "      <th>montrealAPT</th>\n",
       "      <td>377CY1m8W2qbQQX5HHjziimdh2faGjDeLv</td>\n",
       "      <td>2016</td>\n",
       "      <td>278</td>\n",
       "      <td>144</td>\n",
       "      <td>0.309727</td>\n",
       "      <td>4882</td>\n",
       "      <td>0</td>\n",
       "      <td>1</td>\n",
       "      <td>1.000000e+09</td>\n",
       "    </tr>\n",
       "  </tbody>\n",
       "</table>\n",
       "<p>41413 rows × 9 columns</p>\n",
       "</div>"
      ],
      "text/plain": [
       "                                            address  year  day  length  \\\n",
       "label                                                                    \n",
       "princetonCerber   111K8kZAEnJg245r2cM6y9zgJGHZtJPy6  2017   11      18   \n",
       "princetonLocky   1123pJv8jzeFQaCV4w644pzQJzVWay2zcA  2016  132      44   \n",
       "princetonCerber  112536im7hy6wtKbpH1qYDWtTyMRAcA2p7  2016  246       0   \n",
       "princetonCerber  1126eDRw2wqSkWosjTCre8cjjQW8sSeWH7  2016  322      72   \n",
       "princetonLocky   1129TSjKtx65E35GiUo4AYVeyo48twbrGX  2016  238     144   \n",
       "...                                             ...   ...  ...     ...   \n",
       "montrealAPT      35iCvpMMnUWcSWrYtLJLXqe9xo5CYEWRhw  2017   76     144   \n",
       "montrealAPT      377CY1m8W2qbQQX5HHjziimdh2faGjDeLv  2016  259       2   \n",
       "montrealAPT      377CY1m8W2qbQQX5HHjziimdh2faGjDeLv  2016  277       0   \n",
       "montrealAPT      377CY1m8W2qbQQX5HHjziimdh2faGjDeLv  2016  271       6   \n",
       "montrealAPT      377CY1m8W2qbQQX5HHjziimdh2faGjDeLv  2016  278     144   \n",
       "\n",
       "                   weight  count  looped  neighbors        income  \n",
       "label                                                              \n",
       "princetonCerber  0.008333      1       0          2  1.000500e+08  \n",
       "princetonLocky   0.000244      1       0          1  1.000000e+08  \n",
       "princetonCerber  1.000000      1       0          2  2.000000e+08  \n",
       "princetonCerber  0.003906      1       0          2  7.120000e+07  \n",
       "princetonLocky   0.072848    456       0          1  2.000000e+08  \n",
       "...                   ...    ...     ...        ...           ...  \n",
       "montrealAPT      1.375002   8076    8073          6  5.726876e+08  \n",
       "montrealAPT      1.500000      2       0          2  7.449526e+07  \n",
       "montrealAPT      0.500000      1       0          2  5.714286e+07  \n",
       "montrealAPT      0.125000      1       0          2  1.000000e+08  \n",
       "montrealAPT      0.309727   4882       0          1  1.000000e+09  \n",
       "\n",
       "[41413 rows x 9 columns]"
      ]
     },
     "execution_count": 8,
     "metadata": {},
     "output_type": "execute_result"
    }
   ],
   "source": [
    "dirtyTrans = df.drop('white', axis = 0)\n",
    "df.drop('white', axis = 0)"
   ]
  },
  {
   "cell_type": "code",
   "execution_count": 9,
   "metadata": {},
   "outputs": [
    {
     "data": {
      "text/html": [
       "<div>\n",
       "<style scoped>\n",
       "    .dataframe tbody tr th:only-of-type {\n",
       "        vertical-align: middle;\n",
       "    }\n",
       "\n",
       "    .dataframe tbody tr th {\n",
       "        vertical-align: top;\n",
       "    }\n",
       "\n",
       "    .dataframe thead th {\n",
       "        text-align: right;\n",
       "    }\n",
       "</style>\n",
       "<table border=\"1\" class=\"dataframe\">\n",
       "  <thead>\n",
       "    <tr style=\"text-align: right;\">\n",
       "      <th></th>\n",
       "      <th>year</th>\n",
       "      <th>day</th>\n",
       "      <th>length</th>\n",
       "      <th>weight</th>\n",
       "      <th>count</th>\n",
       "      <th>looped</th>\n",
       "      <th>neighbors</th>\n",
       "      <th>income</th>\n",
       "    </tr>\n",
       "  </thead>\n",
       "  <tbody>\n",
       "    <tr>\n",
       "      <th>count</th>\n",
       "      <td>41413.000000</td>\n",
       "      <td>41413.000000</td>\n",
       "      <td>41413.000000</td>\n",
       "      <td>4.141300e+04</td>\n",
       "      <td>41413.000000</td>\n",
       "      <td>41413.000000</td>\n",
       "      <td>41413.000000</td>\n",
       "      <td>4.141300e+04</td>\n",
       "    </tr>\n",
       "    <tr>\n",
       "      <th>mean</th>\n",
       "      <td>2014.876923</td>\n",
       "      <td>174.439741</td>\n",
       "      <td>41.636926</td>\n",
       "      <td>6.274532e-01</td>\n",
       "      <td>599.810277</td>\n",
       "      <td>95.100645</td>\n",
       "      <td>2.076256</td>\n",
       "      <td>7.833721e+08</td>\n",
       "    </tr>\n",
       "    <tr>\n",
       "      <th>std</th>\n",
       "      <td>1.361243</td>\n",
       "      <td>94.700239</td>\n",
       "      <td>58.442350</td>\n",
       "      <td>2.667625e+00</td>\n",
       "      <td>1419.955449</td>\n",
       "      <td>525.423306</td>\n",
       "      <td>2.401167</td>\n",
       "      <td>1.423362e+10</td>\n",
       "    </tr>\n",
       "    <tr>\n",
       "      <th>min</th>\n",
       "      <td>2011.000000</td>\n",
       "      <td>1.000000</td>\n",
       "      <td>0.000000</td>\n",
       "      <td>4.719723e-42</td>\n",
       "      <td>1.000000</td>\n",
       "      <td>0.000000</td>\n",
       "      <td>1.000000</td>\n",
       "      <td>3.000000e+07</td>\n",
       "    </tr>\n",
       "    <tr>\n",
       "      <th>25%</th>\n",
       "      <td>2014.000000</td>\n",
       "      <td>90.000000</td>\n",
       "      <td>0.000000</td>\n",
       "      <td>6.250000e-02</td>\n",
       "      <td>1.000000</td>\n",
       "      <td>0.000000</td>\n",
       "      <td>1.000000</td>\n",
       "      <td>8.000000e+07</td>\n",
       "    </tr>\n",
       "    <tr>\n",
       "      <th>50%</th>\n",
       "      <td>2015.000000</td>\n",
       "      <td>160.000000</td>\n",
       "      <td>6.000000</td>\n",
       "      <td>3.880441e-01</td>\n",
       "      <td>1.000000</td>\n",
       "      <td>0.000000</td>\n",
       "      <td>2.000000</td>\n",
       "      <td>1.250000e+08</td>\n",
       "    </tr>\n",
       "    <tr>\n",
       "      <th>75%</th>\n",
       "      <td>2016.000000</td>\n",
       "      <td>260.000000</td>\n",
       "      <td>80.000000</td>\n",
       "      <td>1.000000e+00</td>\n",
       "      <td>15.000000</td>\n",
       "      <td>0.000000</td>\n",
       "      <td>2.000000</td>\n",
       "      <td>3.000000e+08</td>\n",
       "    </tr>\n",
       "    <tr>\n",
       "      <th>max</th>\n",
       "      <td>2018.000000</td>\n",
       "      <td>365.000000</td>\n",
       "      <td>144.000000</td>\n",
       "      <td>4.982885e+02</td>\n",
       "      <td>13462.000000</td>\n",
       "      <td>11693.000000</td>\n",
       "      <td>94.000000</td>\n",
       "      <td>2.595000e+12</td>\n",
       "    </tr>\n",
       "  </tbody>\n",
       "</table>\n",
       "</div>"
      ],
      "text/plain": [
       "               year           day        length        weight         count  \\\n",
       "count  41413.000000  41413.000000  41413.000000  4.141300e+04  41413.000000   \n",
       "mean    2014.876923    174.439741     41.636926  6.274532e-01    599.810277   \n",
       "std        1.361243     94.700239     58.442350  2.667625e+00   1419.955449   \n",
       "min     2011.000000      1.000000      0.000000  4.719723e-42      1.000000   \n",
       "25%     2014.000000     90.000000      0.000000  6.250000e-02      1.000000   \n",
       "50%     2015.000000    160.000000      6.000000  3.880441e-01      1.000000   \n",
       "75%     2016.000000    260.000000     80.000000  1.000000e+00     15.000000   \n",
       "max     2018.000000    365.000000    144.000000  4.982885e+02  13462.000000   \n",
       "\n",
       "             looped     neighbors        income  \n",
       "count  41413.000000  41413.000000  4.141300e+04  \n",
       "mean      95.100645      2.076256  7.833721e+08  \n",
       "std      525.423306      2.401167  1.423362e+10  \n",
       "min        0.000000      1.000000  3.000000e+07  \n",
       "25%        0.000000      1.000000  8.000000e+07  \n",
       "50%        0.000000      2.000000  1.250000e+08  \n",
       "75%        0.000000      2.000000  3.000000e+08  \n",
       "max    11693.000000     94.000000  2.595000e+12  "
      ]
     },
     "execution_count": 9,
     "metadata": {},
     "output_type": "execute_result"
    }
   ],
   "source": [
    "dirtyTrans.describe()"
   ]
  },
  {
   "cell_type": "code",
   "execution_count": 10,
   "metadata": {},
   "outputs": [
    {
     "data": {
      "text/html": [
       "<div>\n",
       "<style scoped>\n",
       "    .dataframe tbody tr th:only-of-type {\n",
       "        vertical-align: middle;\n",
       "    }\n",
       "\n",
       "    .dataframe tbody tr th {\n",
       "        vertical-align: top;\n",
       "    }\n",
       "\n",
       "    .dataframe thead th {\n",
       "        text-align: right;\n",
       "    }\n",
       "</style>\n",
       "<table border=\"1\" class=\"dataframe\">\n",
       "  <thead>\n",
       "    <tr style=\"text-align: right;\">\n",
       "      <th></th>\n",
       "      <th>year</th>\n",
       "      <th>day</th>\n",
       "      <th>length</th>\n",
       "      <th>weight</th>\n",
       "      <th>count</th>\n",
       "      <th>looped</th>\n",
       "      <th>neighbors</th>\n",
       "      <th>income</th>\n",
       "    </tr>\n",
       "  </thead>\n",
       "  <tbody>\n",
       "    <tr>\n",
       "      <th>count</th>\n",
       "      <td>2.875284e+06</td>\n",
       "      <td>2.875284e+06</td>\n",
       "      <td>2.875284e+06</td>\n",
       "      <td>2.875284e+06</td>\n",
       "      <td>2.875284e+06</td>\n",
       "      <td>2.875284e+06</td>\n",
       "      <td>2.875284e+06</td>\n",
       "      <td>2.875284e+06</td>\n",
       "    </tr>\n",
       "    <tr>\n",
       "      <th>mean</th>\n",
       "      <td>2.014469e+03</td>\n",
       "      <td>1.815583e+02</td>\n",
       "      <td>4.505716e+01</td>\n",
       "      <td>5.443391e-01</td>\n",
       "      <td>7.233994e+02</td>\n",
       "      <td>2.405722e+02</td>\n",
       "      <td>2.208392e+00</td>\n",
       "      <td>4.517914e+09</td>\n",
       "    </tr>\n",
       "    <tr>\n",
       "      <th>std</th>\n",
       "      <td>2.267199e+00</td>\n",
       "      <td>1.041364e+02</td>\n",
       "      <td>5.898871e+01</td>\n",
       "      <td>3.686734e+00</td>\n",
       "      <td>1.693183e+03</td>\n",
       "      <td>9.710563e+02</td>\n",
       "      <td>1.804504e+01</td>\n",
       "      <td>1.638439e+11</td>\n",
       "    </tr>\n",
       "    <tr>\n",
       "      <th>min</th>\n",
       "      <td>2.011000e+03</td>\n",
       "      <td>1.000000e+00</td>\n",
       "      <td>0.000000e+00</td>\n",
       "      <td>3.606469e-94</td>\n",
       "      <td>1.000000e+00</td>\n",
       "      <td>0.000000e+00</td>\n",
       "      <td>1.000000e+00</td>\n",
       "      <td>3.000000e+07</td>\n",
       "    </tr>\n",
       "    <tr>\n",
       "      <th>25%</th>\n",
       "      <td>2.012000e+03</td>\n",
       "      <td>9.200000e+01</td>\n",
       "      <td>2.000000e+00</td>\n",
       "      <td>2.111024e-02</td>\n",
       "      <td>1.000000e+00</td>\n",
       "      <td>0.000000e+00</td>\n",
       "      <td>1.000000e+00</td>\n",
       "      <td>7.404454e+07</td>\n",
       "    </tr>\n",
       "    <tr>\n",
       "      <th>50%</th>\n",
       "      <td>2.014000e+03</td>\n",
       "      <td>1.810000e+02</td>\n",
       "      <td>8.000000e+00</td>\n",
       "      <td>2.500000e-01</td>\n",
       "      <td>1.000000e+00</td>\n",
       "      <td>0.000000e+00</td>\n",
       "      <td>2.000000e+00</td>\n",
       "      <td>2.000000e+08</td>\n",
       "    </tr>\n",
       "    <tr>\n",
       "      <th>75%</th>\n",
       "      <td>2.016000e+03</td>\n",
       "      <td>2.710000e+02</td>\n",
       "      <td>1.080000e+02</td>\n",
       "      <td>8.750000e-01</td>\n",
       "      <td>5.700000e+01</td>\n",
       "      <td>0.000000e+00</td>\n",
       "      <td>2.000000e+00</td>\n",
       "      <td>1.000000e+09</td>\n",
       "    </tr>\n",
       "    <tr>\n",
       "      <th>max</th>\n",
       "      <td>2.018000e+03</td>\n",
       "      <td>3.650000e+02</td>\n",
       "      <td>1.440000e+02</td>\n",
       "      <td>1.943749e+03</td>\n",
       "      <td>1.449700e+04</td>\n",
       "      <td>1.449600e+04</td>\n",
       "      <td>1.292000e+04</td>\n",
       "      <td>4.996440e+13</td>\n",
       "    </tr>\n",
       "  </tbody>\n",
       "</table>\n",
       "</div>"
      ],
      "text/plain": [
       "               year           day        length        weight         count  \\\n",
       "count  2.875284e+06  2.875284e+06  2.875284e+06  2.875284e+06  2.875284e+06   \n",
       "mean   2.014469e+03  1.815583e+02  4.505716e+01  5.443391e-01  7.233994e+02   \n",
       "std    2.267199e+00  1.041364e+02  5.898871e+01  3.686734e+00  1.693183e+03   \n",
       "min    2.011000e+03  1.000000e+00  0.000000e+00  3.606469e-94  1.000000e+00   \n",
       "25%    2.012000e+03  9.200000e+01  2.000000e+00  2.111024e-02  1.000000e+00   \n",
       "50%    2.014000e+03  1.810000e+02  8.000000e+00  2.500000e-01  1.000000e+00   \n",
       "75%    2.016000e+03  2.710000e+02  1.080000e+02  8.750000e-01  5.700000e+01   \n",
       "max    2.018000e+03  3.650000e+02  1.440000e+02  1.943749e+03  1.449700e+04   \n",
       "\n",
       "             looped     neighbors        income  \n",
       "count  2.875284e+06  2.875284e+06  2.875284e+06  \n",
       "mean   2.405722e+02  2.208392e+00  4.517914e+09  \n",
       "std    9.710563e+02  1.804504e+01  1.638439e+11  \n",
       "min    0.000000e+00  1.000000e+00  3.000000e+07  \n",
       "25%    0.000000e+00  1.000000e+00  7.404454e+07  \n",
       "50%    0.000000e+00  2.000000e+00  2.000000e+08  \n",
       "75%    0.000000e+00  2.000000e+00  1.000000e+09  \n",
       "max    1.449600e+04  1.292000e+04  4.996440e+13  "
      ]
     },
     "execution_count": 10,
     "metadata": {},
     "output_type": "execute_result"
    }
   ],
   "source": [
    "whiteTrans.describe()"
   ]
  },
  {
   "cell_type": "code",
   "execution_count": 19,
   "metadata": {},
   "outputs": [
    {
     "data": {
      "image/png": "[encoded data removed]",
      "text/plain": [
       "<Figure size 432x288 with 1 Axes>"
      ]
     },
     "metadata": {
      "needs_background": "light"
     },
     "output_type": "display_data"
    },
    {
     "data": {
      "image/png": "[encoded data removed]",
      "text/plain": [
       "<Figure size 432x288 with 1 Axes>"
      ]
     },
     "metadata": {
      "needs_background": "light"
     },
     "output_type": "display_data"
    },
    {
     "data": {
      "image/png": "[encoded data removed]",
      "text/plain": [
       "<Figure size 432x288 with 1 Axes>"
      ]
     },
     "metadata": {
      "needs_background": "light"
     },
     "output_type": "display_data"
    },
    {
     "data": {
      "image/png": "[encoded data removed]",
      "text/plain": [
       "<Figure size 432x288 with 1 Axes>"
      ]
     },
     "metadata": {
      "needs_background": "light"
     },
     "output_type": "display_data"
    },
    {
     "data": {
      "image/png": "[encoded data removed]",
      "text/plain": [
       "<Figure size 432x288 with 1 Axes>"
      ]
     },
     "metadata": {
      "needs_background": "light"
     },
     "output_type": "display_data"
    },
    {
     "data": {
      "image/png": "[encoded data removed]",
      "text/plain": [
       "<Figure size 432x288 with 1 Axes>"
      ]
     },
     "metadata": {
      "needs_background": "light"
     },
     "output_type": "display_data"
    }
   ],
   "source": [
    "plt.hist(dirtyTrans.loc[:,'length'])\n",
    "plt.show()\n",
    "plt.hist(dirtyTrans.loc[:,'weight'],[0, 3, 10, 50, 100])\n",
    "plt.show()\n",
    "plt.hist(dirtyTrans.loc[:,'count'])\n",
    "plt.show()\n",
    "plt.hist(dirtyTrans.loc[:,'looped'])\n",
    "plt.show()\n",
    "plt.hist(dirtyTrans.loc[:,'neighbors'])\n",
    "plt.show()\n",
    "plt.hist(dirtyTrans.loc[:,'income'])\n",
    "plt.show()"
   ]
  },
  {
   "cell_type": "code",
   "execution_count": 20,
   "metadata": {},
   "outputs": [
    {
     "data": {
      "image/png": "[encoded data removed]",
      "text/plain": [
       "<Figure size 432x288 with 1 Axes>"
      ]
     },
     "metadata": {
      "needs_background": "light"
     },
     "output_type": "display_data"
    },
    {
     "data": {
      "image/png": "[encoded data removed]",
      "text/plain": [
       "<Figure size 432x288 with 1 Axes>"
      ]
     },
     "metadata": {
      "needs_background": "light"
     },
     "output_type": "display_data"
    },
    {
     "data": {
      "image/png": "[encoded data removed]",
      "text/plain": [
       "<Figure size 432x288 with 1 Axes>"
      ]
     },
     "metadata": {
      "needs_background": "light"
     },
     "output_type": "display_data"
    },
    {
     "data": {
      "image/png": "[encoded data removed]",
      "text/plain": [
       "<Figure size 432x288 with 1 Axes>"
      ]
     },
     "metadata": {
      "needs_background": "light"
     },
     "output_type": "display_data"
    },
    {
     "data": {
      "image/png": "[encoded data removed]",
      "text/plain": [
       "<Figure size 432x288 with 1 Axes>"
      ]
     },
     "metadata": {
      "needs_background": "light"
     },
     "output_type": "display_data"
    },
    {
     "data": {
      "image/png": "[encoded data removed]",
      "text/plain": [
       "<Figure size 432x288 with 1 Axes>"
      ]
     },
     "metadata": {
      "needs_background": "light"
     },
     "output_type": "display_data"
    }
   ],
   "source": [
    "plt.hist(whiteTrans.loc[:,'length'])\n",
    "plt.show()\n",
    "plt.hist(whiteTrans.loc[:,'weight'],[0, 3, 10, 50, 100])\n",
    "plt.show()\n",
    "plt.hist(whiteTrans.loc[:,'count'])\n",
    "plt.show()\n",
    "plt.hist(whiteTrans.loc[:,'looped'])\n",
    "plt.show()\n",
    "plt.hist(whiteTrans.loc[:,'neighbors'])\n",
    "plt.show()\n",
    "plt.hist(whiteTrans.loc[:,'income'])\n",
    "plt.show()"
   ]
  },
  {
   "cell_type": "code",
   "execution_count": 21,
   "metadata": {},
   "outputs": [
    {
     "data": {
      "image/png": "[encoded data removed]",
      "text/plain": [
       "<Figure size 288x288 with 1 Axes>"
      ]
     },
     "metadata": {
      "needs_background": "light"
     },
     "output_type": "display_data"
    }
   ],
   "source": [
    "dirtyTemp = dirtyTrans.iloc[:,3:]\n",
    "plt.matshow(dirtyTemp.corr())\n",
    "plt.show()"
   ]
  },
  {
   "cell_type": "code",
   "execution_count": 22,
   "metadata": {},
   "outputs": [
    {
     "data": {
      "image/png": "[encoded data removed]",
      "text/plain": [
       "<Figure size 288x288 with 1 Axes>"
      ]
     },
     "metadata": {
      "needs_background": "light"
     },
     "output_type": "display_data"
    }
   ],
   "source": [
    "whiteTemp = whiteTrans.iloc[:,3:]\n",
    "plt.matshow(whiteTemp.corr())\n",
    "plt.show()"
   ]
  },
  {
   "cell_type": "code",
   "execution_count": 24,
   "metadata": {},
   "outputs": [],
   "source": [
    "db = DBSCAN(eps=0.3, min_samples=10).fit(dirtyTemp)\n",
    "core_samples_mask = np.zeros_like(db.labels_, dtype=bool)\n",
    "core_samples_mask[db.core_sample_indices_] = True\n",
    "labels = db.labels_\n",
    "\n"
   ]
  },
  {
   "cell_type": "code",
   "execution_count": 27,
   "metadata": {},
   "outputs": [
    {
     "name": "stdout",
     "output_type": "stream",
     "text": [
      "Estimated number of clusters: 239\n",
      "Silhouette Coefficient: -0.642\n"
     ]
    }
   ],
   "source": [
    "# Number of clusters in labels, ignoring noise if present.\n",
    "n_clusters_ = len(set(labels)) - (1 if -1 in labels else 0)\n",
    "\n",
    "print('Estimated number of clusters: %d' % n_clusters_)\n",
    "# print(\"Homogeneity: %0.3f\" % metrics.homogeneity_score(labels_true, labels))\n",
    "# print(\"Completeness: %0.3f\" % metrics.completeness_score(labels_true, labels))\n",
    "# print(\"V-measure: %0.3f\" % metrics.v_measure_score(labels_true, labels))\n",
    "# print(\"Adjusted Rand Index: %0.3f\"\n",
    "#       % metrics.adjusted_rand_score(labels_true, labels))\n",
    "# print(\"Adjusted Mutual Information: %0.3f\"\n",
    "#       % metrics.adjusted_mutual_info_score(labels_true, labels))\n",
    "print(\"Silhouette Coefficient: %0.3f\"\n",
    "      % metrics.silhouette_score(dirtyTemp, labels))\n",
    "\n",
    "# #############################################################################\n"
   ]
  },
  {
   "cell_type": "code",
   "execution_count": 43,
   "metadata": {},
   "outputs": [
    {
     "name": "stdout",
     "output_type": "stream",
     "text": [
      "                      length  weight  count  looped  neighbors       income\n",
      "label                                                                      \n",
      "princetonCerber            0     1.0      1       0          2  200000000.0\n",
      "montrealCryptoLocker       0     1.0      1       0          2  200000000.0\n",
      "montrealCryptoLocker       0     1.0      1       0          2  200000000.0\n",
      "princetonCerber            0     1.0      1       0          2  200000000.0\n",
      "princetonCerber            0     1.0      1       0          2  200000000.0\n",
      "...                      ...     ...    ...     ...        ...          ...\n",
      "princetonCerber            0     1.0      1       0          2  200000000.0\n",
      "princetonCerber            0     1.0      1       0          2  200000000.0\n",
      "paduaCryptoWall            0     1.0      1       0          2  200000000.0\n",
      "paduaCryptoWall            0     1.0      1       0          2  200000000.0\n",
      "princetonCerber            0     1.0      1       0          2  200000000.0\n",
      "\n",
      "[94 rows x 6 columns]\n"
     ]
    },
    {
     "ename": "TypeError",
     "evalue": "'(slice(None, None, None), 0)' is an invalid key",
     "output_type": "error",
     "traceback": [
      "\u001b[0;31m---------------------------------------------------------------------------\u001b[0m",
      "\u001b[0;31mTypeError\u001b[0m                                 Traceback (most recent call last)",
      "\u001b[0;32m<ipython-input-43-f8e6d09db2b3>\u001b[0m in \u001b[0;36m<module>\u001b[0;34m\u001b[0m\n\u001b[1;32m     14\u001b[0m     \u001b[0mxy\u001b[0m \u001b[0;34m=\u001b[0m \u001b[0mdirtyTemp\u001b[0m\u001b[0;34m[\u001b[0m\u001b[0mclass_member_mask\u001b[0m \u001b[0;34m&\u001b[0m \u001b[0mcore_samples_mask\u001b[0m\u001b[0;34m]\u001b[0m\u001b[0;34m\u001b[0m\u001b[0;34m\u001b[0m\u001b[0m\n\u001b[1;32m     15\u001b[0m     \u001b[0mprint\u001b[0m\u001b[0;34m(\u001b[0m\u001b[0mxy\u001b[0m\u001b[0;34m)\u001b[0m\u001b[0;34m\u001b[0m\u001b[0;34m\u001b[0m\u001b[0m\n\u001b[0;32m---> 16\u001b[0;31m     plt.plot(xy[:, 0], xy[:, 1], 'o', markerfacecolor=tuple(col),\n\u001b[0m\u001b[1;32m     17\u001b[0m              markeredgecolor='k', markersize=14)\n\u001b[1;32m     18\u001b[0m \u001b[0;34m\u001b[0m\u001b[0m\n",
      "\u001b[0;32m~/opt/anaconda3/lib/python3.8/site-packages/pandas/core/frame.py\u001b[0m in \u001b[0;36m__getitem__\u001b[0;34m(self, key)\u001b[0m\n\u001b[1;32m   2900\u001b[0m             \u001b[0;32mif\u001b[0m \u001b[0mself\u001b[0m\u001b[0;34m.\u001b[0m\u001b[0mcolumns\u001b[0m\u001b[0;34m.\u001b[0m\u001b[0mnlevels\u001b[0m \u001b[0;34m>\u001b[0m \u001b[0;36m1\u001b[0m\u001b[0;34m:\u001b[0m\u001b[0;34m\u001b[0m\u001b[0;34m\u001b[0m\u001b[0m\n\u001b[1;32m   2901\u001b[0m                 \u001b[0;32mreturn\u001b[0m \u001b[0mself\u001b[0m\u001b[0;34m.\u001b[0m\u001b[0m_getitem_multilevel\u001b[0m\u001b[0;34m(\u001b[0m\u001b[0mkey\u001b[0m\u001b[0;34m)\u001b[0m\u001b[0;34m\u001b[0m\u001b[0;34m\u001b[0m\u001b[0m\n\u001b[0;32m-> 2902\u001b[0;31m             \u001b[0mindexer\u001b[0m \u001b[0;34m=\u001b[0m \u001b[0mself\u001b[0m\u001b[0;34m.\u001b[0m\u001b[0mcolumns\u001b[0m\u001b[0;34m.\u001b[0m\u001b[0mget_loc\u001b[0m\u001b[0;34m(\u001b[0m\u001b[0mkey\u001b[0m\u001b[0;34m)\u001b[0m\u001b[0;34m\u001b[0m\u001b[0;34m\u001b[0m\u001b[0m\n\u001b[0m\u001b[1;32m   2903\u001b[0m             \u001b[0;32mif\u001b[0m \u001b[0mis_integer\u001b[0m\u001b[0;34m(\u001b[0m\u001b[0mindexer\u001b[0m\u001b[0;34m)\u001b[0m\u001b[0;34m:\u001b[0m\u001b[0;34m\u001b[0m\u001b[0;34m\u001b[0m\u001b[0m\n\u001b[1;32m   2904\u001b[0m                 \u001b[0mindexer\u001b[0m \u001b[0;34m=\u001b[0m \u001b[0;34m[\u001b[0m\u001b[0mindexer\u001b[0m\u001b[0;34m]\u001b[0m\u001b[0;34m\u001b[0m\u001b[0;34m\u001b[0m\u001b[0m\n",
      "\u001b[0;32m~/opt/anaconda3/lib/python3.8/site-packages/pandas/core/indexes/base.py\u001b[0m in \u001b[0;36mget_loc\u001b[0;34m(self, key, method, tolerance)\u001b[0m\n\u001b[1;32m   2893\u001b[0m             \u001b[0mcasted_key\u001b[0m \u001b[0;34m=\u001b[0m \u001b[0mself\u001b[0m\u001b[0;34m.\u001b[0m\u001b[0m_maybe_cast_indexer\u001b[0m\u001b[0;34m(\u001b[0m\u001b[0mkey\u001b[0m\u001b[0;34m)\u001b[0m\u001b[0;34m\u001b[0m\u001b[0;34m\u001b[0m\u001b[0m\n\u001b[1;32m   2894\u001b[0m             \u001b[0;32mtry\u001b[0m\u001b[0;34m:\u001b[0m\u001b[0;34m\u001b[0m\u001b[0;34m\u001b[0m\u001b[0m\n\u001b[0;32m-> 2895\u001b[0;31m                 \u001b[0;32mreturn\u001b[0m \u001b[0mself\u001b[0m\u001b[0;34m.\u001b[0m\u001b[0m_engine\u001b[0m\u001b[0;34m.\u001b[0m\u001b[0mget_loc\u001b[0m\u001b[0;34m(\u001b[0m\u001b[0mcasted_key\u001b[0m\u001b[0;34m)\u001b[0m\u001b[0;34m\u001b[0m\u001b[0;34m\u001b[0m\u001b[0m\n\u001b[0m\u001b[1;32m   2896\u001b[0m             \u001b[0;32mexcept\u001b[0m \u001b[0mKeyError\u001b[0m \u001b[0;32mas\u001b[0m \u001b[0merr\u001b[0m\u001b[0;34m:\u001b[0m\u001b[0;34m\u001b[0m\u001b[0;34m\u001b[0m\u001b[0m\n\u001b[1;32m   2897\u001b[0m                 \u001b[0;32mraise\u001b[0m \u001b[0mKeyError\u001b[0m\u001b[0;34m(\u001b[0m\u001b[0mkey\u001b[0m\u001b[0;34m)\u001b[0m \u001b[0;32mfrom\u001b[0m \u001b[0merr\u001b[0m\u001b[0;34m\u001b[0m\u001b[0;34m\u001b[0m\u001b[0m\n",
      "\u001b[0;32mpandas/_libs/index.pyx\u001b[0m in \u001b[0;36mpandas._libs.index.IndexEngine.get_loc\u001b[0;34m()\u001b[0m\n",
      "\u001b[0;32mpandas/_libs/index.pyx\u001b[0m in \u001b[0;36mpandas._libs.index.IndexEngine.get_loc\u001b[0;34m()\u001b[0m\n",
      "\u001b[0;31mTypeError\u001b[0m: '(slice(None, None, None), 0)' is an invalid key"
     ]
    }
   ],
   "source": [
    "# Plot result\n",
    "\n",
    "# Black removed and is used for noise instead.\n",
    "unique_labels = set(labels)\n",
    "colors = [plt.cm.Spectral(each)\n",
    "          for each in np.linspace(0, 1, len(unique_labels))]\n",
    "for k, col in zip(unique_labels, colors):\n",
    "    if k == -1:\n",
    "        # Black used for noise.\n",
    "        col = [0, 0, 0, 1]\n",
    "\n",
    "    class_member_mask = (labels == k)\n",
    "\n",
    "    xy = dirtyTemp[class_member_mask & core_samples_mask]\n",
    "    print(xy)\n",
    "    plt.plot(xy[:, 0], xy[:, 1], 'o', markerfacecolor=tuple(col),\n",
    "             markeredgecolor='k', markersize=14)\n",
    "\n",
    "    xy = dirtyTemp[class_member_mask & ~core_samples_mask]\n",
    "    plt.plot(xy[:, 0], xy[:, 1], 'o', markerfacecolor=tuple(col),\n",
    "             markeredgecolor='k', markersize=6)\n",
    "\n",
    "plt.title('Estimated number of clusters: %d' % n_clusters_)\n",
    "plt.show()"
   ]
  },
  {
   "cell_type": "code",
   "execution_count": 42,
   "metadata": {},
   "outputs": [
    {
     "name": "stdout",
     "output_type": "stream",
     "text": [
      "[0.36637665 0.30873889 0.15202702 0.11116542 0.041579   0.02011303]\n",
      "[301.72261649 276.97440461 194.35886606 166.19916166 101.64382268\n",
      "  70.69402414]\n"
     ]
    },
    {
     "data": {
      "text/plain": [
       "[<matplotlib.lines.Line2D at 0x7f849e9e0c10>]"
      ]
     },
     "execution_count": 42,
     "metadata": {},
     "output_type": "execute_result"
    },
    {
     "data": {
      "image/png": "[encoded data removed]",
      "text/plain": [
       "<Figure size 432x288 with 1 Axes>"
      ]
     },
     "metadata": {
      "needs_background": "light"
     },
     "output_type": "display_data"
    }
   ],
   "source": [
    "dirtyStd = StandardScaler().fit_transform(dirtyTemp)\n",
    "pca = PCA(n_components=6)\n",
    "pca.fit(dirtyStd)\n",
    "print(pca.explained_variance_ratio_)\n",
    "print(pca.singular_values_)\n",
    "plt.plot(pca.explained_variance_ratio_)\n",
    "plt.plot(np.cumsum(pca.explained_variance_ratio_))"
   ]
  },
  {
   "cell_type": "code",
   "execution_count": 41,
   "metadata": {},
   "outputs": [
    {
     "name": "stdout",
     "output_type": "stream",
     "text": [
      "[0.35676674 0.28546505 0.16226005 0.10047181 0.05064837 0.04438799]\n",
      "[2480.89382143 2219.17969085 1673.09962975 1316.55227777  934.75700114\n",
      "  875.08195285]\n"
     ]
    },
    {
     "data": {
      "text/plain": [
       "[<matplotlib.lines.Line2D at 0x7f849e84de80>]"
      ]
     },
     "execution_count": 41,
     "metadata": {},
     "output_type": "execute_result"
    },
    {
     "data": {
      "image/png": "[encoded data removed]",
      "text/plain": [
       "<Figure size 432x288 with 1 Axes>"
      ]
     },
     "metadata": {
      "needs_background": "light"
     },
     "output_type": "display_data"
    }
   ],
   "source": [
    "whiteStd = StandardScaler().fit_transform(whiteTemp)\n",
    "pca.fit(whiteStd)\n",
    "print(pca.explained_variance_ratio_)\n",
    "print(pca.singular_values_)\n",
    "plt.plot(pca.explained_variance_ratio_)\n",
    "plt.plot(np.cumsum(pca.explained_variance_ratio_))"
   ]
  },
  {
   "cell_type": "code",
   "execution_count": 50,
   "metadata": {},
   "outputs": [
    {
     "name": "stdout",
     "output_type": "stream",
     "text": [
      "[[-5.57373391e-01 -3.39297793e-02 -4.20693278e-01 -1.80751532e-01\n",
      "  -1.27272382e-01 -1.89016872e-02]\n",
      " [ 1.65274503e+00 -5.61963134e-02  4.76604635e-01 -1.19346666e-01\n",
      "  -8.79018158e-02 -1.16281562e-02]\n",
      " [ 1.75154336e+00  1.86558126e+02  1.80584587e+00  4.76174074e+00\n",
      "   2.57893296e+01  1.82261972e+02]\n",
      " [ 1.74665000e+00  2.56496888e-01  1.25074759e+00  3.18760445e+00\n",
      "   5.36639956e-01  1.12899976e-01]\n",
      " [ 1.23624399e+00  3.55823890e+00  9.03718282e-01  3.22632089e+00\n",
      "   1.33096158e+01  1.35329841e+00]\n",
      " [ 8.00856022e-01  1.18305083e+00  1.53158506e-01  6.64867976e-01\n",
      "   4.07759035e+00  4.36105687e-01]\n",
      " [ 1.74839046e+00 -1.20978492e-01  2.93145856e+00 -1.44432355e-01\n",
      "  -1.78042169e-01 -3.86191213e-02]\n",
      " [ 1.74919222e+00  1.11540576e-01  3.89051875e+00  9.09154804e+00\n",
      "   3.43381784e-01  1.01687196e-02]]\n"
     ]
    },
    {
     "data": {
      "text/plain": [
       "[<matplotlib.lines.Line2D at 0x7f849eb84730>,\n",
       " <matplotlib.lines.Line2D at 0x7f849eb841f0>,\n",
       " <matplotlib.lines.Line2D at 0x7f849eb84430>,\n",
       " <matplotlib.lines.Line2D at 0x7f849eb846d0>,\n",
       " <matplotlib.lines.Line2D at 0x7f849eb76e80>,\n",
       " <matplotlib.lines.Line2D at 0x7f849eb76a00>]"
      ]
     },
     "execution_count": 50,
     "metadata": {},
     "output_type": "execute_result"
    },
    {
     "data": {
      "image/png": "[encoded data removed]",
      "text/plain": [
       "<Figure size 432x288 with 1 Axes>"
      ]
     },
     "metadata": {
      "needs_background": "light"
     },
     "output_type": "display_data"
    }
   ],
   "source": [
    "kmeans = KMeans()\n",
    "kmeans.fit(dirtyStd)\n",
    "print(kmeans.cluster_centers_)\n",
    "plt.plot(kmeans.cluster_centers_)"
   ]
  },
  {
   "cell_type": "code",
   "execution_count": 51,
   "metadata": {},
   "outputs": [
    {
     "name": "stdout",
     "output_type": "stream",
     "text": [
      "[[-5.77465038e-01 -5.51209975e-03 -4.24147193e-01 -2.47107550e-01\n",
      "  -2.19990359e-02 -3.62366559e-03]\n",
      " [ 1.64845910e+00 -4.75778389e-02  2.85179859e+00 -1.93001002e-01\n",
      "  -2.05237051e-02 -1.95950285e-02]\n",
      " [ 1.33371447e+00  2.34864220e+01  9.30264938e-01  2.09275853e+00\n",
      "   3.03179324e+01  3.71914024e+00]\n",
      " [ 1.57261038e+00 -4.81036317e-02  3.79358408e-01  2.40321146e-01\n",
      "   9.60022156e-03 -1.90673410e-03]\n",
      " [ 1.67223127e+00  1.46155256e-01  2.69475405e+00  4.67049222e+00\n",
      "   1.00140180e-01 -5.85830904e-03]\n",
      " [ 1.67731873e+00  5.09630201e+02  2.41297098e+00  4.70459724e+00\n",
      "   5.95701685e+02  4.12419641e+01]\n",
      " [ 1.08398471e+00  2.16720605e+02  2.97408144e+00  5.68207682e+00\n",
      "   5.49135294e+01  5.28517204e+00]\n",
      " [-2.65426369e-01  1.83273392e+00 -2.25196873e-01  3.45614874e-02\n",
      "   9.96164683e+00  2.68938625e+02]]\n"
     ]
    },
    {
     "data": {
      "text/plain": [
       "[<matplotlib.lines.Line2D at 0x7f849ed7bee0>,\n",
       " <matplotlib.lines.Line2D at 0x7f849ed7ba00>,\n",
       " <matplotlib.lines.Line2D at 0x7f849ed7b760>,\n",
       " <matplotlib.lines.Line2D at 0x7f849ed7b4c0>,\n",
       " <matplotlib.lines.Line2D at 0x7f849ed7b220>,\n",
       " <matplotlib.lines.Line2D at 0x7f849ed7b160>]"
      ]
     },
     "execution_count": 51,
     "metadata": {},
     "output_type": "execute_result"
    },
    {
     "data": {
      "image/png": "[encoded data removed]",
      "text/plain": [
       "<Figure size 432x288 with 1 Axes>"
      ]
     },
     "metadata": {
      "needs_background": "light"
     },
     "output_type": "display_data"
    }
   ],
   "source": [
    "kmeans = KMeans()\n",
    "kmeans.fit(whiteStd)\n",
    "print(kmeans.cluster_centers_)\n",
    "plt.plot(kmeans.cluster_centers_)"
   ]
  },
  {
   "cell_type": "code",
   "execution_count": 60,
   "metadata": {},
   "outputs": [
    {
     "data": {
      "text/plain": [
       "RandomForestClassifier(max_depth=2, random_state=0)"
      ]
     },
     "execution_count": 60,
     "metadata": {},
     "output_type": "execute_result"
    }
   ],
   "source": [
    "clf = RandomForestClassifier(max_depth=2, random_state=0)\n",
    "clf.fit(dirtyTemp, dirtyTemp.index)\n",
    "\n",
    "\n",
    "\n"
   ]
  },
  {
   "cell_type": "code",
   "execution_count": 63,
   "metadata": {},
   "outputs": [],
   "source": [
    "prediction = clf.predict(whiteTemp)"
   ]
  },
  {
   "cell_type": "code",
   "execution_count": 64,
   "metadata": {},
   "outputs": [
    {
     "data": {
      "text/plain": [
       "(array([1383520.,       0.,       0.,  609144.,       0.,       0.,\n",
       "         819256.,       0.,       0.,   63364.]),\n",
       " array([0. , 0.3, 0.6, 0.9, 1.2, 1.5, 1.8, 2.1, 2.4, 2.7, 3. ]),\n",
       " <BarContainer object of 10 artists>)"
      ]
     },
     "execution_count": 64,
     "metadata": {},
     "output_type": "execute_result"
    },
    {
     "data": {
      "image/png": "[encoded data removed]",
      "text/plain": [
       "<Figure size 432x288 with 1 Axes>"
      ]
     },
     "metadata": {
      "needs_background": "light"
     },
     "output_type": "display_data"
    }
   ],
   "source": [
    "plt.hist(prediction)"
   ]
  },
  {
   "cell_type": "code",
   "execution_count": 66,
   "metadata": {},
   "outputs": [
    {
     "data": {
      "text/plain": [
       "(array([1383520.,       0.,       0.,  609144.,       0.,       0.,\n",
       "         819256.,       0.,       0.,   63364.]),\n",
       " array([0. , 0.3, 0.6, 0.9, 1.2, 1.5, 1.8, 2.1, 2.4, 2.7, 3. ]),\n",
       " <BarContainer object of 10 artists>)"
      ]
     },
     "execution_count": 66,
     "metadata": {},
     "output_type": "execute_result"
    },
    {
     "data": {
      "image/png": "[encoded data removed]",
      "text/plain": [
       "<Figure size 432x288 with 1 Axes>"
      ]
     },
     "metadata": {
      "needs_background": "light"
     },
     "output_type": "display_data"
    }
   ],
   "source": [
    "clf = RandomForestClassifier(max_depth=2, random_state=0)\n",
    "mixedTemp = dirtyTemp\n",
    "mixedTemp.append(whiteTemp.iloc[:,:50000])\n",
    "clf.fit(mixedTemp, mixedTemp.index)\n",
    "prediction = clf.predict(whiteTemp)\n",
    "plt.hist(prediction)\n"
   ]
  },
  {
   "cell_type": "code",
   "execution_count": null,
   "metadata": {},
   "outputs": [],
   "source": []
  }
 ],
 "metadata": {
  "kernelspec": {
   "display_name": "Python 3",
   "language": "python",
   "name": "python3"
  },
  "language_info": {
   "codemirror_mode": {
    "name": "ipython",
    "version": 3
   },
   "file_extension": ".py",
   "mimetype": "text/x-python",
   "name": "python",
   "nbconvert_exporter": "python",
   "pygments_lexer": "ipython3",
   "version": "3.8.5"
  }
 },
 "nbformat": 4,
 "nbformat_minor": 4
}
