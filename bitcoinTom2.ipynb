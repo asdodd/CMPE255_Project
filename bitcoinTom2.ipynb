{
 "cells": [
  {
   "cell_type": "markdown",
   "metadata": {},
   "source": [
    "# Neural Net using BitcoinHeistData\n",
    "\n",
    "Inspired by: https://www.freecodecamp.org/news/how-to-build-your-first-neural-network-to-predict-house-prices-with-keras-f8db83049159/"
   ]
  },
  {
   "cell_type": "markdown",
   "metadata": {},
   "source": [
    "Intro here..."
   ]
  },
  {
   "cell_type": "markdown",
   "metadata": {},
   "source": [
    "# Load and process the data"
   ]
  },
  {
   "cell_type": "code",
   "execution_count": 1,
   "metadata": {},
   "outputs": [
    {
     "data": {
      "text/html": [
       "<div>\n",
       "<style scoped>\n",
       "    .dataframe tbody tr th:only-of-type {\n",
       "        vertical-align: middle;\n",
       "    }\n",
       "\n",
       "    .dataframe tbody tr th {\n",
       "        vertical-align: top;\n",
       "    }\n",
       "\n",
       "    .dataframe thead th {\n",
       "        text-align: right;\n",
       "    }\n",
       "</style>\n",
       "<table border=\"1\" class=\"dataframe\">\n",
       "  <thead>\n",
       "    <tr style=\"text-align: right;\">\n",
       "      <th></th>\n",
       "      <th>address</th>\n",
       "      <th>year</th>\n",
       "      <th>day</th>\n",
       "      <th>length</th>\n",
       "      <th>weight</th>\n",
       "      <th>count</th>\n",
       "      <th>looped</th>\n",
       "      <th>neighbors</th>\n",
       "      <th>income</th>\n",
       "      <th>label</th>\n",
       "    </tr>\n",
       "  </thead>\n",
       "  <tbody>\n",
       "    <tr>\n",
       "      <th>0</th>\n",
       "      <td>111K8kZAEnJg245r2cM6y9zgJGHZtJPy6</td>\n",
       "      <td>2017</td>\n",
       "      <td>11</td>\n",
       "      <td>18</td>\n",
       "      <td>0.008333</td>\n",
       "      <td>1</td>\n",
       "      <td>0</td>\n",
       "      <td>2</td>\n",
       "      <td>1.000500e+08</td>\n",
       "      <td>princetonCerber</td>\n",
       "    </tr>\n",
       "    <tr>\n",
       "      <th>1</th>\n",
       "      <td>1123pJv8jzeFQaCV4w644pzQJzVWay2zcA</td>\n",
       "      <td>2016</td>\n",
       "      <td>132</td>\n",
       "      <td>44</td>\n",
       "      <td>0.000244</td>\n",
       "      <td>1</td>\n",
       "      <td>0</td>\n",
       "      <td>1</td>\n",
       "      <td>1.000000e+08</td>\n",
       "      <td>princetonLocky</td>\n",
       "    </tr>\n",
       "    <tr>\n",
       "      <th>2</th>\n",
       "      <td>112536im7hy6wtKbpH1qYDWtTyMRAcA2p7</td>\n",
       "      <td>2016</td>\n",
       "      <td>246</td>\n",
       "      <td>0</td>\n",
       "      <td>1.000000</td>\n",
       "      <td>1</td>\n",
       "      <td>0</td>\n",
       "      <td>2</td>\n",
       "      <td>2.000000e+08</td>\n",
       "      <td>princetonCerber</td>\n",
       "    </tr>\n",
       "    <tr>\n",
       "      <th>3</th>\n",
       "      <td>1126eDRw2wqSkWosjTCre8cjjQW8sSeWH7</td>\n",
       "      <td>2016</td>\n",
       "      <td>322</td>\n",
       "      <td>72</td>\n",
       "      <td>0.003906</td>\n",
       "      <td>1</td>\n",
       "      <td>0</td>\n",
       "      <td>2</td>\n",
       "      <td>7.120000e+07</td>\n",
       "      <td>princetonCerber</td>\n",
       "    </tr>\n",
       "    <tr>\n",
       "      <th>4</th>\n",
       "      <td>1129TSjKtx65E35GiUo4AYVeyo48twbrGX</td>\n",
       "      <td>2016</td>\n",
       "      <td>238</td>\n",
       "      <td>144</td>\n",
       "      <td>0.072848</td>\n",
       "      <td>456</td>\n",
       "      <td>0</td>\n",
       "      <td>1</td>\n",
       "      <td>2.000000e+08</td>\n",
       "      <td>princetonLocky</td>\n",
       "    </tr>\n",
       "    <tr>\n",
       "      <th>...</th>\n",
       "      <td>...</td>\n",
       "      <td>...</td>\n",
       "      <td>...</td>\n",
       "      <td>...</td>\n",
       "      <td>...</td>\n",
       "      <td>...</td>\n",
       "      <td>...</td>\n",
       "      <td>...</td>\n",
       "      <td>...</td>\n",
       "      <td>...</td>\n",
       "    </tr>\n",
       "    <tr>\n",
       "      <th>2916692</th>\n",
       "      <td>12D3trgho1vJ4mGtWBRPyHdMJK96TRYSry</td>\n",
       "      <td>2018</td>\n",
       "      <td>330</td>\n",
       "      <td>0</td>\n",
       "      <td>0.111111</td>\n",
       "      <td>1</td>\n",
       "      <td>0</td>\n",
       "      <td>1</td>\n",
       "      <td>1.255809e+09</td>\n",
       "      <td>white</td>\n",
       "    </tr>\n",
       "    <tr>\n",
       "      <th>2916693</th>\n",
       "      <td>1P7PputTcVkhXBmXBvSD9MJ3UYPsiou1u2</td>\n",
       "      <td>2018</td>\n",
       "      <td>330</td>\n",
       "      <td>0</td>\n",
       "      <td>1.000000</td>\n",
       "      <td>1</td>\n",
       "      <td>0</td>\n",
       "      <td>1</td>\n",
       "      <td>4.409699e+07</td>\n",
       "      <td>white</td>\n",
       "    </tr>\n",
       "    <tr>\n",
       "      <th>2916694</th>\n",
       "      <td>1KYiKJEfdJtap9QX2v9BXJMpz2SfU4pgZw</td>\n",
       "      <td>2018</td>\n",
       "      <td>330</td>\n",
       "      <td>2</td>\n",
       "      <td>12.000000</td>\n",
       "      <td>6</td>\n",
       "      <td>6</td>\n",
       "      <td>35</td>\n",
       "      <td>2.398267e+09</td>\n",
       "      <td>white</td>\n",
       "    </tr>\n",
       "    <tr>\n",
       "      <th>2916695</th>\n",
       "      <td>15iPUJsRNZQZHmZZVwmQ63srsmughCXV4a</td>\n",
       "      <td>2018</td>\n",
       "      <td>330</td>\n",
       "      <td>0</td>\n",
       "      <td>0.500000</td>\n",
       "      <td>1</td>\n",
       "      <td>0</td>\n",
       "      <td>1</td>\n",
       "      <td>1.780427e+08</td>\n",
       "      <td>white</td>\n",
       "    </tr>\n",
       "    <tr>\n",
       "      <th>2916696</th>\n",
       "      <td>3LFFBxp15h9KSFtaw55np8eP5fv6kdK17e</td>\n",
       "      <td>2018</td>\n",
       "      <td>330</td>\n",
       "      <td>144</td>\n",
       "      <td>0.073972</td>\n",
       "      <td>6800</td>\n",
       "      <td>0</td>\n",
       "      <td>2</td>\n",
       "      <td>1.123500e+08</td>\n",
       "      <td>white</td>\n",
       "    </tr>\n",
       "  </tbody>\n",
       "</table>\n",
       "<p>2916697 rows × 10 columns</p>\n",
       "</div>"
      ],
      "text/plain": [
       "                                    address  year  day  length     weight  \\\n",
       "0         111K8kZAEnJg245r2cM6y9zgJGHZtJPy6  2017   11      18   0.008333   \n",
       "1        1123pJv8jzeFQaCV4w644pzQJzVWay2zcA  2016  132      44   0.000244   \n",
       "2        112536im7hy6wtKbpH1qYDWtTyMRAcA2p7  2016  246       0   1.000000   \n",
       "3        1126eDRw2wqSkWosjTCre8cjjQW8sSeWH7  2016  322      72   0.003906   \n",
       "4        1129TSjKtx65E35GiUo4AYVeyo48twbrGX  2016  238     144   0.072848   \n",
       "...                                     ...   ...  ...     ...        ...   \n",
       "2916692  12D3trgho1vJ4mGtWBRPyHdMJK96TRYSry  2018  330       0   0.111111   \n",
       "2916693  1P7PputTcVkhXBmXBvSD9MJ3UYPsiou1u2  2018  330       0   1.000000   \n",
       "2916694  1KYiKJEfdJtap9QX2v9BXJMpz2SfU4pgZw  2018  330       2  12.000000   \n",
       "2916695  15iPUJsRNZQZHmZZVwmQ63srsmughCXV4a  2018  330       0   0.500000   \n",
       "2916696  3LFFBxp15h9KSFtaw55np8eP5fv6kdK17e  2018  330     144   0.073972   \n",
       "\n",
       "         count  looped  neighbors        income            label  \n",
       "0            1       0          2  1.000500e+08  princetonCerber  \n",
       "1            1       0          1  1.000000e+08   princetonLocky  \n",
       "2            1       0          2  2.000000e+08  princetonCerber  \n",
       "3            1       0          2  7.120000e+07  princetonCerber  \n",
       "4          456       0          1  2.000000e+08   princetonLocky  \n",
       "...        ...     ...        ...           ...              ...  \n",
       "2916692      1       0          1  1.255809e+09            white  \n",
       "2916693      1       0          1  4.409699e+07            white  \n",
       "2916694      6       6         35  2.398267e+09            white  \n",
       "2916695      1       0          1  1.780427e+08            white  \n",
       "2916696   6800       0          2  1.123500e+08            white  \n",
       "\n",
       "[2916697 rows x 10 columns]"
      ]
     },
     "execution_count": 1,
     "metadata": {},
     "output_type": "execute_result"
    }
   ],
   "source": [
    "import pandas as pd\n",
    "df = pd.read_csv('BitcoinHeistData.csv')\n",
    "df"
   ]
  },
  {
   "cell_type": "markdown",
   "metadata": {},
   "source": [
    "Split the dataset into our input features (X) and the label (Y) we wish to predict."
   ]
  },
  {
   "cell_type": "code",
   "execution_count": 2,
   "metadata": {},
   "outputs": [
    {
     "name": "stdout",
     "output_type": "stream",
     "text": [
      "(2916697, 6)\n",
      "(2916697,)\n",
      "         length     weight  count  looped  neighbors        income\n",
      "0            18   0.008333      1       0          2  1.000500e+08\n",
      "1            44   0.000244      1       0          1  1.000000e+08\n",
      "2             0   1.000000      1       0          2  2.000000e+08\n",
      "3            72   0.003906      1       0          2  7.120000e+07\n",
      "4           144   0.072848    456       0          1  2.000000e+08\n",
      "...         ...        ...    ...     ...        ...           ...\n",
      "2916692       0   0.111111      1       0          1  1.255809e+09\n",
      "2916693       0   1.000000      1       0          1  4.409699e+07\n",
      "2916694       2  12.000000      6       6         35  2.398267e+09\n",
      "2916695       0   0.500000      1       0          1  1.780427e+08\n",
      "2916696     144   0.073972   6800       0          2  1.123500e+08\n",
      "\n",
      "[2916697 rows x 6 columns]\n",
      "0          princetonCerber\n",
      "1           princetonLocky\n",
      "2          princetonCerber\n",
      "3          princetonCerber\n",
      "4           princetonLocky\n",
      "                ...       \n",
      "2916692              white\n",
      "2916693              white\n",
      "2916694              white\n",
      "2916695              white\n",
      "2916696              white\n",
      "Name: label, Length: 2916697, dtype: object\n",
      "0          False\n",
      "1          False\n",
      "2          False\n",
      "3          False\n",
      "4          False\n",
      "           ...  \n",
      "2916692     True\n",
      "2916693     True\n",
      "2916694     True\n",
      "2916695     True\n",
      "2916696     True\n",
      "Name: label, Length: 2916697, dtype: bool\n",
      "0.9858014048082472\n"
     ]
    }
   ],
   "source": [
    "import numpy as np\n",
    "\n",
    "X=df.iloc[:, 3:9]\n",
    "Ytmp=df.iloc[:, -1]\n",
    "\n",
    "print(X.shape)\n",
    "print(Ytmp.shape)\n",
    "\n",
    "print(X)\n",
    "print(Ytmp)\n",
    "\n",
    "# Convert the label to true false for simplicity\n",
    "Y = Ytmp.str.contains('white')\n",
    "print(Y)\n",
    "numWhite = np.count_nonzero(Y)\n",
    "print(numWhite/len(Y))"
   ]
  },
  {
   "cell_type": "markdown",
   "metadata": {},
   "source": [
    "Normalize the data so one feature does not dominate.\n",
    "Use a min-max scaler from scikit-learn which scales our data to be between 0 and 1."
   ]
  },
  {
   "cell_type": "code",
   "execution_count": 3,
   "metadata": {},
   "outputs": [
    {
     "data": {
      "text/plain": [
       "array([[1.25000000e-01, 4.28724811e-06, 0.00000000e+00, 0.00000000e+00,\n",
       "        7.74053719e-05, 1.40199911e-06],\n",
       "       [3.05555556e-01, 1.25602972e-07, 0.00000000e+00, 0.00000000e+00,\n",
       "        0.00000000e+00, 1.40099840e-06],\n",
       "       [0.00000000e+00, 5.14469773e-04, 0.00000000e+00, 0.00000000e+00,\n",
       "        7.74053719e-05, 3.40242469e-06],\n",
       "       ...,\n",
       "       [1.38888889e-02, 6.17363727e-03, 3.44922737e-04, 4.13907285e-04,\n",
       "        2.63178265e-03, 4.73991240e-05],\n",
       "       [0.00000000e+00, 2.57234886e-04, 0.00000000e+00, 0.00000000e+00,\n",
       "        0.00000000e+00, 2.96296491e-06],\n",
       "       [1.00000000e+00, 3.80565701e-05, 4.69025938e-01, 0.00000000e+00,\n",
       "        7.74053719e-05, 1.64817455e-06]])"
      ]
     },
     "execution_count": 3,
     "metadata": {},
     "output_type": "execute_result"
    }
   ],
   "source": [
    "from sklearn import preprocessing\n",
    "\n",
    "min_max_scaler = preprocessing.MinMaxScaler()\n",
    "X_scale = min_max_scaler.fit_transform(X)\n",
    "X_scale"
   ]
  },
  {
   "cell_type": "markdown",
   "metadata": {},
   "source": [
    "Split the dataset for a validation set and a test set."
   ]
  },
  {
   "cell_type": "code",
   "execution_count": 4,
   "metadata": {},
   "outputs": [
    {
     "name": "stdout",
     "output_type": "stream",
     "text": [
      "(2041687, 6) (437505, 6) (437505, 6) (2041687,) (437505,) (437505,)\n"
     ]
    }
   ],
   "source": [
    "from sklearn.model_selection import train_test_split\n",
    "\n",
    "X_train, X_val_and_test, Y_train, Y_val_and_test = train_test_split(X_scale, Y, test_size=0.3)\n",
    "X_val, X_test, Y_val, Y_test = train_test_split(X_val_and_test, Y_val_and_test, test_size=0.5)\n",
    "print(X_train.shape, X_val.shape, X_test.shape, Y_train.shape, Y_val.shape, Y_test.shape)"
   ]
  },
  {
   "cell_type": "markdown",
   "metadata": {},
   "source": [
    "# Build and train the Neural Network"
   ]
  },
  {
   "cell_type": "markdown",
   "metadata": {},
   "source": [
    "Use Keras to build the neural net."
   ]
  },
  {
   "cell_type": "code",
   "execution_count": 5,
   "metadata": {},
   "outputs": [],
   "source": [
    "from keras.models import Sequential\n",
    "from keras.layers import Dense"
   ]
  },
  {
   "cell_type": "markdown",
   "metadata": {},
   "source": [
    "We will be using the Sequential model, which means that we merely need to describe the layers above in sequence. Our neural network has three layers:\n",
    "\n",
    "- Hidden layer 1: 30 neurons, ReLU activation\n",
    "- Hidden layer 2: 30 neurons, ReLU activation\n",
    "- Output Layer: 1 neuron, Sigmoid activation"
   ]
  },
  {
   "cell_type": "code",
   "execution_count": 6,
   "metadata": {},
   "outputs": [],
   "source": [
    "model = Sequential([\n",
    "    Dense(32, activation='relu', input_shape=(6,)),\n",
    "    Dense(32, activation='relu'),\n",
    "    Dense(1, activation='sigmoid'),\n",
    "])"
   ]
  },
  {
   "cell_type": "markdown",
   "metadata": {},
   "source": [
    "Now that we've got our architecture specified, we need to find the best numbers for it. Before we start our training, we have to configure the model by\n",
    "- Telling it what algorithm you want to use to do the optimization (we'll use stochastic gradient descent)\n",
    "- Telling it what loss function to use (for binary classification, we will use binary cross entropy)\n",
    "- Telling it what other metrics you want to track apart from the loss function (we want to track accuracy as well)\n",
    "\n",
    "We do so below:"
   ]
  },
  {
   "cell_type": "code",
   "execution_count": 7,
   "metadata": {},
   "outputs": [],
   "source": [
    "model.compile(optimizer='sgd',\n",
    "              loss='binary_crossentropy',\n",
    "              metrics=['accuracy'])"
   ]
  },
  {
   "cell_type": "markdown",
   "metadata": {},
   "source": [
    "Training on the data is pretty straightforward and requires us to write one line of code. The function is called 'fit' as we are fitting the parameters to the data. We specify:\n",
    "- what data we are training on, which is X_train and Y_train\n",
    "- the size of our mini-batch \n",
    "- how long we want to train it for (epochs)\n",
    "- what our validation data is so that the model will tell us how we are doing on the validation data at each point.\n",
    "\n",
    "This function will output a history, which we save under the variable hist. We'll use this variable a little later."
   ]
  },
  {
   "cell_type": "code",
   "execution_count": 8,
   "metadata": {},
   "outputs": [
    {
     "name": "stdout",
     "output_type": "stream",
     "text": [
      "Epoch 1/5\n",
      "63803/63803 [==============================] - 36s 471us/step - loss: 0.0836 - accuracy: 0.9854 - val_loss: 0.0726 - val_accuracy: 0.9862\n",
      "Epoch 2/5\n",
      "63803/63803 [==============================] - 30s 469us/step - loss: 0.0741 - accuracy: 0.9859 - val_loss: 0.0725 - val_accuracy: 0.9862\n",
      "Epoch 3/5\n",
      "63803/63803 [==============================] - 30s 470us/step - loss: 0.0749 - accuracy: 0.9857 - val_loss: 0.0726 - val_accuracy: 0.9862\n",
      "Epoch 4/5\n",
      "63803/63803 [==============================] - 30s 471us/step - loss: 0.0746 - accuracy: 0.9857 - val_loss: 0.0725 - val_accuracy: 0.9862\n",
      "Epoch 5/5\n",
      "63803/63803 [==============================] - 30s 469us/step - loss: 0.0745 - accuracy: 0.9857 - val_loss: 0.0725 - val_accuracy: 0.9862\n"
     ]
    }
   ],
   "source": [
    "# Usually train with 100 epochs, but each epoch same here (issue?)\n",
    "hist = model.fit(X_train, Y_train,\n",
    "          batch_size=32, epochs=5,\n",
    "          validation_data=(X_val, Y_val))"
   ]
  },
  {
   "cell_type": "markdown",
   "metadata": {},
   "source": [
    "Evaluating our data on the test set:"
   ]
  },
  {
   "cell_type": "code",
   "execution_count": 9,
   "metadata": {},
   "outputs": [
    {
     "name": "stdout",
     "output_type": "stream",
     "text": [
      "13673/13673 [==============================] - 4s 321us/step - loss: 0.0749 - accuracy: 0.9857\n"
     ]
    },
    {
     "data": {
      "text/plain": [
       "0.98565274477005"
      ]
     },
     "execution_count": 9,
     "metadata": {},
     "output_type": "execute_result"
    }
   ],
   "source": [
    "model.evaluate(X_test, Y_test)[1]"
   ]
  },
  {
   "cell_type": "markdown",
   "metadata": {},
   "source": [
    "# Visualizing Loss and Accuracy"
   ]
  },
  {
   "cell_type": "code",
   "execution_count": 10,
   "metadata": {},
   "outputs": [],
   "source": [
    "import matplotlib.pyplot as plt"
   ]
  },
  {
   "cell_type": "markdown",
   "metadata": {},
   "source": [
    "We want to visualize the training loss and the validation loss like this:"
   ]
  },
  {
   "cell_type": "code",
   "execution_count": 11,
   "metadata": {},
   "outputs": [
    {
     "data": {
      "image/png": "[encoded data removed]",
      "text/plain": [
       "<Figure size 432x288 with 1 Axes>"
      ]
     },
     "metadata": {
      "needs_background": "light"
     },
     "output_type": "display_data"
    },
    {
     "name": "stdout",
     "output_type": "stream",
     "text": [
      "dict_keys(['loss', 'accuracy', 'val_loss', 'val_accuracy'])\n"
     ]
    }
   ],
   "source": [
    "plt.plot(hist.history['loss'])\n",
    "plt.plot(hist.history['val_loss'])\n",
    "plt.title('Model loss')\n",
    "plt.ylabel('Loss')\n",
    "plt.xlabel('Epoch')\n",
    "plt.legend(['Train', 'Val'], loc='upper right')\n",
    "plt.show()\n",
    "\n",
    "print(hist.history.keys())"
   ]
  },
  {
   "cell_type": "markdown",
   "metadata": {},
   "source": [
    "We can also visualize the training accuracy and the validation accuracy like this:"
   ]
  },
  {
   "cell_type": "code",
   "execution_count": 15,
   "metadata": {},
   "outputs": [
    {
     "data": {
      "image/png": "[encoded data removed]",
      "text/plain": [
       "<Figure size 432x288 with 1 Axes>"
      ]
     },
     "metadata": {
      "needs_background": "light"
     },
     "output_type": "display_data"
    }
   ],
   "source": [
    "plt.plot(hist.history['accuracy'], '-o')\n",
    "plt.plot(hist.history['val_accuracy'], '-x')\n",
    "plt.title('Model accuracy')\n",
    "plt.ylabel('Accuracy')\n",
    "plt.xlabel('Epoch')\n",
    "#plt.ylim(0.95, 1)\n",
    "plt.legend(['Train', 'Val'], loc='lower right')\n",
    "plt.show()"
   ]
  },
  {
   "cell_type": "code",
   "execution_count": 14,
   "metadata": {},
   "outputs": [
    {
     "name": "stdout",
     "output_type": "stream",
     "text": [
      "(437505, 6)\n",
      "(437505,)\n",
      "<class 'numpy.ndarray'>\n",
      "<class 'pandas.core.series.Series'>\n",
      "{'verbose': 1, 'epochs': 5, 'steps': 63803}\n",
      "dict_keys(['loss', 'accuracy', 'val_loss', 'val_accuracy'])\n"
     ]
    }
   ],
   "source": [
    "print(X_test.shape)\n",
    "print(Y_test.shape)\n",
    "print(type(X_test))\n",
    "print(type(Y_test))\n",
    "print(hist.params)\n",
    "print(hist.history.keys())\n",
    "\n",
    "# Look at results where label is not 'white'.  Do we ever predict a heist?\n",
    "#print(X_test[1,:])\n",
    "#fooY = Y_test.to_numpy()\n",
    "#print(fooY[1])\n",
    "#idxWhite = np.where(Y_test)[0]\n",
    "#print(type(idxWhite))\n",
    "#print(idxWhite.shape)\n",
    "#model.evaluate(X_test[idxWhite,:], Y_test[idxWhite])\n",
    "\n",
    "#for i in range(X_test):\n",
    "#    xt = X_test[i]\n",
    "#    yt = Y_test[i]\n",
    "#    model.evaluate(xt, yt)[1]\n",
    "#    break;"
   ]
  },
  {
   "cell_type": "code",
   "execution_count": null,
   "metadata": {},
   "outputs": [],
   "source": []
  }
 ],
 "metadata": {
  "kernelspec": {
   "display_name": "Python 3",
   "language": "python",
   "name": "python3"
  },
  "language_info": {
   "codemirror_mode": {
    "name": "ipython",
    "version": 3
   },
   "file_extension": ".py",
   "mimetype": "text/x-python",
   "name": "python",
   "nbconvert_exporter": "python",
   "pygments_lexer": "ipython3",
   "version": "3.8.5"
  }
 },
 "nbformat": 4,
 "nbformat_minor": 2
}
